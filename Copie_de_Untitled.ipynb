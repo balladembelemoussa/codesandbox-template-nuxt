{
  "nbformat": 4,
  "nbformat_minor": 0,
  "metadata": {
    "colab": {
      "provenance": [],
      "toc_visible": true,
      "include_colab_link": true
    },
    "kernelspec": {
      "name": "python3",
      "display_name": "Python 3"
    },
    "language_info": {
      "name": "python"
    }
  },
  "cells": [
    {
      "cell_type": "markdown",
      "metadata": {
        "id": "view-in-github",
        "colab_type": "text"
      },
      "source": [
        "<a href=\"https://colab.research.google.com/github/balladembelemoussa/codesandbox-template-nuxt/blob/main/Copie_de_Untitled.ipynb\" target=\"_parent\"><img src=\"https://colab.research.google.com/assets/colab-badge.svg\" alt=\"Open In Colab\"/></a>"
      ]
    },
    {
      "cell_type": "markdown",
      "source": [
        "**Apprentissage automatique - Recherche de grille**"
      ],
      "metadata": {
        "id": "ITBi2i45y93K"
      }
    },
    {
      "cell_type": "markdown",
      "source": [
        "Recherche de grille\n",
        "La majorité des modèles d'apprentissage automatique contiennent des paramètres qui peuvent être ajustés pour faire varier la façon dont le modèle apprend. Par exemple, le modèle de régression logistique, de sklearn, a un paramètre Cqui contrôle la régularisation, ce qui affecte la complexité du modèle.\n",
        "\n",
        "Comment choisissons-nous le meilleur rapport qualité-prix pour C? La meilleure valeur dépend des données utilisées pour entraîner le modèle.\n",
        "\n",
        "Comment ça marche?\n",
        "Une méthode consiste à essayer différentes valeurs, puis à choisir la valeur qui donne le meilleur score. Cette technique est connue sous le nom de recherche par grille . Si nous devions sélectionner les valeurs de deux paramètres ou plus, nous évaluerions toutes les combinaisons des ensembles de valeurs, formant ainsi une grille de valeurs.\n",
        "\n",
        "Avant d'entrer dans l'exemple, il est bon de savoir ce que fait le paramètre que nous modifions. Des valeurs plus élevées Cindiquent au modèle que les données d'entraînement ressemblent aux informations du monde réel, accordent un plus grand poids aux données d'entraînement. Tandis que des valeurs inférieures de Cfont le contraire.\n",
        "\n",
        "Utilisation des paramètres par défaut\n",
        "Voyons d'abord quel type de résultats nous pouvons générer sans une recherche de grille en utilisant uniquement les paramètres de base.\n",
        "\n",
        "Pour commencer, nous devons d'abord charger le jeu de données avec lequel nous allons travailler."
      ],
      "metadata": {
        "id": "DmQ6q4-vzB_I"
      }
    },
    {
      "cell_type": "code",
      "source": [
        "from sklearn import datasets\n",
        "iris = datasets.load_iris()"
      ],
      "metadata": {
        "id": "X2NndghRzI6A"
      },
      "execution_count": 1,
      "outputs": []
    },
    {
      "cell_type": "markdown",
      "source": [
        "Ensuite, pour créer le modèle, nous devons disposer d'un ensemble de variables indépendantes X et d'une variable dépendante y."
      ],
      "metadata": {
        "id": "-iT6lpF2zSDo"
      }
    },
    {
      "cell_type": "code",
      "source": [
        "X = iris['data']\n",
        "y = iris['target']"
      ],
      "metadata": {
        "id": "fEheFD1szTeE"
      },
      "execution_count": 2,
      "outputs": []
    },
    {
      "cell_type": "markdown",
      "source": [
        "Nous allons maintenant charger le modèle logistique pour classer les fleurs d'iris."
      ],
      "metadata": {
        "id": "rhNqItsFzX1a"
      }
    },
    {
      "cell_type": "code",
      "source": [
        "from sklearn.linear_model import LogisticRegression"
      ],
      "metadata": {
        "id": "e9w4cSD3zbb7"
      },
      "execution_count": 3,
      "outputs": []
    },
    {
      "cell_type": "markdown",
      "source": [
        "Création du modèle, définition de max_iter sur une valeur plus élevée pour s'assurer que le modèle trouve un résultat.\n",
        "\n",
        "Gardez à l'esprit que la valeur par défaut pour Cdans un modèle de régression logistique est 1, nous comparerons cela plus tard.\n",
        "\n",
        "Dans l'exemple ci-dessous, nous examinons l'ensemble de données de l'iris et essayons de former un modèle avec des valeurs variables pour Cla régression logistique."
      ],
      "metadata": {
        "id": "X1HQd1C2zhHJ"
      }
    },
    {
      "cell_type": "code",
      "source": [
        "logit = LogisticRegression(max_iter = 10000)"
      ],
      "metadata": {
        "id": "98boyHEUzky-"
      },
      "execution_count": 4,
      "outputs": []
    },
    {
      "cell_type": "markdown",
      "source": [
        "Après avoir créé le modèle, nous devons ajuster le modèle aux données."
      ],
      "metadata": {
        "id": "eEKkz1x3zosP"
      }
    },
    {
      "cell_type": "code",
      "source": [
        "print(logit.fit(X,y))"
      ],
      "metadata": {
        "colab": {
          "base_uri": "https://localhost:8080/"
        },
        "id": "2W6YZnrhzp1y",
        "outputId": "e581ef80-b3d7-4ad3-e487-e3994b0a6001"
      },
      "execution_count": 5,
      "outputs": [
        {
          "output_type": "stream",
          "name": "stdout",
          "text": [
            "LogisticRegression(max_iter=10000)\n"
          ]
        }
      ]
    },
    {
      "cell_type": "markdown",
      "source": [
        "Pour évaluer le modèle, nous exécutons la méthode de score."
      ],
      "metadata": {
        "id": "R5SR7P7-zwja"
      }
    },
    {
      "cell_type": "code",
      "source": [
        "print(logit.score(X,y))"
      ],
      "metadata": {
        "colab": {
          "base_uri": "https://localhost:8080/"
        },
        "id": "SJBirz54zxaq",
        "outputId": "c6f4bac1-68a5-4eb6-fa29-e67d54b59e60"
      },
      "execution_count": 6,
      "outputs": [
        {
          "output_type": "stream",
          "name": "stdout",
          "text": [
            "0.9733333333333334\n"
          ]
        }
      ]
    },
    {
      "cell_type": "markdown",
      "source": [
        "Exemple"
      ],
      "metadata": {
        "id": "LQZYtdoyz3P2"
      }
    },
    {
      "cell_type": "code",
      "source": [
        "from sklearn import datasets\n",
        "from sklearn.linear_model import LogisticRegression\n",
        "\n",
        "iris = datasets.load_iris()\n",
        "\n",
        "X = iris['data']\n",
        "y = iris['target']\n",
        "\n",
        "logit = LogisticRegression(max_iter = 10000)\n",
        "\n",
        "print(logit.fit(X,y))\n",
        "\n",
        "print(logit.score(X,y))"
      ],
      "metadata": {
        "colab": {
          "base_uri": "https://localhost:8080/"
        },
        "id": "j9I9xME3z4Ng",
        "outputId": "67691b1d-1cc7-4db6-993b-c9f411c08bbf"
      },
      "execution_count": 8,
      "outputs": [
        {
          "output_type": "stream",
          "name": "stdout",
          "text": [
            "LogisticRegression(max_iter=10000)\n",
            "0.9733333333333334\n"
          ]
        }
      ]
    },
    {
      "cell_type": "markdown",
      "source": [
        "vec le réglage par défaut de C = 1, nous avons obtenu un score de 0.973.\n",
        "\n",
        "Voyons si nous pouvons faire mieux en implémentant une recherche par grille avec des valeurs de différence de 0,973."
      ],
      "metadata": {
        "id": "iwEb46ff0B-2"
      }
    },
    {
      "cell_type": "markdown",
      "source": [
        "Implémentation de la recherche de grille\n",
        "Nous suivrons les mêmes étapes qu'auparavant, sauf que cette fois nous définirons une plage de valeurs pour C.\n",
        "\n",
        "Savoir quelles valeurs définir pour les paramètres recherchés nécessitera une combinaison de connaissances du domaine et de pratique.\n",
        "\n",
        "Étant donné que la valeur par défaut pour Cest 1, nous allons définir une plage de valeurs qui l'entoure."
      ],
      "metadata": {
        "id": "ab6B1UoH0LOT"
      }
    },
    {
      "cell_type": "code",
      "source": [
        "C = [0.25, 0.5, 0.75, 1, 1.25, 1.5, 1.75, 2]"
      ],
      "metadata": {
        "id": "nd6IhVWH0PPj"
      },
      "execution_count": 9,
      "outputs": []
    },
    {
      "cell_type": "markdown",
      "source": [
        "Ensuite, nous allons créer une boucle for pour modifier les valeurs de Cet évaluer le modèle à chaque modification.\n",
        "\n",
        "Nous allons d'abord créer une liste vide pour y stocker le score"
      ],
      "metadata": {
        "id": "Mc3S4h-p0Sha"
      }
    },
    {
      "cell_type": "code",
      "source": [
        "scores = []"
      ],
      "metadata": {
        "id": "eMz74GnP0V2_"
      },
      "execution_count": 10,
      "outputs": []
    },
    {
      "cell_type": "markdown",
      "source": [
        "Pour changer les valeurs de Cnous devons boucler sur la plage de valeurs et mettre à jour le paramètre à chaque fois."
      ],
      "metadata": {
        "id": "rxqrQEHa0ctw"
      }
    },
    {
      "cell_type": "code",
      "source": [
        "for choice in C:\n",
        "  logit.set_params(C=choice)\n",
        "  logit.fit(X, y)\n",
        "  scores.append(logit.score(X, y))"
      ],
      "metadata": {
        "id": "61JeSUrA0dja"
      },
      "execution_count": 11,
      "outputs": []
    },
    {
      "cell_type": "markdown",
      "source": [
        "Avec les scores stockés dans une liste, nous pouvons évaluer quel Cest le meilleur choix."
      ],
      "metadata": {
        "id": "cIAzdrWL0kQn"
      }
    },
    {
      "cell_type": "code",
      "source": [
        "print(scores)"
      ],
      "metadata": {
        "colab": {
          "base_uri": "https://localhost:8080/"
        },
        "id": "Rqj_a9On0la1",
        "outputId": "58148f23-1d29-4bda-c282-860983d1b93e"
      },
      "execution_count": 12,
      "outputs": [
        {
          "output_type": "stream",
          "name": "stdout",
          "text": [
            "[0.9666666666666667, 0.9666666666666667, 0.9733333333333334, 0.9733333333333334, 0.98, 0.98, 0.9866666666666667, 0.9866666666666667]\n"
          ]
        }
      ]
    },
    {
      "cell_type": "markdown",
      "source": [
        "**Exemple**"
      ],
      "metadata": {
        "id": "XSZZP3r60sNX"
      }
    },
    {
      "cell_type": "code",
      "source": [
        "from sklearn import datasets\n",
        "from sklearn.linear_model import LogisticRegression\n",
        "\n",
        "iris = datasets.load_iris()\n",
        "\n",
        "X = iris['data']\n",
        "y = iris['target']\n",
        "\n",
        "logit = LogisticRegression(max_iter = 10000)\n",
        "\n",
        "C = [0.25, 0.5, 0.75, 1, 1.25, 1.5, 1.75, 2]\n",
        "\n",
        "scores = []\n",
        "\n",
        "for choice in C:\n",
        "  logit.set_params(C=choice)\n",
        "  logit.fit(X, y)\n",
        "  scores.append(logit.score(X, y))\n",
        "\n",
        "print(scores)\n"
      ],
      "metadata": {
        "colab": {
          "base_uri": "https://localhost:8080/"
        },
        "id": "9uqkfmQ20uSq",
        "outputId": "e1e35b0a-481e-46c2-fe8b-b0c6401eeab2"
      },
      "execution_count": 13,
      "outputs": [
        {
          "output_type": "stream",
          "name": "stdout",
          "text": [
            "[0.9666666666666667, 0.9666666666666667, 0.9733333333333334, 0.9733333333333334, 0.98, 0.98, 0.9866666666666667, 0.9866666666666667]\n"
          ]
        }
      ]
    },
    {
      "cell_type": "markdown",
      "source": [
        "Résultats expliqués\n",
        "Nous pouvons voir que les valeurs inférieures de Cs'exécutent moins bien que le paramètre de base de 1. Cependant, à mesure que nous augmentons la valeur de C, 1.75le modèle a connu une précision accrue.\n",
        "\n",
        "Il semble que l'augmentation Cau-delà de ce montant n'aide pas à augmenter la précision du modèle.\n",
        "\n",
        "Remarque sur les meilleures pratiques\n",
        "Nous avons noté notre modèle de régression logistique en utilisant les mêmes données que celles utilisées pour l'entraîner. Si le modèle correspond trop étroitement à ces données, il peut ne pas être efficace pour prédire des données invisibles. Cette erreur statistique est connue sous le nom de sur-ajustement .\n",
        "\n",
        "Pour éviter d'être induit en erreur par les scores sur les données d'apprentissage, nous pouvons mettre de côté une partie de nos données et l'utiliser spécifiquement dans le but de tester le modèle. Reportez-vous au cours sur le fractionnement train/test pour éviter d'être induit en erreur et de sur-adapter."
      ],
      "metadata": {
        "id": "wfyJGskB09G9"
      }
    },
    {
      "cell_type": "markdown",
      "source": [
        "**Prétraitement - Données catégorielles**"
      ],
      "metadata": {
        "id": "nC98dltT1S7Z"
      }
    },
    {
      "cell_type": "markdown",
      "source": [
        "Données catégorielles\n",
        "Lorsque vos données comportent des catégories représentées par des chaînes, il sera difficile de les utiliser pour former des modèles d'apprentissage automatique qui n'acceptent souvent que des données numériques.\n",
        "\n",
        "Au lieu d'ignorer les données catégorielles et d'exclure les informations de notre modèle, vous pouvez transformer les données afin qu'elles puissent être utilisées dans vos modèles.\n",
        "\n",
        "Jetez un œil au tableau ci-dessous, il s'agit du même ensemble de données que nous avons utilisé dans le chapitre sur la régression multiple .\n",
        "\n",
        "Exemple"
      ],
      "metadata": {
        "id": "kzUMYeC71UnJ"
      }
    },
    {
      "cell_type": "markdown",
      "source": [
        "**Résultat**"
      ],
      "metadata": {
        "id": "DCcGijx1177i"
      }
    },
    {
      "cell_type": "code",
      "source": [
        "import matplotlib.pyplot as plt\n",
        "\n",
        "x = [4, 5, 10, 4, 3, 11, 14 , 6, 10, 12]\n",
        "y = [21, 19, 24, 17, 16, 25, 24, 22, 21, 21]\n",
        "\n",
        "plt.scatter(x, y)\n",
        "plt.show()"
      ],
      "metadata": {
        "colab": {
          "base_uri": "https://localhost:8080/",
          "height": 265
        },
        "id": "2iaozkvZ1-qp",
        "outputId": "7839337e-fd90-4eb0-9641-ff0b6da52c6a"
      },
      "execution_count": 16,
      "outputs": [
        {
          "output_type": "display_data",
          "data": {
            "text/plain": [
              "<Figure size 432x288 with 1 Axes>"
            ],
            "image/png": "[encoded data removed]"
          },
          "metadata": {
            "needs_background": "light"
          }
        }
      ]
    }
  ]
}