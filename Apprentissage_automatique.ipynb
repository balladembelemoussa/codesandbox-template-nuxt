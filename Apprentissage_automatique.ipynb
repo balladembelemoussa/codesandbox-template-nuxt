{
  "nbformat": 4,
  "nbformat_minor": 0,
  "metadata": {
    "colab": {
      "provenance": [],
      "authorship_tag": "ABX9TyMm5oRUQ3s2L7INWugqnQ+D",
      "include_colab_link": true
    },
    "kernelspec": {
      "name": "python3",
      "display_name": "Python 3"
    },
    "language_info": {
      "name": "python"
    }
  },
  "cells": [
    {
      "cell_type": "markdown",
      "metadata": {
        "id": "view-in-github",
        "colab_type": "text"
      },
      "source": [
        "<a href=\"https://colab.research.google.com/github/balladembelemoussa/codesandbox-template-nuxt/blob/main/Apprentissage_automatique.ipynb\" target=\"_parent\"><img src=\"https://colab.research.google.com/assets/colab-badge.svg\" alt=\"Open In Colab\"/></a>"
      ]
    },
    {
      "cell_type": "markdown",
      "source": [
        "**Apprentissage automatique**"
      ],
      "metadata": {
        "id": "tYvrNNbukQQ1"
      }
    },
    {
      "cell_type": "markdown",
      "source": [
        "L'apprentissage automatique permet à l'ordinateur d'apprendre à partir de l'étude de données et de statistiques.\n",
        "\n",
        "L'apprentissage automatique est un pas dans la direction de l'intelligence artificielle (IA).\n",
        "\n",
        "Machine Learning est un programme qui analyse les données et apprend à prédire le résultat.\n",
        "\n",
        "Où commencer?\n",
        "Dans ce didacticiel, nous reviendrons sur les mathématiques et les statistiques d'étude, et comment calculer des nombres importants basés sur des ensembles de données.\n",
        "\n",
        "Nous apprendrons également à utiliser divers modules Python pour obtenir les réponses dont nous avons besoin.\n",
        "\n",
        "Et nous apprendrons comment créer des fonctions capables de prédire le résultat en fonction de ce que nous avons appris.\n",
        "\n",
        "Base de données\n",
        "Dans l'esprit d'un ordinateur, un ensemble de données est une collection de données. Il peut s'agir de n'importe quoi, d'un tableau à une base de données complète.\n",
        "\n",
        "**Exemple de tableau** :"
      ],
      "metadata": {
        "id": "qZ-GRqe1kUXC"
      }
    },
    {
      "cell_type": "code",
      "source": [
        "[99,86,87,88,111,86,103,87,94,78,77,85,86]"
      ],
      "metadata": {
        "colab": {
          "base_uri": "https://localhost:8080/"
        },
        "id": "WJgTXPqNkf0p",
        "outputId": "21d0e119-9b68-4a02-a837-b8f11e149d83"
      },
      "execution_count": 1,
      "outputs": [
        {
          "output_type": "execute_result",
          "data": {
            "text/plain": [
              "[99, 86, 87, 88, 111, 86, 103, 87, 94, 78, 77, 85, 86]"
            ]
          },
          "metadata": {},
          "execution_count": 1
        }
      ]
    },
    {
      "cell_type": "markdown",
      "source": [
        "**Exemple de base de données** :"
      ],
      "metadata": {
        "id": "fdvPGZuskpk7"
      }
    },
    {
      "cell_type": "markdown",
      "source": [
        "En regardant le tableau, nous pouvons deviner que la valeur moyenne est probablement autour de 80 ou 90, et nous sommes également en mesure de déterminer la valeur la plus élevée et la valeur la plus faible, mais que pouvons-nous faire d'autre ?\n",
        "\n",
        "Et en regardant la base de données, nous pouvons voir que la couleur la plus populaire est le blanc et que la voiture la plus âgée a 17 ans, mais que se passerait-il si nous pouvions prédire si une voiture avait un AutoPass, simplement en regardant les autres valeurs ?\n",
        "\n",
        "C'est à cela que sert le Machine Learning ! Analyser les données et prédire le résultat !\n",
        "\n",
        "En Machine Learning, il est courant de travailler avec de très grands ensembles de données. Dans ce didacticiel, nous essaierons de faciliter au maximum la compréhension des différents concepts de machine learning, et nous travaillerons avec de petits ensembles de données faciles à comprendre."
      ],
      "metadata": {
        "id": "tHNeogZ4kwbt"
      }
    },
    {
      "cell_type": "markdown",
      "source": [
        "Types de données\n",
        "Pour analyser des données, il est important de savoir à quel type de données nous avons affaire.\n",
        "\n",
        "Nous pouvons diviser les types de données en trois catégories principales :\n",
        "\n",
        "Numérique\n",
        "Catégorique\n",
        "Ordinal\n",
        "Les données numériques sont des nombres et peuvent être divisées en deux catégories numériques :\n",
        "\n",
        "Données discrètes\n",
        "- nombres limités à des nombres entiers. Exemple : Le nombre de voitures qui passent.\n",
        "Données continues\n",
        "- nombres qui ont une valeur infinie. Exemple : Le prix d'un article ou la taille d'un article\n",
        "Les données catégorielles sont des valeurs qui ne peuvent pas être mesurées les unes par rapport aux autres. Exemple : une valeur de couleur ou toute valeur oui/non.\n",
        "\n",
        "Les données ordinales sont comme des données catégorielles, mais peuvent être mesurées les unes par rapport aux autres. Exemple : notes scolaires où A est meilleur que B et ainsi de suite.\n",
        "\n",
        "En connaissant le type de données de votre source de données, vous pourrez savoir quelle technique utiliser lors de leur analyse.\n",
        "\n",
        "Vous en apprendrez plus sur les statistiques et l'analyse des données dans les chapitres suivant"
      ],
      "metadata": {
        "id": "Wo3J9LMQk-ny"
      }
    },
    {
      "cell_type": "markdown",
      "source": [
        "**Apprentissage automatique - Mode médian moyen**"
      ],
      "metadata": {
        "id": "f6jQPZX6lFEv"
      }
    },
    {
      "cell_type": "markdown",
      "source": [
        "Moyenne, médiane et mode\n",
        "Que pouvons-nous apprendre en regardant un groupe de nombres ?\n",
        "\n",
        "En Machine Learning (et en mathématiques) il y a souvent trois valeurs qui nous intéressent :\n",
        "\n",
        "Moyenne - La valeur moyenne\n",
        "Médiane - La valeur médiane\n",
        "Mode - La valeur la plus courante\n",
        "Exemple : Nous avons enregistré la vitesse de 13 voitures :"
      ],
      "metadata": {
        "id": "r4lqLxlMlLw3"
      }
    },
    {
      "cell_type": "code",
      "source": [
        "speed = [99,86,87,88,111,86,103,87,94,78,77,85,86]"
      ],
      "metadata": {
        "id": "KAtjVBTPlNkw"
      },
      "execution_count": 2,
      "outputs": []
    },
    {
      "cell_type": "markdown",
      "source": [
        "Quelle est la valeur de vitesse moyenne, médiane ou la plus courante ?\n",
        "\n",
        "Moyenne\n",
        "La valeur moyenne est la valeur moyenne.\n",
        "\n",
        "Pour calculer la moyenne, trouvez la somme de toutes les valeurs et divisez la somme par le nombre de valeurs :"
      ],
      "metadata": {
        "id": "w2IV5-w_lTF4"
      }
    },
    {
      "cell_type": "markdown",
      "source": [
        "(99+86+87+88+111+86+103+87+94+78+77+85+86) / 13 = 89.77"
      ],
      "metadata": {
        "id": "FjeAQ1MIldZb"
      }
    },
    {
      "cell_type": "markdown",
      "source": [
        "Le module NumPy a une méthode pour cela. Découvrez le module NumPy dans notre Tutoriel NumPy .\n",
        "\n",
        "Exemple\n",
        "Utilisez la méthode NumPy mean()pour trouver la vitesse moyenne"
      ],
      "metadata": {
        "id": "d0aT_mNXlk4_"
      }
    },
    {
      "cell_type": "code",
      "source": [
        "import numpy\n",
        "\n",
        "speed = [99,86,87,88,111,86,103,87,94,78,77,85,86]\n",
        "\n",
        "x = numpy.mean(speed)\n",
        "\n",
        "print(x)"
      ],
      "metadata": {
        "colab": {
          "base_uri": "https://localhost:8080/"
        },
        "id": "hYEtA4V6lfR_",
        "outputId": "d14b781d-3492-4574-f037-9da560170e6b"
      },
      "execution_count": 5,
      "outputs": [
        {
          "output_type": "stream",
          "name": "stdout",
          "text": [
            "89.76923076923077\n"
          ]
        }
      ]
    },
    {
      "cell_type": "markdown",
      "source": [
        "Médian\n",
        "La valeur médiane est la valeur du milieu, après avoir trié toutes les valeurs :\n",
        "\n",
        "77, 78, 85, 86, 86, 86, 87, 87, 88, 94, 99, 103, 111\n",
        "\n",
        "Il est important que les nombres soient triés avant de pouvoir trouver la médiane.\n",
        "\n",
        "Le module NumPy a une méthode pour cela :\n",
        "\n",
        "**Exemple**\n",
        "Utilisez la méthode NumPy median()pour trouver la valeur médiane :"
      ],
      "metadata": {
        "id": "icDus4UzlupR"
      }
    },
    {
      "cell_type": "code",
      "source": [
        "import numpy\n",
        "\n",
        "speed = [99,86,87,88,111,86,103,87,94,78,77,85,86]\n",
        "\n",
        "x = numpy.median(speed)\n",
        "\n",
        "print(x)"
      ],
      "metadata": {
        "colab": {
          "base_uri": "https://localhost:8080/"
        },
        "id": "10p73qyPlxA4",
        "outputId": "08dd3610-9287-41fe-ae03-1afe0c804339"
      },
      "execution_count": 6,
      "outputs": [
        {
          "output_type": "stream",
          "name": "stdout",
          "text": [
            "87.0\n"
          ]
        }
      ]
    },
    {
      "cell_type": "markdown",
      "source": [
        "S'il y a deux nombres au milieu, divisez la somme de ces nombres par deux.\n",
        "\n",
        "77, 78, 85, 86, 86, 86, 87, 87, 94, 98, 99, 103\n",
        "\n",
        "(86 + 87) / 2 = 86.5\n",
        "\n",
        "**Exemple**\n",
        "Utilisation du module NumPy :"
      ],
      "metadata": {
        "id": "fth6g_qrl4zG"
      }
    },
    {
      "cell_type": "code",
      "source": [
        "import numpy\n",
        "\n",
        "speed = [99,86,87,88,86,103,87,94,78,77,85,86]\n",
        "\n",
        "x = numpy.median(speed)\n",
        "\n",
        "print(x)"
      ],
      "metadata": {
        "colab": {
          "base_uri": "https://localhost:8080/"
        },
        "id": "1R1Wo1Xpl69-",
        "outputId": "087daa05-3257-4182-df25-00d5409042c4"
      },
      "execution_count": 7,
      "outputs": [
        {
          "output_type": "stream",
          "name": "stdout",
          "text": [
            "86.5\n"
          ]
        }
      ]
    },
    {
      "cell_type": "markdown",
      "source": [
        "Mode\n",
        "La valeur Mode est la valeur qui apparaît le plus de fois :\n",
        "\n",
        "99, 86, 87, 88, 111, 86, 103, 87, 94, 78, 77, 85, 86 = 86\n",
        "\n",
        "Le module SciPy a une méthode pour cela. Découvrez le module SciPy dans notre didacticiel SciPy .\n",
        "\n",
        "Exemple\n",
        "Utilisez la méthode SciPy mode()pour trouver le nombre qui apparaît le plus "
      ],
      "metadata": {
        "id": "eh-b1JZKmGW9"
      }
    },
    {
      "cell_type": "code",
      "source": [
        "from scipy import stats\n",
        "\n",
        "speed = [99,86,87,88,111,86,103,87,94,78,77,85,86]\n",
        "\n",
        "x = stats.mode(speed)\n",
        "\n",
        "print(x)"
      ],
      "metadata": {
        "colab": {
          "base_uri": "https://localhost:8080/"
        },
        "id": "4wQHy8JumJfb",
        "outputId": "09d730dc-5db2-4024-c876-19285a8d583a"
      },
      "execution_count": 8,
      "outputs": [
        {
          "output_type": "stream",
          "name": "stdout",
          "text": [
            "ModeResult(mode=array([86]), count=array([3]))\n"
          ]
        }
      ]
    },
    {
      "cell_type": "markdown",
      "source": [
        "Résumé du chapitre\n",
        "La moyenne, la médiane et le mode sont des techniques souvent utilisées dans l'apprentissage automatique, il est donc important de comprendre le concept qui les sous-tend."
      ],
      "metadata": {
        "id": "BGcxpArEmOLK"
      }
    },
    {
      "cell_type": "markdown",
      "source": [
        "**Apprentissage automatique - Écart type**"
      ],
      "metadata": {
        "id": "6Yjn-U73mdFH"
      }
    },
    {
      "cell_type": "markdown",
      "source": [
        "Qu'est-ce que l'écart type ?\n",
        "L'écart type est un nombre qui décrit la répartition des valeurs.\n",
        "\n",
        "Un écart-type faible signifie que la plupart des nombres sont proches de la valeur moyenne (moyenne).\n",
        "\n",
        "Un écart-type élevé signifie que les valeurs sont réparties sur une plage plus large.\n",
        "\n",
        "Exemple : Cette fois, nous avons enregistré la vitesse de 7 voitures :"
      ],
      "metadata": {
        "id": "m5OhPnxemimi"
      }
    },
    {
      "cell_type": "code",
      "source": [
        "speed = [86,87,88,86,87,85,86]"
      ],
      "metadata": {
        "id": "GCU-Cs3xmla_"
      },
      "execution_count": 9,
      "outputs": []
    },
    {
      "cell_type": "markdown",
      "source": [
        "L'écart type est :"
      ],
      "metadata": {
        "id": "K9UD2fydmokr"
      }
    },
    {
      "cell_type": "code",
      "source": [
        "0.9"
      ],
      "metadata": {
        "colab": {
          "base_uri": "https://localhost:8080/"
        },
        "id": "Nfo8VzfYmsRJ",
        "outputId": "798e0650-b2e8-4724-8e01-e01f2aebf232"
      },
      "execution_count": 10,
      "outputs": [
        {
          "output_type": "execute_result",
          "data": {
            "text/plain": [
              "0.9"
            ]
          },
          "metadata": {},
          "execution_count": 10
        }
      ]
    },
    {
      "cell_type": "markdown",
      "source": [
        "Cela signifie que la plupart des valeurs se situent dans la plage de 0,9 par rapport à la valeur moyenne, qui est de 86,4.\n",
        "\n",
        "Faisons de même avec une sélection de nombres avec une plage plus large :"
      ],
      "metadata": {
        "id": "YreIK8ZXmxDz"
      }
    },
    {
      "cell_type": "code",
      "source": [
        "speed = [32,111,138,28,59,77,97]"
      ],
      "metadata": {
        "id": "6RuGgMatm0ZG"
      },
      "execution_count": 11,
      "outputs": []
    },
    {
      "cell_type": "markdown",
      "source": [
        "L'écart type est :"
      ],
      "metadata": {
        "id": "aK9yHYJGm702"
      }
    },
    {
      "cell_type": "code",
      "source": [
        "37.85"
      ],
      "metadata": {
        "colab": {
          "base_uri": "https://localhost:8080/"
        },
        "id": "Pah46bZFm86f",
        "outputId": "e3ee328b-8d27-4919-c218-73e819f26a8c"
      },
      "execution_count": 12,
      "outputs": [
        {
          "output_type": "execute_result",
          "data": {
            "text/plain": [
              "37.85"
            ]
          },
          "metadata": {},
          "execution_count": 12
        }
      ]
    },
    {
      "cell_type": "markdown",
      "source": [
        "Cela signifie que la plupart des valeurs se situent dans la plage de 37,85 par rapport à la valeur moyenne, qui est de 77,4.\n",
        "\n",
        "Comme vous pouvez le constater, un écart type plus élevé indique que les valeurs sont réparties sur une plage plus large.\n",
        "\n",
        "Le module NumPy a une méthode pour calculer l'écart type :\n",
        "\n",
        "Exemple\n",
        "Utilisez la méthode NumPy std()pour trouver l'écart type :"
      ],
      "metadata": {
        "id": "CeBjtyvZnEmq"
      }
    },
    {
      "cell_type": "code",
      "source": [
        "import numpy\n",
        "\n",
        "speed = [86,87,88,86,87,85,86]\n",
        "\n",
        "x = numpy.std(speed)\n",
        "\n",
        "print(x)"
      ],
      "metadata": {
        "colab": {
          "base_uri": "https://localhost:8080/"
        },
        "id": "9XHR4kmgnHkt",
        "outputId": "82296b69-615b-471e-b444-87ba7f260bdc"
      },
      "execution_count": 13,
      "outputs": [
        {
          "output_type": "stream",
          "name": "stdout",
          "text": [
            "0.9035079029052513\n"
          ]
        }
      ]
    },
    {
      "cell_type": "markdown",
      "source": [
        "**Exemple**"
      ],
      "metadata": {
        "id": "bmL4PIBmnMT4"
      }
    },
    {
      "cell_type": "code",
      "source": [
        "import numpy\n",
        "\n",
        "speed = [32,111,138,28,59,77,97]\n",
        "\n",
        "x = numpy.std(speed)\n",
        "\n",
        "print(x)"
      ],
      "metadata": {
        "colab": {
          "base_uri": "https://localhost:8080/"
        },
        "id": "hZpVSqOQnNtH",
        "outputId": "1ab5510c-6f49-45b4-cc46-d7b6202429a1"
      },
      "execution_count": 14,
      "outputs": [
        {
          "output_type": "stream",
          "name": "stdout",
          "text": [
            "37.84501153334721\n"
          ]
        }
      ]
    },
    {
      "cell_type": "markdown",
      "source": [
        "Variance\n",
        "La variance est un autre nombre qui indique à quel point les valeurs sont réparties.\n",
        "\n",
        "En fait, si vous prenez la racine carrée de la variance, vous obtenez l'écart type !\n",
        "\n",
        "Ou à l'inverse, si vous multipliez l'écart-type par lui-même, vous obtenez la variance !\n",
        "\n",
        "Pour calculer la variance, vous devez procéder comme suit :\n",
        "\n",
        "1. Trouvez la moyenne :"
      ],
      "metadata": {
        "id": "CchdJeWUnyAW"
      }
    },
    {
      "cell_type": "code",
      "source": [
        "(32+111+138+28+59+77+97) / 7 = 77.4"
      ],
      "metadata": {
        "id": "u6orY6-Hnl17"
      },
      "execution_count": null,
      "outputs": []
    },
    {
      "cell_type": "markdown",
      "source": [
        "2. Pour chaque valeur : trouvez la différence par rapport à la moyenne :"
      ],
      "metadata": {
        "id": "k3HJmez2n2cF"
      }
    },
    {
      "cell_type": "code",
      "source": [
        " 32 - 77.4 = -45.4\n",
        "111 - 77.4 =  33.6\n",
        "138 - 77.4 =  60.6\n",
        " 28 - 77.4 = -49.4\n",
        " 59 - 77.4 = -18.4\n",
        " 77 - 77.4 = - 0.4\n",
        " 97 - 77.4 =  19.6"
      ],
      "metadata": {
        "id": "NW-TSqqMoBNZ"
      },
      "execution_count": null,
      "outputs": []
    },
    {
      "cell_type": "markdown",
      "source": [
        "3. Pour chaque différence : trouvez la valeur au carré :"
      ],
      "metadata": {
        "id": "RKTSNrgHoCWq"
      }
    },
    {
      "cell_type": "code",
      "source": [
        "(-45.4)2 = 2061.16\n",
        " (33.6)2 = 1128.96\n",
        " (60.6)2 = 3672.36\n",
        "(-49.4)2 = 2440.36\n",
        "(-18.4)2 =  338.56\n",
        "(- 0.4)2 =    0.16\n",
        " (19.6)2 =  384.16"
      ],
      "metadata": {
        "id": "lIO7q7zuoFC2"
      },
      "execution_count": null,
      "outputs": []
    },
    {
      "cell_type": "markdown",
      "source": [
        "4. La variance est le nombre moyen de ces différences au carré :"
      ],
      "metadata": {
        "id": "UXdsMzaloILP"
      }
    },
    {
      "cell_type": "code",
      "source": [
        "(2061.16+1128.96+3672.36+2440.36+338.56+0.16+384.16) / 7 = 1432.2"
      ],
      "metadata": {
        "id": "c2U_NIi5oNhV"
      },
      "execution_count": null,
      "outputs": []
    },
    {
      "cell_type": "code",
      "source": [
        "(2061.16+1128.96+3672.36+2440.36+338.56+0.16+384.16) / 7 = 1432.2"
      ],
      "metadata": {
        "id": "OoAEceE9oQid"
      },
      "execution_count": null,
      "outputs": []
    },
    {
      "cell_type": "code",
      "source": [
        "import numpy\n",
        "\n",
        "speed = [32,111,138,28,59,77,97]\n",
        "\n",
        "x = numpy.var(speed)\n",
        "\n",
        "print(x)"
      ],
      "metadata": {
        "colab": {
          "base_uri": "https://localhost:8080/"
        },
        "id": "ccNgUV88oUll",
        "outputId": "3b284f7f-d850-4006-ccff-25c99b186d0f"
      },
      "execution_count": 18,
      "outputs": [
        {
          "output_type": "stream",
          "name": "stdout",
          "text": [
            "1432.2448979591834\n"
          ]
        }
      ]
    },
    {
      "cell_type": "markdown",
      "source": [
        "Écart-type\n",
        "Comme nous l'avons appris, la formule pour trouver l'écart type est la racine carrée de la variance :"
      ],
      "metadata": {
        "id": "do4ot73Hobip"
      }
    },
    {
      "cell_type": "code",
      "source": [
        "√1432.25 = 37.85"
      ],
      "metadata": {
        "id": "LT-RyOhrohJR"
      },
      "execution_count": null,
      "outputs": []
    },
    {
      "cell_type": "markdown",
      "source": [
        "Ou, comme dans l'exemple précédent, utilisez le NumPy pour calculer l'écart type :\n",
        "\n",
        "Exemple\n",
        "Utilisez la méthode NumPy std()pour trouver l'écart type :"
      ],
      "metadata": {
        "id": "saG_yGYCoiGR"
      }
    },
    {
      "cell_type": "code",
      "source": [
        "import numpy\n",
        "\n",
        "speed = [32,111,138,28,59,77,97]\n",
        "\n",
        "x = numpy.std(speed)\n",
        "\n",
        "print(x)"
      ],
      "metadata": {
        "colab": {
          "base_uri": "https://localhost:8080/"
        },
        "id": "AmprJvQwoohr",
        "outputId": "01d9d902-eeba-4092-d0d1-77136b5dcf9f"
      },
      "execution_count": 20,
      "outputs": [
        {
          "output_type": "stream",
          "name": "stdout",
          "text": [
            "37.84501153334721\n"
          ]
        }
      ]
    },
    {
      "cell_type": "markdown",
      "source": [
        "Symboles\n",
        "L'écart type est souvent représenté par le symbole Sigma : σ\n",
        "\n",
        "La variance est souvent représentée par le symbole Sigma Squared : σ 2\n",
        "\n",
        "Résumé du chapitre\n",
        "L'écart type et la variance sont des termes souvent utilisés dans l'apprentissage automatique, il est donc important de comprendre comment les obtenir et le concept qui les sous-tend."
      ],
      "metadata": {
        "id": "XyWtza4HotFN"
      }
    }
  ]
}