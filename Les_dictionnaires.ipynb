{
  "cells": [
    {
      "cell_type": "markdown",
      "metadata": {
        "id": "view-in-github",
        "colab_type": "text"
      },
      "source": [
        "<a href=\"https://colab.research.google.com/github/balladembelemoussa/codesandbox-template-nuxt/blob/main/Les_dictionnaires.ipynb\" target=\"_parent\"><img src=\"https://colab.research.google.com/assets/colab-badge.svg\" alt=\"Open In Colab\"/></a>"
      ]
    },
    {
      "cell_type": "code",
      "execution_count": null,
      "metadata": {
        "id": "vZF1QpxoKPiN"
      },
      "outputs": [],
      "source": [
        "mon_dictionnaire={\n",
        "    \"Marie\" : 15,\n",
        "    \"Thomas\" : 12,\n",
        "    \"Julien\" : \"absent\",\n",
        "    \"Elise\" : 9,\n",
        "    \"Samuel\" : 17\n",
        "}"
      ]
    },
    {
      "cell_type": "code",
      "execution_count": null,
      "metadata": {
        "id": "W5-ySu51KPiR",
        "outputId": "8dae1120-3344-452f-c64f-bf82233d02b1"
      },
      "outputs": [
        {
          "data": {
            "text/plain": [
              "{'Marie': 15, 'Thomas': 12, 'Julien': 'absent', 'Elise': 9, 'Samuel': 17}"
            ]
          },
          "execution_count": 2,
          "metadata": {},
          "output_type": "execute_result"
        }
      ],
      "source": [
        "mon_dictionnaire"
      ]
    },
    {
      "cell_type": "code",
      "execution_count": null,
      "metadata": {
        "id": "uqA974TFKPiU",
        "outputId": "59bd5834-00d5-4091-b38a-758057dd6e8b"
      },
      "outputs": [
        {
          "data": {
            "text/plain": [
              "17"
            ]
          },
          "execution_count": 3,
          "metadata": {},
          "output_type": "execute_result"
        }
      ],
      "source": [
        "mon_dictionnaire[\"Samuel\"]"
      ]
    },
    {
      "cell_type": "code",
      "execution_count": null,
      "metadata": {
        "id": "12NmsU6XKPiW",
        "outputId": "67349807-5c2d-4ff5-ec6c-86776245243b"
      },
      "outputs": [
        {
          "name": "stdout",
          "output_type": "stream",
          "text": [
            "{'Marie': 15, 'Thomas': 12, 'Julien': 'absent', 'Elise': 9, 'Samuel': 17, 'Julie': 9}\n"
          ]
        }
      ],
      "source": [
        "mon_dictionnaire[\"Julie\"]=9\n",
        "print(mon_dictionnaire)"
      ]
    },
    {
      "cell_type": "code",
      "execution_count": null,
      "metadata": {
        "id": "yd_Q0BPkKPiX",
        "outputId": "c3cdead8-6434-4d05-887f-2a2dc16b13fa"
      },
      "outputs": [
        {
          "name": "stdout",
          "output_type": "stream",
          "text": [
            "{'Marie': 15, 'Thomas': 12, 'Julien': 13, 'Elise': 9, 'Samuel': 17, 'Julie': 9}\n"
          ]
        }
      ],
      "source": [
        "mon_dictionnaire[\"Julien\"]=13\n",
        "print(mon_dictionnaire)"
      ]
    },
    {
      "cell_type": "code",
      "execution_count": null,
      "metadata": {
        "id": "Igyy2XpuKPiZ",
        "outputId": "6d0b1ca5-af6e-4a17-bad6-39c5fea7bc43"
      },
      "outputs": [
        {
          "name": "stdout",
          "output_type": "stream",
          "text": [
            "{'Marie': 15, 'Thomas': 12, 'Julien': 16, 'Elise': 9, 'Samuel': 17, 'Julie': 9}\n"
          ]
        }
      ],
      "source": [
        "mon_dictionnaire[\"Julien\"]=16\n",
        "print(mon_dictionnaire)"
      ]
    },
    {
      "cell_type": "code",
      "execution_count": null,
      "metadata": {
        "id": "vuiPNXc8KPia"
      },
      "outputs": [],
      "source": [
        "del mon_dictionnaire[\"Julie\"]"
      ]
    },
    {
      "cell_type": "code",
      "execution_count": null,
      "metadata": {
        "id": "pZ9Lxgm2KPic",
        "outputId": "9226cd1c-2d03-44fb-9b5a-5e15a3bf1aa1"
      },
      "outputs": [
        {
          "name": "stdout",
          "output_type": "stream",
          "text": [
            "{'Marie': 15, 'Thomas': 12, 'Julien': 16, 'Elise': 9, 'Samuel': 17}\n"
          ]
        }
      ],
      "source": [
        "print(mon_dictionnaire)"
      ]
    },
    {
      "cell_type": "code",
      "execution_count": null,
      "metadata": {
        "id": "B_Xo_4EIKPid",
        "outputId": "168067e2-21cd-4b80-846e-b8d363d75dd7"
      },
      "outputs": [
        {
          "data": {
            "text/plain": [
              "dict_keys(['Marie', 'Thomas', 'Julien', 'Elise', 'Samuel'])"
            ]
          },
          "execution_count": 15,
          "metadata": {},
          "output_type": "execute_result"
        }
      ],
      "source": [
        "mon_dictionnaire.keys()"
      ]
    },
    {
      "cell_type": "code",
      "execution_count": null,
      "metadata": {
        "id": "vYekn0-7KPif",
        "outputId": "5117dd4b-193c-47a5-fc35-5e9daf63cb3e"
      },
      "outputs": [
        {
          "data": {
            "text/plain": [
              "dict_values([15, 12, 16, 9, 17])"
            ]
          },
          "execution_count": 16,
          "metadata": {},
          "output_type": "execute_result"
        }
      ],
      "source": [
        "mon_dictionnaire.values()"
      ]
    },
    {
      "cell_type": "code",
      "execution_count": null,
      "metadata": {
        "id": "ako760w0KPih",
        "outputId": "a3b4717c-eb3a-4846-c6a7-6d2ad0c6c7ce"
      },
      "outputs": [
        {
          "name": "stdout",
          "output_type": "stream",
          "text": [
            "Marie\n",
            "Thomas\n",
            "Julien\n",
            "Elise\n",
            "Samuel\n"
          ]
        }
      ],
      "source": [
        "for cle in mon_dictionnaire.keys():\n",
        "    print(cle)"
      ]
    },
    {
      "cell_type": "code",
      "execution_count": null,
      "metadata": {
        "id": "PwYuZXHcKPii",
        "outputId": "bdeeb535-801d-43e4-86e1-80491701ef51"
      },
      "outputs": [
        {
          "name": "stdout",
          "output_type": "stream",
          "text": [
            "15\n",
            "12\n",
            "16\n",
            "9\n",
            "17\n"
          ]
        }
      ],
      "source": [
        "for valeur in mon_dictionnaire.values():\n",
        "    print(valeur)"
      ]
    },
    {
      "cell_type": "code",
      "execution_count": null,
      "metadata": {
        "id": "lcw_qEbYKPik",
        "outputId": "3c889653-47b0-46c9-b0bc-e0a51cd6caa5"
      },
      "outputs": [
        {
          "data": {
            "text/plain": [
              "dict_items([('Marie', 15), ('Thomas', 12), ('Julien', 16), ('Elise', 9), ('Samuel', 17)])"
            ]
          },
          "execution_count": 19,
          "metadata": {},
          "output_type": "execute_result"
        }
      ],
      "source": [
        "mon_dictionnaire.items()"
      ]
    },
    {
      "cell_type": "code",
      "execution_count": null,
      "metadata": {
        "id": "YWbh3gIbKPil",
        "outputId": "041d27f9-736d-4c4c-a250-cf6cbb9d12ad"
      },
      "outputs": [
        {
          "name": "stdout",
          "output_type": "stream",
          "text": [
            "Marie 15\n",
            "Thomas 12\n",
            "Julien 16\n",
            "Elise 9\n",
            "Samuel 17\n"
          ]
        }
      ],
      "source": [
        "for cle,valeur in mon_dictionnaire.items():\n",
        "    print(cle,valeur)"
      ]
    },
    {
      "cell_type": "code",
      "execution_count": null,
      "metadata": {
        "id": "3bERhsR7KPim"
      },
      "outputs": [],
      "source": [
        "notes_eleves={\n",
        "    \"Marie\" : 15,\n",
        "    \"Samuel\" : 17,\n",
        "    \"Gaston\" : 12,\n",
        "    \"Fred\" : 10,\n",
        "    \"Mae\" : 5,\n",
        "    \"Julie\" : 15,\n",
        "    \"Zoe\" : 7,\n",
        "    \"Claire\" : 20,\n",
        "    \"Chloe\" : 8,\n",
        "    \"Julien\" : 14,\n",
        "    \"Gaël\" : 9,\n",
        "    \"Samia\" : 15,\n",
        "    \"Omar\" : 11,\n",
        "    \"Gabriel\" : 16,\n",
        "    \"Manon\" : 2\n",
        "}"
      ]
    },
    {
      "cell_type": "code",
      "execution_count": null,
      "metadata": {
        "scrolled": false,
        "id": "R1Nuv3byKPjC",
        "outputId": "9c5f3b1d-994f-44bb-cf86-f7f9bb36f788"
      },
      "outputs": [
        {
          "data": {
            "text/plain": [
              "[15, 17, 12, 10, 5, 15, 7, 20, 8, 14, 9, 15, 11, 16, 2]"
            ]
          },
          "execution_count": 26,
          "metadata": {},
          "output_type": "execute_result"
        }
      ],
      "source": [
        "list(notes_eleves.values())"
      ]
    },
    {
      "cell_type": "code",
      "execution_count": null,
      "metadata": {
        "id": "CZ_S7qRpKPjE"
      },
      "outputs": [],
      "source": [
        "# 1. Quelle est la moyenne générale de la classe ?\n",
        "import numpy\n",
        "moyenne_generale=numpy.mean(list(notes_eleves.values()))"
      ]
    },
    {
      "cell_type": "code",
      "execution_count": null,
      "metadata": {
        "id": "yC5MgLkCKPjH",
        "outputId": "f0008179-4265-46ca-cd04-ee585e11ce30"
      },
      "outputs": [
        {
          "data": {
            "text/plain": [
              "11.733333333333333"
            ]
          },
          "execution_count": 28,
          "metadata": {},
          "output_type": "execute_result"
        }
      ],
      "source": [
        "moyenne_generale"
      ]
    },
    {
      "cell_type": "code",
      "execution_count": null,
      "metadata": {
        "id": "KiVZtDnIKPjJ",
        "outputId": "7bef485f-268d-4605-c81c-ed80059a5fb2"
      },
      "outputs": [
        {
          "name": "stdout",
          "output_type": "stream",
          "text": [
            "Le nombre d'élèves dans la classe est de 15\n"
          ]
        }
      ],
      "source": [
        "# 2. Afficher le nombre total d'élèves dans la classe\n",
        "nombre_eleves=len(notes_eleves)\n",
        "print(\"Le nombre d'élèves dans la classe est de %d\" % (nombre_eleves))"
      ]
    },
    {
      "cell_type": "code",
      "execution_count": null,
      "metadata": {
        "id": "Ks8f2XJXKPjK",
        "outputId": "3400b43a-9558-4707-e978-26a320b6a527"
      },
      "outputs": [
        {
          "data": {
            "text/plain": [
              "15"
            ]
          },
          "execution_count": 31,
          "metadata": {},
          "output_type": "execute_result"
        }
      ],
      "source": [
        "len(notes_eleves.keys())"
      ]
    },
    {
      "cell_type": "code",
      "execution_count": null,
      "metadata": {
        "id": "yo4cvoErKPjL",
        "outputId": "632da551-d8d8-48e7-b2c4-f81b27f6acd6"
      },
      "outputs": [
        {
          "name": "stdout",
          "output_type": "stream",
          "text": [
            "Le nombre d'élèves avec une note supérieure à 11.73 est de 8 élèves\n"
          ]
        }
      ],
      "source": [
        "# 3. Combien d'élèves ont une note strictement supérieure à la moyenne de la classe ?\n",
        "nombre_eleves_avec_note_sup_moyenne=0\n",
        "for valeur in notes_eleves.values():\n",
        "    if valeur > moyenne_generale:\n",
        "        nombre_eleves_avec_note_sup_moyenne=nombre_eleves_avec_note_sup_moyenne+1\n",
        "print(\"Le nombre d'élèves avec une note supérieure à %.2f est de %d élèves\" % (moyenne_generale, nombre_eleves_avec_note_sup_moyenne))"
      ]
    },
    {
      "cell_type": "code",
      "execution_count": null,
      "metadata": {
        "id": "fFPzYmGOKPjM"
      },
      "outputs": [],
      "source": [
        "# 4. Quel est le prénom du meilleur élève de la classe ?\n",
        "meilleure_note=max(notes_eleves.values())"
      ]
    },
    {
      "cell_type": "code",
      "execution_count": null,
      "metadata": {
        "id": "Qb8mth83KPjN",
        "outputId": "83825042-e053-441f-ec5d-fd7fa5caa4a3"
      },
      "outputs": [
        {
          "data": {
            "text/plain": [
              "20"
            ]
          },
          "execution_count": 35,
          "metadata": {},
          "output_type": "execute_result"
        }
      ],
      "source": [
        "meilleure_note"
      ]
    },
    {
      "cell_type": "code",
      "execution_count": null,
      "metadata": {
        "id": "QBi2K1_yKPjP",
        "outputId": "f230d521-fab1-4a8b-eaa1-def8abe34bd4"
      },
      "outputs": [
        {
          "name": "stdout",
          "output_type": "stream",
          "text": [
            "Claire\n"
          ]
        }
      ],
      "source": [
        "for prenom,note in notes_eleves.items():\n",
        "    if note == meilleure_note:\n",
        "        print(prenom)"
      ]
    },
    {
      "cell_type": "code",
      "execution_count": null,
      "metadata": {
        "id": "MRqWA6wjKPjQ",
        "outputId": "65b43f83-2410-4afd-892c-d29bdeda6981"
      },
      "outputs": [
        {
          "name": "stdout",
          "output_type": "stream",
          "text": [
            "2\n"
          ]
        }
      ],
      "source": [
        "# 5. Combien d'élèves ont un prénom avec strictement moins de 4 lettres ?\n",
        "nombre_eleves=0\n",
        "for prenom in notes_eleves.keys():\n",
        "    if len(prenom) < 4:\n",
        "        nombre_eleves=nombre_eleves+1\n",
        "print(nombre_eleves)"
      ]
    },
    {
      "cell_type": "code",
      "execution_count": null,
      "metadata": {
        "id": "impEV0sDKPjR",
        "outputId": "fdcfd1e0-80e6-4559-c0b5-4a4710177236"
      },
      "outputs": [
        {
          "name": "stdout",
          "output_type": "stream",
          "text": [
            "Gaston 12\n",
            "Fred 10\n",
            "Claire 20\n",
            "Chloe 8\n",
            "Julien 14\n",
            "Gabriel 16\n",
            "Manon 2\n"
          ]
        }
      ],
      "source": [
        "# 6. Afficher les prénoms des élèves qui ont une note paire.\n",
        "for prenom,note in notes_eleves.items():\n",
        "    if note % 2 == 0:\n",
        "        print(prenom, note)"
      ]
    },
    {
      "cell_type": "code",
      "execution_count": null,
      "metadata": {
        "id": "NAc_0Lt7KPjS"
      },
      "outputs": [],
      "source": []
    }
  ],
  "metadata": {
    "kernelspec": {
      "display_name": "Python 3",
      "language": "python",
      "name": "python3"
    },
    "language_info": {
      "codemirror_mode": {
        "name": "ipython",
        "version": 3
      },
      "file_extension": ".py",
      "mimetype": "text/x-python",
      "name": "python",
      "nbconvert_exporter": "python",
      "pygments_lexer": "ipython3",
      "version": "3.7.0"
    },
    "colab": {
      "provenance": [],
      "include_colab_link": true
    }
  },
  "nbformat": 4,
  "nbformat_minor": 0
}