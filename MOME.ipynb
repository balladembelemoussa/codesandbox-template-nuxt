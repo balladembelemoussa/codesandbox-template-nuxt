{
  "nbformat": 4,
  "nbformat_minor": 0,
  "metadata": {
    "colab": {
      "provenance": [],
      "authorship_tag": "ABX9TyO8XxxnzeLqOqvl5S7OX58x",
      "include_colab_link": true
    },
    "kernelspec": {
      "name": "python3",
      "display_name": "Python 3"
    },
    "language_info": {
      "name": "python"
    }
  },
  "cells": [
    {
      "cell_type": "markdown",
      "metadata": {
        "id": "view-in-github",
        "colab_type": "text"
      },
      "source": [
        "<a href=\"https://colab.research.google.com/github/balladembelemoussa/codesandbox-template-nuxt/blob/main/MOME.ipynb\" target=\"_parent\"><img src=\"https://colab.research.google.com/assets/colab-badge.svg\" alt=\"Open In Colab\"/></a>"
      ]
    },
    {
      "cell_type": "markdown",
      "source": [
        "**Apprentissage automatique - Courbe AUC - ROC**"
      ],
      "metadata": {
        "id": "ZN19wfWwKMfq"
      }
    },
    {
      "cell_type": "markdown",
      "source": [
        "ASC - Courbe ROC\n",
        "Dans la classification, il existe de nombreuses mesures d'évaluation différentes. Le plus populaire est la précision , qui mesure la fréquence à laquelle le modèle est correct. Il s'agit d'une excellente mesure car elle est facile à comprendre et il est souvent souhaitable d'obtenir les suppositions les plus correctes. Dans certains cas, vous pouvez envisager d'utiliser une autre métrique d'évaluation.\n",
        "\n",
        "Une autre mesure courante est l' AUC , l'aire sous la courbe des caractéristiques de fonctionnement du récepteur ( ROC ). La courbe des caractéristiques de fonctionnement du récepteur représente le taux de vrais positifs ( TP ) par rapport au taux de faux positifs ( FP ) à différents seuils de classification. Les seuils sont des seuils de probabilité différents qui séparent les deux classes dans la classification binaire. Il utilise la probabilité pour nous dire dans quelle mesure un modèle sépare les classes.\n",
        "\n",
        "Données déséquilibrées\n",
        "Supposons que nous ayons un ensemble de données déséquilibré où la majorité de nos données est d'une valeur. Nous pouvons obtenir une grande précision pour le modèle en prédisant la classe majoritaire.\n",
        "\n",
        "Exemple"
      ],
      "metadata": {
        "id": "4ZvdEUYJKPJx"
      }
    },
    {
      "cell_type": "markdown",
      "source": [
        "Bien que nous obtenions une très grande précision, le modèle n'a fourni aucune information sur les données, il n'est donc pas utile. Nous prédisons avec précision la classe 1 100 % du temps, tandis que nous prédisons de manière inexacte la classe 0 0 % du temps. Au détriment de la précision, il serait peut-être préférable d'avoir un modèle qui peut quelque peu séparer les deux classes.\n",
        "\n",
        "Exemple"
      ],
      "metadata": {
        "id": "gv0-dsYcKbtz"
      }
    },
    {
      "cell_type": "code",
      "source": [
        "import numpy as np\n",
        "from sklearn.metrics import accuracy_score, confusion_matrix, roc_auc_score, roc_curve\n",
        "\n",
        "n = 10000\n",
        "ratio = .95\n",
        "n_0 = int((1-ratio) * n)\n",
        "n_1 = int(ratio * n)\n",
        "\n",
        "y = np.array([0] * n_0 + [1] * n_1)\n",
        "# below are the probabilities obtained from a hypothetical model that always predicts the majority class\n",
        "# probability of predicting class 1 is going to be 100%\n",
        "y_proba = np.array([1]*n)\n",
        "y_pred = y_proba > .5\n",
        "\n",
        "print(f'accuracy score: {accuracy_score(y, y_pred)}')\n",
        "cf_mat = confusion_matrix(y, y_pred)\n",
        "print('Confusion matrix')\n",
        "print(cf_mat)\n",
        "print(f'class 0 accuracy: {cf_mat[0][0]/n_0}')\n",
        "print(f'class 1 accuracy: {cf_mat[1][1]/n_1}')"
      ],
      "metadata": {
        "colab": {
          "base_uri": "https://localhost:8080/"
        },
        "id": "IBZv5gIGKjK9",
        "outputId": "dbc5a48b-1846-4a56-e4f3-61f71dca6913"
      },
      "execution_count": null,
      "outputs": [
        {
          "output_type": "stream",
          "name": "stdout",
          "text": [
            "accuracy score: 0.95\n",
            "Confusion matrix\n",
            "[[   0  500]\n",
            " [   0 9500]]\n",
            "class 0 accuracy: 0.0\n",
            "class 1 accuracy: 1.0\n"
          ]
        }
      ]
    },
    {
      "cell_type": "markdown",
      "source": [
        "Bien que nous obtenions une très grande précision, le modèle n'a fourni aucune information sur les données, il n'est donc pas utile. Nous prédisons avec précision la classe 1 100 % du temps, tandis que nous prédisons de manière inexacte la classe 0 0 % du temps. Au détriment de la précision, il serait peut-être préférable d'avoir un modèle qui peut quelque peu séparer les deux classes.\n",
        "\n",
        "Exemple"
      ],
      "metadata": {
        "id": "nuLNzc8XKseQ"
      }
    },
    {
      "cell_type": "code",
      "source": [
        "# below are the probabilities obtained from a hypothetical model that doesn't always predict the mode\n",
        "y_proba_2 = np.array(\n",
        "    np.random.uniform(0, .7, n_0).tolist() +\n",
        "    np.random.uniform(.3, 1, n_1).tolist()\n",
        ")\n",
        "y_pred_2 = y_proba_2 > .5\n",
        "\n",
        "print(f'accuracy score: {accuracy_score(y, y_pred_2)}')\n",
        "cf_mat = confusion_matrix(y, y_pred_2)\n",
        "print('Confusion matrix')\n",
        "print(cf_mat)\n",
        "print(f'class 0 accuracy: {cf_mat[0][0]/n_0}')\n",
        "print(f'class 1 accuracy: {cf_mat[1][1]/n_1}')"
      ],
      "metadata": {
        "colab": {
          "base_uri": "https://localhost:8080/"
        },
        "id": "Xxzx47D_Kvgg",
        "outputId": "44c176d1-f56a-40f2-9712-bacec08a2ead"
      },
      "execution_count": null,
      "outputs": [
        {
          "output_type": "stream",
          "name": "stdout",
          "text": [
            "accuracy score: 0.7131\n",
            "Confusion matrix\n",
            "[[ 365  135]\n",
            " [2734 6766]]\n",
            "class 0 accuracy: 0.73\n",
            "class 1 accuracy: 0.7122105263157895\n"
          ]
        }
      ]
    },
    {
      "cell_type": "markdown",
      "source": [
        "Pour le deuxième ensemble de prédictions, nous n'avons pas un score de précision aussi élevé que le premier, mais la précision pour chaque classe est plus équilibrée. En utilisant la précision comme mesure d'évaluation, nous évaluerions le premier modèle plus haut que le second, même s'il ne nous dit rien sur les données.\n",
        "\n",
        "Dans de tels cas, il serait préférable d'utiliser une autre métrique d'évaluation telle que l'AUC."
      ],
      "metadata": {
        "id": "WG-9TaU9K1e4"
      }
    },
    {
      "cell_type": "code",
      "source": [
        "import matplotlib.pyplot as plt\n",
        "\n",
        "def plot_roc_curve(true_y, y_prob):\n",
        "    \"\"\"\n",
        "    plots the roc curve based of the probabilities\n",
        "    \"\"\"\n",
        "\n",
        "    fpr, tpr, thresholds = roc_curve(true_y, y_prob)\n",
        "    plt.plot(fpr, tpr)\n",
        "    plt.xlabel('False Positive Rate')\n",
        "    plt.ylabel('True Positive Rate')"
      ],
      "metadata": {
        "id": "-R1J3qolK6Eq"
      },
      "execution_count": null,
      "outputs": []
    },
    {
      "cell_type": "markdown",
      "source": [
        "Exemple\n",
        "**Modèle 1 **"
      ],
      "metadata": {
        "id": "j2obLZt-K_DJ"
      }
    },
    {
      "cell_type": "code",
      "execution_count": null,
      "metadata": {
        "colab": {
          "base_uri": "https://localhost:8080/",
          "height": 296
        },
        "id": "6NEX-DeuKFPs",
        "outputId": "8242ec61-2c39-42d6-fa31-bcaf2eddee28"
      },
      "outputs": [
        {
          "output_type": "stream",
          "name": "stdout",
          "text": [
            "model 1 AUC score: 0.5\n"
          ]
        },
        {
          "output_type": "display_data",
          "data": {
            "text/plain": [
              "<Figure size 432x288 with 1 Axes>"
            ],
            "image/png": "[encoded data removed]"
          },
          "metadata": {
            "needs_background": "light"
          }
        }
      ],
      "source": [
        "plot_roc_curve(y, y_proba)\n",
        "print(f'model 1 AUC score: {roc_auc_score(y, y_proba)}')"
      ]
    },
    {
      "cell_type": "markdown",
      "source": [
        "score ASC du modèle 1 : 0,5"
      ],
      "metadata": {
        "id": "7qOgb6KkLMQK"
      }
    },
    {
      "cell_type": "markdown",
      "source": [
        "Exemple\n",
        "**Modèle 2 **"
      ],
      "metadata": {
        "id": "_rWRWeqULROI"
      }
    },
    {
      "cell_type": "code",
      "source": [
        "plot_roc_curve(y, y_proba_2)\n",
        "print(f'model 2 AUC score: {roc_auc_score(y, y_proba_2)}')"
      ],
      "metadata": {
        "colab": {
          "base_uri": "https://localhost:8080/",
          "height": 296
        },
        "id": "BLizV_z1LVFQ",
        "outputId": "5e536018-40e0-4d16-8436-c075956e3edd"
      },
      "execution_count": null,
      "outputs": [
        {
          "output_type": "stream",
          "name": "stdout",
          "text": [
            "model 2 AUC score: 0.8413440000000001\n"
          ]
        },
        {
          "output_type": "display_data",
          "data": {
            "text/plain": [
              "<Figure size 432x288 with 1 Axes>"
            ],
            "image/png": "[encoded data removed]"
          },
          "metadata": {
            "needs_background": "light"
          }
        }
      ]
    },
    {
      "cell_type": "markdown",
      "source": [
        "Un score AUC d'environ 0,5 signifierait que le modèle est incapable de faire la distinction entre les deux classes et la courbe ressemblerait à une ligne avec une pente de 1. Un score AUC plus proche de 1 signifie que le modèle a la capacité de séparer les deux classes et la courbe se rapprocherait du coin supérieur gauche du graphique.\n",
        "\n",
        "Probabilités\n",
        "Étant donné que l'AUC est une métrique qui utilise les probabilités des prédictions de classe, nous pouvons être plus confiants dans un modèle qui a un score AUC plus élevé qu'un modèle avec un score inférieur, même s'ils ont des précisions similaires.\n",
        "\n",
        "Dans les données ci-dessous, nous avons deux ensembles de probabilités issus de modèles hypothétiques. Le premier a des probabilités qui ne sont pas aussi \"confiantes\" lors de la prédiction des deux classes (les probabilités sont proches de 0,5). La seconde a des probabilités plus « sûres » lors de la prédiction des deux classes (les probabilités sont proches des extrêmes de 0 ou 1).\n",
        "\n",
        "Exemple"
      ],
      "metadata": {
        "id": "49ySCdBRLjN-"
      }
    },
    {
      "cell_type": "code",
      "source": [
        "import numpy as np\n",
        "\n",
        "n = 10000\n",
        "y = np.array([0] * n + [1] * n)\n",
        "#\n",
        "y_prob_1 = np.array(\n",
        "    np.random.uniform(.25, .5, n//2).tolist() +\n",
        "    np.random.uniform(.3, .7, n).tolist() +\n",
        "    np.random.uniform(.5, .75, n//2).tolist()\n",
        ")\n",
        "y_prob_2 = np.array(\n",
        "    np.random.uniform(0, .4, n//2).tolist() +\n",
        "    np.random.uniform(.3, .7, n).tolist() +\n",
        "    np.random.uniform(.6, 1, n//2).tolist()\n",
        ")\n",
        "\n",
        "print(f'model 1 accuracy score: {accuracy_score(y, y_prob_1>.5)}')\n",
        "print(f'model 2 accuracy score: {accuracy_score(y, y_prob_2>.5)}')\n",
        "\n",
        "print(f'model 1 AUC score: {roc_auc_score(y, y_prob_1)}')\n",
        "print(f'model 2 AUC score: {roc_auc_score(y, y_prob_2)}')"
      ],
      "metadata": {
        "colab": {
          "base_uri": "https://localhost:8080/"
        },
        "id": "AZzqVD7xLnNr",
        "outputId": "fff23584-2956-49ec-98c7-ad3733ad9b52"
      },
      "execution_count": null,
      "outputs": [
        {
          "output_type": "stream",
          "name": "stdout",
          "text": [
            "model 1 accuracy score: 0.7496\n",
            "model 2 accuracy score: 0.7485\n",
            "model 1 AUC score: 0.77454959\n",
            "model 2 AUC score: 0.86036639\n"
          ]
        }
      ]
    },
    {
      "cell_type": "markdown",
      "source": [
        "Exemple\n",
        "**Modèle de parcelle 1 :**"
      ],
      "metadata": {
        "id": "S5nUJIVtN_Nt"
      }
    },
    {
      "cell_type": "code",
      "source": [
        "plot_roc_curve(y, y_prob_1)"
      ],
      "metadata": {
        "id": "lO78V3obPdwg",
        "colab": {
          "base_uri": "https://localhost:8080/",
          "height": 279
        },
        "outputId": "f042af93-f41c-4b9b-8ae2-e0a512dc1417"
      },
      "execution_count": 8,
      "outputs": [
        {
          "output_type": "display_data",
          "data": {
            "text/plain": [
              "<Figure size 432x288 with 1 Axes>"
            ],
            "image/png": "[encoded data removed]"
          },
          "metadata": {
            "needs_background": "light"
          }
        }
      ]
    },
    {
      "cell_type": "markdown",
      "source": [
        "Exemple\n",
        "**Modèle de tracé 2 :**"
      ],
      "metadata": {
        "id": "eXf9EvpKOPkx"
      }
    },
    {
      "cell_type": "code",
      "source": [
        "fpr, tpr, thresholds = roc_curve(y, y_prob_2)\n",
        "plt.plot(fpr, tpr)"
      ],
      "metadata": {
        "colab": {
          "base_uri": "https://localhost:8080/",
          "height": 282
        },
        "id": "xeFsi1iMP3sM",
        "outputId": "95e0dfea-5010-4a4b-e0e2-f0dd28c6c8d9"
      },
      "execution_count": 9,
      "outputs": [
        {
          "output_type": "execute_result",
          "data": {
            "text/plain": [
              "[<matplotlib.lines.Line2D at 0x7fd73ec7b6d0>]"
            ]
          },
          "metadata": {},
          "execution_count": 9
        },
        {
          "output_type": "display_data",
          "data": {
            "text/plain": [
              "<Figure size 432x288 with 1 Axes>"
            ],
            "image/png": "[encoded data removed]"
          },
          "metadata": {
            "needs_background": "light"
          }
        }
      ]
    },
    {
      "cell_type": "markdown",
      "source": [
        "Même si les précisions des deux modèles sont similaires, le modèle avec le score AUC le plus élevé sera plus fiable car il prend en compte la probabilité prédite. Il est plus susceptible de vous donner une plus grande précision lors de la prévision des données futures."
      ],
      "metadata": {
        "id": "jxmMpYeaQH39"
      }
    }
  ]
}