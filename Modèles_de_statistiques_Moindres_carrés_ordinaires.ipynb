{
  "nbformat": 4,
  "nbformat_minor": 0,
  "metadata": {
    "colab": {
      "provenance": [],
      "authorship_tag": "ABX9TyNsSO+wEadqsRopO/znYYQQ",
      "include_colab_link": true
    },
    "kernelspec": {
      "name": "python3",
      "display_name": "Python 3"
    },
    "language_info": {
      "name": "python"
    }
  },
  "cells": [
    {
      "cell_type": "markdown",
      "metadata": {
        "id": "view-in-github",
        "colab_type": "text"
      },
      "source": [
        "<a href=\"https://colab.research.google.com/github/balladembelemoussa/codesandbox-template-nuxt/blob/main/Mod%C3%A8les_de_statistiques_Moindres_carr%C3%A9s_ordinaires.ipynb\" target=\"_parent\"><img src=\"https://colab.research.google.com/assets/colab-badge.svg\" alt=\"Open In Colab\"/></a>"
      ]
    },
    {
      "cell_type": "markdown",
      "source": [
        "# Moindres carrés ordinaires"
      ],
      "metadata": {
        "id": "QETIGGIk_dtX"
      }
    },
    {
      "cell_type": "code",
      "source": [
        "%matplotlib inline"
      ],
      "metadata": {
        "id": "1oWdPDwd_frW"
      },
      "execution_count": 1,
      "outputs": []
    },
    {
      "cell_type": "code",
      "source": [
        "import matplotlib.pyplot as plt\n",
        "import numpy as np\n",
        "import pandas as pd\n",
        "import statsmodels.api as sm"
      ],
      "metadata": {
        "id": "vlDSGP0L_oju"
      },
      "execution_count": 6,
      "outputs": []
    },
    {
      "cell_type": "code",
      "source": [
        "np.random.seed(9876789)"
      ],
      "metadata": {
        "id": "5WeE1AP-_7xb"
      },
      "execution_count": 7,
      "outputs": []
    },
    {
      "cell_type": "markdown",
      "source": [
        "# Estimation MCO\n",
        "Données artificielles :"
      ],
      "metadata": {
        "id": "kQRDiBrr__Xk"
      }
    },
    {
      "cell_type": "code",
      "source": [
        "nsample = 100\n",
        "x = np.linspace(0, 10, 100)\n",
        "X = np.column_stack((x, x ** 2))\n",
        "beta = np.array([1, 0.1, 10])\n",
        "e = np.random.normal(size=nsample)"
      ],
      "metadata": {
        "id": "MoEFSwzFABnX"
      },
      "execution_count": 8,
      "outputs": []
    },
    {
      "cell_type": "markdown",
      "source": [
        "# Notre modèle a besoin d'une interception donc nous ajoutons une colonne de 1 :"
      ],
      "metadata": {
        "id": "jzru-JIsAHCd"
      }
    },
    {
      "cell_type": "code",
      "source": [
        "X = sm.add_constant(X)\n",
        "y = np.dot(X, beta) + e"
      ],
      "metadata": {
        "id": "731UBz7-ANhi"
      },
      "execution_count": 9,
      "outputs": []
    },
    {
      "cell_type": "markdown",
      "source": [
        "# Ajustement et résumé :"
      ],
      "metadata": {
        "id": "YtVgdxZ2ATS7"
      }
    },
    {
      "cell_type": "code",
      "source": [
        "model = sm.OLS(y, X)\n",
        "results = model.fit()\n",
        "print(results.summary())"
      ],
      "metadata": {
        "colab": {
          "base_uri": "https://localhost:8080/"
        },
        "id": "KnnhcyYwAU82",
        "outputId": "37618f43-339f-4aa9-fa75-33750408bf14"
      },
      "execution_count": 10,
      "outputs": [
        {
          "output_type": "stream",
          "name": "stdout",
          "text": [
            "                            OLS Regression Results                            \n",
            "==============================================================================\n",
            "Dep. Variable:                      y   R-squared:                       1.000\n",
            "Model:                            OLS   Adj. R-squared:                  1.000\n",
            "Method:                 Least Squares   F-statistic:                 4.020e+06\n",
            "Date:                Sun, 29 Jan 2023   Prob (F-statistic):          2.83e-239\n",
            "Time:                        10:10:09   Log-Likelihood:                -146.51\n",
            "No. Observations:                 100   AIC:                             299.0\n",
            "Df Residuals:                      97   BIC:                             306.8\n",
            "Df Model:                           2                                         \n",
            "Covariance Type:            nonrobust                                         \n",
            "==============================================================================\n",
            "                 coef    std err          t      P>|t|      [0.025      0.975]\n",
            "------------------------------------------------------------------------------\n",
            "const          1.3423      0.313      4.292      0.000       0.722       1.963\n",
            "x1            -0.0402      0.145     -0.278      0.781      -0.327       0.247\n",
            "x2            10.0103      0.014    715.745      0.000       9.982      10.038\n",
            "==============================================================================\n",
            "Omnibus:                        2.042   Durbin-Watson:                   2.274\n",
            "Prob(Omnibus):                  0.360   Jarque-Bera (JB):                1.875\n",
            "Skew:                           0.234   Prob(JB):                        0.392\n",
            "Kurtosis:                       2.519   Cond. No.                         144.\n",
            "==============================================================================\n",
            "\n",
            "Notes:\n",
            "[1] Standard Errors assume that the covariance matrix of the errors is correctly specified.\n"
          ]
        }
      ]
    },
    {
      "cell_type": "markdown",
      "source": [
        "Les quantités d'intérêt peuvent être extraites directement du modèle ajusté. Tapez dir(results)pour une liste complète. Voici quelques exemples:"
      ],
      "metadata": {
        "id": "m-Af8OYEAbDc"
      }
    },
    {
      "cell_type": "code",
      "source": [
        "print(\"Parameters: \", results.params)\n",
        "print(\"R2: \", results.rsquared)"
      ],
      "metadata": {
        "colab": {
          "base_uri": "https://localhost:8080/"
        },
        "id": "WVORJHOBAdin",
        "outputId": "f303abce-96e9-4c2d-db2d-2d3783f19a21"
      },
      "execution_count": 11,
      "outputs": [
        {
          "output_type": "stream",
          "name": "stdout",
          "text": [
            "Parameters:  [ 1.34233516 -0.04024948 10.01025357]\n",
            "R2:  0.9999879365025871\n"
          ]
        }
      ]
    },
    {
      "cell_type": "markdown",
      "source": [
        "# Courbe OLS non linéaire mais linéaire en paramètres\n",
        "Nous simulons des données artificielles avec une relation non linéaire entre x et y :"
      ],
      "metadata": {
        "id": "qadnhcK2Aj1v"
      }
    },
    {
      "cell_type": "code",
      "source": [
        "nsample = 50\n",
        "sig = 0.5\n",
        "x = np.linspace(0, 20, nsample)\n",
        "X = np.column_stack((x, np.sin(x), (x - 5) ** 2, np.ones(nsample)))\n",
        "beta = [0.5, 0.5, -0.02, 5.0]\n",
        "\n",
        "y_true = np.dot(X, beta)\n",
        "y = y_true + sig * np.random.normal(size=nsample)"
      ],
      "metadata": {
        "id": "PHGwXP3iAmaU"
      },
      "execution_count": 12,
      "outputs": []
    },
    {
      "cell_type": "markdown",
      "source": [
        "# Ajustement et résumé :"
      ],
      "metadata": {
        "id": "GUHrySWdAsf1"
      }
    },
    {
      "cell_type": "code",
      "source": [
        "res = sm.OLS(y, X).fit()\n",
        "print(res.summary())"
      ],
      "metadata": {
        "colab": {
          "base_uri": "https://localhost:8080/"
        },
        "id": "QAmm8pqPAuCF",
        "outputId": "e9dcdc2f-9da0-4f50-bff7-3fbea2720e63"
      },
      "execution_count": 13,
      "outputs": [
        {
          "output_type": "stream",
          "name": "stdout",
          "text": [
            "                            OLS Regression Results                            \n",
            "==============================================================================\n",
            "Dep. Variable:                      y   R-squared:                       0.933\n",
            "Model:                            OLS   Adj. R-squared:                  0.928\n",
            "Method:                 Least Squares   F-statistic:                     211.8\n",
            "Date:                Sun, 29 Jan 2023   Prob (F-statistic):           6.30e-27\n",
            "Time:                        10:11:53   Log-Likelihood:                -34.438\n",
            "No. Observations:                  50   AIC:                             76.88\n",
            "Df Residuals:                      46   BIC:                             84.52\n",
            "Df Model:                           3                                         \n",
            "Covariance Type:            nonrobust                                         \n",
            "==============================================================================\n",
            "                 coef    std err          t      P>|t|      [0.025      0.975]\n",
            "------------------------------------------------------------------------------\n",
            "x1             0.4687      0.026     17.751      0.000       0.416       0.522\n",
            "x2             0.4836      0.104      4.659      0.000       0.275       0.693\n",
            "x3            -0.0174      0.002     -7.507      0.000      -0.022      -0.013\n",
            "const          5.2058      0.171     30.405      0.000       4.861       5.550\n",
            "==============================================================================\n",
            "Omnibus:                        0.655   Durbin-Watson:                   2.896\n",
            "Prob(Omnibus):                  0.721   Jarque-Bera (JB):                0.360\n",
            "Skew:                           0.207   Prob(JB):                        0.835\n",
            "Kurtosis:                       3.026   Cond. No.                         221.\n",
            "==============================================================================\n",
            "\n",
            "Notes:\n",
            "[1] Standard Errors assume that the covariance matrix of the errors is correctly specified.\n"
          ]
        }
      ]
    },
    {
      "cell_type": "markdown",
      "source": [
        "# Extraire d'autres quantités d'intérêt :"
      ],
      "metadata": {
        "id": "zZsObTtcA052"
      }
    },
    {
      "cell_type": "code",
      "source": [
        "print(\"Parameters: \", res.params)\n",
        "print(\"Standard errors: \", res.bse)\n",
        "print(\"Predicted values: \", res.predict())"
      ],
      "metadata": {
        "colab": {
          "base_uri": "https://localhost:8080/"
        },
        "id": "5gG9SnH1A2qp",
        "outputId": "201ec505-e43f-4649-e8e1-01730784fef3"
      },
      "execution_count": 14,
      "outputs": [
        {
          "output_type": "stream",
          "name": "stdout",
          "text": [
            "Parameters:  [ 0.46872448  0.48360119 -0.01740479  5.20584496]\n",
            "Standard errors:  [0.02640602 0.10380518 0.00231847 0.17121765]\n",
            "Predicted values:  [ 4.77072516  5.22213464  5.63620761  5.98658823  6.25643234  6.44117491\n",
            "  6.54928009  6.60085051  6.62432454  6.6518039   6.71377946  6.83412169\n",
            "  7.02615877  7.29048685  7.61487206  7.97626054  8.34456611  8.68761335\n",
            "  8.97642389  9.18997755  9.31866582  9.36587056  9.34740836  9.28893189\n",
            "  9.22171529  9.17751587  9.1833565   9.25708583  9.40444579  9.61812821\n",
            "  9.87897556 10.15912843 10.42660281 10.65054491 10.8063004  10.87946503\n",
            " 10.86825119 10.78378163 10.64826203 10.49133265 10.34519853 10.23933827\n",
            " 10.19566084 10.22490593 10.32487947 10.48081414 10.66779556 10.85485568\n",
            " 11.01006072 11.10575781]\n"
          ]
        }
      ]
    },
    {
      "cell_type": "markdown",
      "source": [
        "Dessinez un graphique pour comparer la véritable relation avec les prédictions OLS. Les intervalles de confiance autour des prédictions sont construits à l'aide de la wls_prediction_stdcommande."
      ],
      "metadata": {
        "id": "2JMfVQEzA8_3"
      }
    },
    {
      "cell_type": "code",
      "source": [
        "pred_ols = res.get_prediction()\n",
        "iv_l = pred_ols.summary_frame()[\"obs_ci_lower\"]\n",
        "iv_u = pred_ols.summary_frame()[\"obs_ci_upper\"]\n",
        "\n",
        "fig, ax = plt.subplots(figsize=(8, 6))\n",
        "\n",
        "ax.plot(x, y, \"o\", label=\"data\")\n",
        "ax.plot(x, y_true, \"b-\", label=\"True\")\n",
        "ax.plot(x, res.fittedvalues, \"r--.\", label=\"OLS\")\n",
        "ax.plot(x, iv_u, \"r--\")\n",
        "ax.plot(x, iv_l, \"r--\")\n",
        "ax.legend(loc=\"best\")"
      ],
      "metadata": {
        "colab": {
          "base_uri": "https://localhost:8080/",
          "height": 391
        },
        "id": "LS1vLp0JA-DZ",
        "outputId": "fa92c6a5-c01d-4132-a032-ae72bfaa05a3"
      },
      "execution_count": 15,
      "outputs": [
        {
          "output_type": "execute_result",
          "data": {
            "text/plain": [
              "<matplotlib.legend.Legend at 0x7f7fcb191cd0>"
            ]
          },
          "metadata": {},
          "execution_count": 15
        },
        {
          "output_type": "display_data",
          "data": {
            "text/plain": [
              "<Figure size 576x432 with 1 Axes>"
            ],
            "image/png": "[encoded data removed]"
          },
          "metadata": {
            "needs_background": "light"
          }
        }
      ]
    },
    {
      "cell_type": "markdown",
      "source": [
        "# MCO avec variables fictives\n",
        "Nous générons des données artificielles. Il y a 3 groupes qui seront modélisés à l'aide de variables fictives. Le groupe 0 est la catégorie omise/de référence."
      ],
      "metadata": {
        "id": "rn8n3roDBHsG"
      }
    },
    {
      "cell_type": "code",
      "source": [
        "nsample = 50\n",
        "groups = np.zeros(nsample, int)\n",
        "groups[20:40] = 1\n",
        "groups[40:] = 2\n",
        "# dummy = (groups[:,None] == np.unique(groups)).astype(float)\n",
        "\n",
        "dummy = pd.get_dummies(groups).values\n",
        "x = np.linspace(0, 20, nsample)\n",
        "# drop reference category\n",
        "X = np.column_stack((x, dummy[:, 1:]))\n",
        "X = sm.add_constant(X, prepend=False)\n",
        "\n",
        "beta = [1.0, 3, -3, 10]\n",
        "y_true = np.dot(X, beta)\n",
        "e = np.random.normal(size=nsample)\n",
        "y = y_true + e"
      ],
      "metadata": {
        "id": "Pb9F-KH8BKG0"
      },
      "execution_count": 16,
      "outputs": []
    },
    {
      "cell_type": "markdown",
      "source": [
        "# Inspectez les données :"
      ],
      "metadata": {
        "id": "HeRQdyfRBQe9"
      }
    },
    {
      "cell_type": "code",
      "source": [
        "print(X[:5, :])\n",
        "print(y[:5])\n",
        "print(groups)\n",
        "print(dummy[:5, :])"
      ],
      "metadata": {
        "colab": {
          "base_uri": "https://localhost:8080/"
        },
        "id": "pthnU2JYBT_W",
        "outputId": "521fc8ff-92aa-43e9-baba-5c08de66b217"
      },
      "execution_count": 17,
      "outputs": [
        {
          "output_type": "stream",
          "name": "stdout",
          "text": [
            "[[0.         0.         0.         1.        ]\n",
            " [0.40816327 0.         0.         1.        ]\n",
            " [0.81632653 0.         0.         1.        ]\n",
            " [1.2244898  0.         0.         1.        ]\n",
            " [1.63265306 0.         0.         1.        ]]\n",
            "[ 9.28223335 10.50481865 11.84389206 10.38508408 12.37941998]\n",
            "[0 0 0 0 0 0 0 0 0 0 0 0 0 0 0 0 0 0 0 0 1 1 1 1 1 1 1 1 1 1 1 1 1 1 1 1 1\n",
            " 1 1 1 2 2 2 2 2 2 2 2 2 2]\n",
            "[[1 0 0]\n",
            " [1 0 0]\n",
            " [1 0 0]\n",
            " [1 0 0]\n",
            " [1 0 0]]\n"
          ]
        }
      ]
    },
    {
      "cell_type": "markdown",
      "source": [
        "# Ajustement et résumé :"
      ],
      "metadata": {
        "id": "t1H8vygxBYWD"
      }
    },
    {
      "cell_type": "code",
      "source": [
        "res2 = sm.OLS(y, X).fit()\n",
        "print(res2.summary())"
      ],
      "metadata": {
        "colab": {
          "base_uri": "https://localhost:8080/"
        },
        "id": "UgflcTwEBZ5J",
        "outputId": "0a0a22fb-5e70-4d68-c2fb-1b7cd01d22a1"
      },
      "execution_count": 18,
      "outputs": [
        {
          "output_type": "stream",
          "name": "stdout",
          "text": [
            "                            OLS Regression Results                            \n",
            "==============================================================================\n",
            "Dep. Variable:                      y   R-squared:                       0.978\n",
            "Model:                            OLS   Adj. R-squared:                  0.976\n",
            "Method:                 Least Squares   F-statistic:                     671.7\n",
            "Date:                Sun, 29 Jan 2023   Prob (F-statistic):           5.69e-38\n",
            "Time:                        10:14:52   Log-Likelihood:                -64.643\n",
            "No. Observations:                  50   AIC:                             137.3\n",
            "Df Residuals:                      46   BIC:                             144.9\n",
            "Df Model:                           3                                         \n",
            "Covariance Type:            nonrobust                                         \n",
            "==============================================================================\n",
            "                 coef    std err          t      P>|t|      [0.025      0.975]\n",
            "------------------------------------------------------------------------------\n",
            "x1             0.9999      0.060     16.689      0.000       0.879       1.121\n",
            "x2             2.8909      0.569      5.081      0.000       1.746       4.036\n",
            "x3            -3.2232      0.927     -3.477      0.001      -5.089      -1.357\n",
            "const         10.1031      0.310     32.573      0.000       9.479      10.727\n",
            "==============================================================================\n",
            "Omnibus:                        2.831   Durbin-Watson:                   1.998\n",
            "Prob(Omnibus):                  0.243   Jarque-Bera (JB):                1.927\n",
            "Skew:                          -0.279   Prob(JB):                        0.382\n",
            "Kurtosis:                       2.217   Cond. No.                         96.3\n",
            "==============================================================================\n",
            "\n",
            "Notes:\n",
            "[1] Standard Errors assume that the covariance matrix of the errors is correctly specified.\n"
          ]
        }
      ]
    },
    {
      "cell_type": "markdown",
      "source": [
        "# Remarques:\n",
        "[1] Les erreurs standard supposent que la matrice de covariance des erreurs est correctement spécifiée.\n",
        "Dessinez un graphique pour comparer la véritable relation avec les prédictions OLS :"
      ],
      "metadata": {
        "id": "2WhHvSwjBjZF"
      }
    },
    {
      "cell_type": "code",
      "source": [
        "pred_ols2 = res2.get_prediction()\n",
        "iv_l = pred_ols.summary_frame()[\"obs_ci_lower\"]\n",
        "iv_u = pred_ols.summary_frame()[\"obs_ci_upper\"]\n",
        "\n",
        "fig, ax = plt.subplots(figsize=(8, 6))\n",
        "\n",
        "ax.plot(x, y, \"o\", label=\"Data\")\n",
        "ax.plot(x, y_true, \"b-\", label=\"True\")\n",
        "ax.plot(x, res2.fittedvalues, \"r--.\", label=\"Predicted\")\n",
        "ax.plot(x, iv_u, \"r--\")\n",
        "ax.plot(x, iv_l, \"r--\")\n",
        "legend = ax.legend(loc=\"best\")"
      ],
      "metadata": {
        "colab": {
          "base_uri": "https://localhost:8080/",
          "height": 374
        },
        "id": "TxCSF3OVBlbY",
        "outputId": "4d86f0ac-7c27-4e90-d3bc-240d31524cc4"
      },
      "execution_count": 19,
      "outputs": [
        {
          "output_type": "display_data",
          "data": {
            "text/plain": [
              "<Figure size 576x432 with 1 Axes>"
            ],
            "image/png": "[encoded data removed]"
          },
          "metadata": {
            "needs_background": "light"
          }
        }
      ]
    },
    {
      "cell_type": "markdown",
      "source": [
        "# test F\n",
        "Nous voulons tester l'hypothèse que les deux coefficients sur les variables indicatrices sont égaux à zéro, c'est-à-dire Rxb=0.\n",
        ". Un test F nous conduit à rejeter fortement l'hypothèse nulle de constante identique dans les 3 groupes :"
      ],
      "metadata": {
        "id": "xpzhrXrJByel"
      }
    },
    {
      "cell_type": "code",
      "source": [
        "R = [[0, 1, 0, 0], [0, 0, 1, 0]]\n",
        "print(np.array(R))\n",
        "print(res2.f_test(R))"
      ],
      "metadata": {
        "colab": {
          "base_uri": "https://localhost:8080/"
        },
        "id": "_aJxmju5CE4N",
        "outputId": "e1149e36-e444-499b-862d-b81e6f6017e2"
      },
      "execution_count": 20,
      "outputs": [
        {
          "output_type": "stream",
          "name": "stdout",
          "text": [
            "[[0 1 0 0]\n",
            " [0 0 1 0]]\n",
            "<F test: F=array([[145.49268198]]), p=1.2834419617281953e-20, df_denom=46, df_num=2>\n"
          ]
        }
      ]
    },
    {
      "cell_type": "markdown",
      "source": [
        "Vous pouvez également utiliser une syntaxe de type formule pour tester des hypothèses"
      ],
      "metadata": {
        "id": "2aLKq3ScCNI1"
      }
    },
    {
      "cell_type": "code",
      "source": [
        "print(res2.f_test(\"x2 = x3 = 0\"))"
      ],
      "metadata": {
        "colab": {
          "base_uri": "https://localhost:8080/"
        },
        "id": "dfhm2vcFCOv-",
        "outputId": "6ae62f37-a5d2-4772-dcc7-57a30693ba33"
      },
      "execution_count": 21,
      "outputs": [
        {
          "output_type": "stream",
          "name": "stdout",
          "text": [
            "<F test: F=array([[145.49268198]]), p=1.2834419617282074e-20, df_denom=46, df_num=2>\n"
          ]
        }
      ]
    },
    {
      "cell_type": "markdown",
      "source": [
        "# Effets de petit groupe\n",
        "Si nous générons des données artificielles avec des effets de groupe plus petits, le test T ne peut plus rejeter l'hypothèse nulle :"
      ],
      "metadata": {
        "id": "AJFA6VADCVWs"
      }
    },
    {
      "cell_type": "code",
      "source": [
        "beta = [1.0, 0.3, -0.0, 10]\n",
        "y_true = np.dot(X, beta)\n",
        "y = y_true + np.random.normal(size=nsample)\n",
        "\n",
        "res3 = sm.OLS(y, X).fit()"
      ],
      "metadata": {
        "id": "X1l7Hc43Cirw"
      },
      "execution_count": 22,
      "outputs": []
    },
    {
      "cell_type": "code",
      "source": [
        "print(res3.f_test(R))"
      ],
      "metadata": {
        "colab": {
          "base_uri": "https://localhost:8080/"
        },
        "id": "osJuuV2NCu4h",
        "outputId": "84edd1ee-6e8f-45dd-c085-82bec9b2923a"
      },
      "execution_count": 23,
      "outputs": [
        {
          "output_type": "stream",
          "name": "stdout",
          "text": [
            "<F test: F=array([[1.22491119]]), p=0.3031864410631272, df_denom=46, df_num=2>\n"
          ]
        }
      ]
    },
    {
      "cell_type": "code",
      "source": [
        "print(res3.f_test(\"x2 = x3 = 0\"))"
      ],
      "metadata": {
        "colab": {
          "base_uri": "https://localhost:8080/"
        },
        "id": "NTiucsypCyUh",
        "outputId": "086d5c3b-ffe6-431f-9a73-36b01cec96ba"
      },
      "execution_count": 24,
      "outputs": [
        {
          "output_type": "stream",
          "name": "stdout",
          "text": [
            "<F test: F=array([[1.22491119]]), p=0.30318644106312803, df_denom=46, df_num=2>\n"
          ]
        }
      ]
    },
    {
      "cell_type": "markdown",
      "source": [
        "# Multicolinéarité\n",
        "Le jeu de données de Longley est bien connu pour avoir une multicolinéarité élevée. Autrement dit, les prédicteurs exogènes sont fortement corrélés. Ceci est problématique car cela peut affecter la stabilité de nos estimations de coefficients lorsque nous apportons des modifications mineures à la spécification du modèle."
      ],
      "metadata": {
        "id": "VfRM3pIhC20F"
      }
    },
    {
      "cell_type": "code",
      "source": [
        "from statsmodels.datasets.longley import load_pandas\n",
        "\n",
        "y = load_pandas().endog\n",
        "X = load_pandas().exog\n",
        "X = sm.add_constant(X)"
      ],
      "metadata": {
        "colab": {
          "base_uri": "https://localhost:8080/"
        },
        "id": "gB5H0jxMC463",
        "outputId": "029e7b72-7b61-4876-c9c3-2ff8505fac49"
      },
      "execution_count": 25,
      "outputs": [
        {
          "output_type": "stream",
          "name": "stderr",
          "text": [
            "/usr/local/lib/python3.8/dist-packages/statsmodels/tsa/tsatools.py:142: FutureWarning: In a future version of pandas all arguments of concat except for the argument 'objs' will be keyword-only\n",
            "  x = pd.concat(x[::order], 1)\n"
          ]
        }
      ]
    },
    {
      "cell_type": "markdown",
      "source": [
        "# Ajustement et résumé :"
      ],
      "metadata": {
        "id": "aVp5jGjQC_KE"
      }
    },
    {
      "cell_type": "code",
      "source": [
        "ols_model = sm.OLS(y, X)\n",
        "ols_results = ols_model.fit()\n",
        "print(ols_results.summary())"
      ],
      "metadata": {
        "colab": {
          "base_uri": "https://localhost:8080/"
        },
        "id": "LDS1BthlDBZy",
        "outputId": "05298437-4c41-4056-9200-f24821011b93"
      },
      "execution_count": 26,
      "outputs": [
        {
          "output_type": "stream",
          "name": "stdout",
          "text": [
            "                            OLS Regression Results                            \n",
            "==============================================================================\n",
            "Dep. Variable:                 TOTEMP   R-squared:                       0.995\n",
            "Model:                            OLS   Adj. R-squared:                  0.992\n",
            "Method:                 Least Squares   F-statistic:                     330.3\n",
            "Date:                Sun, 29 Jan 2023   Prob (F-statistic):           4.98e-10\n",
            "Time:                        10:21:56   Log-Likelihood:                -109.62\n",
            "No. Observations:                  16   AIC:                             233.2\n",
            "Df Residuals:                       9   BIC:                             238.6\n",
            "Df Model:                           6                                         \n",
            "Covariance Type:            nonrobust                                         \n",
            "==============================================================================\n",
            "                 coef    std err          t      P>|t|      [0.025      0.975]\n",
            "------------------------------------------------------------------------------\n",
            "const      -3.482e+06    8.9e+05     -3.911      0.004    -5.5e+06   -1.47e+06\n",
            "GNPDEFL       15.0619     84.915      0.177      0.863    -177.029     207.153\n",
            "GNP           -0.0358      0.033     -1.070      0.313      -0.112       0.040\n",
            "UNEMP         -2.0202      0.488     -4.136      0.003      -3.125      -0.915\n",
            "ARMED         -1.0332      0.214     -4.822      0.001      -1.518      -0.549\n",
            "POP           -0.0511      0.226     -0.226      0.826      -0.563       0.460\n",
            "YEAR        1829.1515    455.478      4.016      0.003     798.788    2859.515\n",
            "==============================================================================\n",
            "Omnibus:                        0.749   Durbin-Watson:                   2.559\n",
            "Prob(Omnibus):                  0.688   Jarque-Bera (JB):                0.684\n",
            "Skew:                           0.420   Prob(JB):                        0.710\n",
            "Kurtosis:                       2.434   Cond. No.                     4.86e+09\n",
            "==============================================================================\n",
            "\n",
            "Notes:\n",
            "[1] Standard Errors assume that the covariance matrix of the errors is correctly specified.\n",
            "[2] The condition number is large, 4.86e+09. This might indicate that there are\n",
            "strong multicollinearity or other numerical problems.\n"
          ]
        },
        {
          "output_type": "stream",
          "name": "stderr",
          "text": [
            "/usr/local/lib/python3.8/dist-packages/scipy/stats/stats.py:1541: UserWarning: kurtosistest only valid for n>=20 ... continuing anyway, n=16\n",
            "  warnings.warn(\"kurtosistest only valid for n>=20 ... continuing \"\n"
          ]
        }
      ]
    },
    {
      "cell_type": "markdown",
      "source": [
        "# Numéro d'état\n",
        "Une façon d'évaluer la multicolinéarité consiste à calculer le nombre de conditions. Les valeurs supérieures à 20 sont inquiétantes (voir Greene 4.9). La première étape consiste à normaliser les variables indépendantes pour avoir une longueur unitaire :"
      ],
      "metadata": {
        "id": "5qkQ_VamDSIg"
      }
    },
    {
      "cell_type": "code",
      "source": [
        "norm_x = X.values\n",
        "for i, name in enumerate(X):\n",
        "    if name == \"const\":\n",
        "        continue\n",
        "    norm_x[:, i] = X[name] / np.linalg.norm(X[name])\n",
        "norm_xtx = np.dot(norm_x.T, norm_x)"
      ],
      "metadata": {
        "id": "jp8nZzHWDUiE"
      },
      "execution_count": 27,
      "outputs": []
    },
    {
      "cell_type": "markdown",
      "source": [
        "Ensuite, nous prenons la racine carrée du rapport de la plus grande à la plus petite valeur propre"
      ],
      "metadata": {
        "id": "4_lB0X_fDbl3"
      }
    },
    {
      "cell_type": "code",
      "source": [
        "eigs = np.linalg.eigvals(norm_xtx)\n",
        "condition_number = np.sqrt(eigs.max() / eigs.min())\n",
        "print(condition_number)"
      ],
      "metadata": {
        "colab": {
          "base_uri": "https://localhost:8080/"
        },
        "id": "4vMD1GgxDdC2",
        "outputId": "e663f6d0-dde3-423d-df94-6194cc326cc8"
      },
      "execution_count": 28,
      "outputs": [
        {
          "output_type": "stream",
          "name": "stdout",
          "text": [
            "56240.87037739987\n"
          ]
        }
      ]
    },
    {
      "cell_type": "markdown",
      "source": [
        "# Suppression d'une observation\n",
        "Greene souligne également que l'abandon d'une seule observation peut avoir un effet dramatique sur les estimations des coefficients :"
      ],
      "metadata": {
        "id": "tMOjH2coDjCc"
      }
    },
    {
      "cell_type": "code",
      "source": [
        "ols_results2 = sm.OLS(y.iloc[:14], X.iloc[:14]).fit()\n",
        "print(\n",
        "    \"Percentage change %4.2f%%\\n\"\n",
        "    * 7\n",
        "    % tuple(\n",
        "        [\n",
        "            i\n",
        "            for i in (ols_results2.params - ols_results.params)\n",
        "            / ols_results.params\n",
        "            * 100\n",
        "        ]\n",
        "    )\n",
        ")"
      ],
      "metadata": {
        "colab": {
          "base_uri": "https://localhost:8080/"
        },
        "id": "hhyaRc8PDlD-",
        "outputId": "c5743a5d-7801-44df-8ad4-a7682c8dd919"
      },
      "execution_count": 29,
      "outputs": [
        {
          "output_type": "stream",
          "name": "stdout",
          "text": [
            "Percentage change 4.55%\n",
            "Percentage change -2228.01%\n",
            "Percentage change 154304695.31%\n",
            "Percentage change 1366329.02%\n",
            "Percentage change 1112549.36%\n",
            "Percentage change 92708715.91%\n",
            "Percentage change 817944.26%\n",
            "\n"
          ]
        }
      ]
    },
    {
      "cell_type": "markdown",
      "source": [
        "Nous pouvons également consulter des statistiques formelles pour cela, telles que le DFBETAS - une mesure standardisée de la variation de chaque coefficient lorsque cette observation est omise."
      ],
      "metadata": {
        "id": "xUiQVYO4DuiH"
      }
    },
    {
      "cell_type": "code",
      "source": [
        "infl = ols_results.get_influence()"
      ],
      "metadata": {
        "id": "hpOXGVMuDwdb"
      },
      "execution_count": 30,
      "outputs": []
    },
    {
      "cell_type": "markdown",
      "source": [
        "En général on peut considérer DBETAS en valeur absolue supérieure à\n",
        "être des observations influentes"
      ],
      "metadata": {
        "id": "eOxcavxxD4x_"
      }
    },
    {
      "cell_type": "code",
      "source": [
        "2.0 / len(X) ** 0.5"
      ],
      "metadata": {
        "colab": {
          "base_uri": "https://localhost:8080/"
        },
        "id": "wcYiYFBYD8cp",
        "outputId": "91cd92f7-2eb2-4275-f24c-1d383051e71e"
      },
      "execution_count": 31,
      "outputs": [
        {
          "output_type": "execute_result",
          "data": {
            "text/plain": [
              "0.5"
            ]
          },
          "metadata": {},
          "execution_count": 31
        }
      ]
    },
    {
      "cell_type": "code",
      "source": [
        "print(infl.summary_frame().filter(regex=\"dfb\"))"
      ],
      "metadata": {
        "colab": {
          "base_uri": "https://localhost:8080/"
        },
        "id": "RURd6U13EFjg",
        "outputId": "ef156657-2152-41ea-8fe3-0c96be31cbf5"
      },
      "execution_count": 32,
      "outputs": [
        {
          "output_type": "stream",
          "name": "stdout",
          "text": [
            "    dfb_const  dfb_GNPDEFL       dfb_GNP     dfb_UNEMP     dfb_ARMED  \\\n",
            "0   -0.016406  -169.822675  1.673981e+06  54490.318088  51447.824036   \n",
            "1   -0.020608  -187.251727  1.829990e+06  54495.312977  52659.808664   \n",
            "2   -0.008382   -65.417834  1.587601e+06  52002.330476  49078.352378   \n",
            "3    0.018093   288.503914  1.155359e+06  56211.331922  60350.723082   \n",
            "4    1.871260  -171.109595  4.498197e+06  82532.785818  71034.429294   \n",
            "5   -0.321373  -104.123822  1.398891e+06  52559.760056  47486.527649   \n",
            "6    0.315945  -169.413317  2.364827e+06  59754.651394  50371.817827   \n",
            "7    0.015816   -69.343793  1.641243e+06  51849.056936  48628.749338   \n",
            "8   -0.004019   -86.903523  1.649443e+06  52023.265116  49114.178265   \n",
            "9   -1.018242  -201.315802  1.371257e+06  56432.027292  53997.742487   \n",
            "10   0.030947   -78.359439  1.658753e+06  52254.848135  49341.055289   \n",
            "11   0.005987  -100.926843  1.662425e+06  51744.606934  48968.560299   \n",
            "12  -0.135883   -32.093127  1.245487e+06  50203.467593  51148.376274   \n",
            "13   0.032736   -78.513866  1.648417e+06  52509.194459  50212.844641   \n",
            "14   0.305868   -16.833121  1.829996e+06  60975.868083  58263.878679   \n",
            "15  -0.538323   102.027105  1.344844e+06  54721.897640  49660.474568   \n",
            "\n",
            "          dfb_POP      dfb_YEAR  \n",
            "0   207954.113589 -31969.158503  \n",
            "1    25343.938290 -29760.155888  \n",
            "2   107465.770565 -29593.195253  \n",
            "3   456190.215133 -36213.129569  \n",
            "4  -389122.401699 -49905.782854  \n",
            "5   144354.586054 -28985.057609  \n",
            "6  -107413.074918 -32984.462465  \n",
            "7    92843.959345 -29724.975873  \n",
            "8    83931.635336 -29563.619222  \n",
            "9    18392.575057 -29203.217108  \n",
            "10   93617.648517 -29846.022426  \n",
            "11   95414.217290 -29690.904188  \n",
            "12  258559.048569 -29296.334617  \n",
            "13  104434.061226 -30025.564763  \n",
            "14  275103.677859 -36060.612522  \n",
            "15 -110176.960671 -28053.834556  \n"
          ]
        },
        {
          "output_type": "stream",
          "name": "stderr",
          "text": [
            "/usr/local/lib/python3.8/dist-packages/statsmodels/stats/outliers_influence.py:693: RuntimeWarning: invalid value encountered in sqrt\n",
            "  return self.resid / sigma / np.sqrt(1 - hii)\n",
            "/usr/local/lib/python3.8/dist-packages/statsmodels/stats/outliers_influence.py:733: RuntimeWarning: invalid value encountered in sqrt\n",
            "  dffits_ = self.resid_studentized_internal * np.sqrt(hii / (1 - hii))\n",
            "/usr/local/lib/python3.8/dist-packages/statsmodels/stats/outliers_influence.py:762: RuntimeWarning: invalid value encountered in sqrt\n",
            "  dffits_ = self.resid_studentized_external * np.sqrt(hii / (1 - hii))\n"
          ]
        }
      ]
    }
  ]
}