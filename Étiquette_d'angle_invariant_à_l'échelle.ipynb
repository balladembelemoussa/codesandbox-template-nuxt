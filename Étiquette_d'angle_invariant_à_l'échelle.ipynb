{
  "nbformat": 4,
  "nbformat_minor": 0,
  "metadata": {
    "colab": {
      "provenance": [],
      "authorship_tag": "ABX9TyMxOoYEiWcTrSiGWBXF4+CQ",
      "include_colab_link": true
    },
    "kernelspec": {
      "name": "python3",
      "display_name": "Python 3"
    },
    "language_info": {
      "name": "python"
    }
  },
  "cells": [
    {
      "cell_type": "markdown",
      "metadata": {
        "id": "view-in-github",
        "colab_type": "text"
      },
      "source": [
        "<a href=\"https://colab.research.google.com/github/balladembelemoussa/codesandbox-template-nuxt/blob/main/%C3%89tiquette_d'angle_invariant_%C3%A0_l'%C3%A9chelle.ipynb\" target=\"_parent\"><img src=\"https://colab.research.google.com/assets/colab-badge.svg\" alt=\"Open In Colab\"/></a>"
      ]
    },
    {
      "cell_type": "markdown",
      "source": [
        "# Étiquette d'angle invariant à l'échelle \n",
        "Cet exemple montre comment créer une annotation d'angle invariant à l'échelle. Il est souvent utile de marquer les angles entre les lignes ou à l'intérieur des formes avec un arc de cercle. Alors que Matplotlib fournit unArc , un problème inhérent lors de son utilisation directe à de telles fins est qu'un arc circulaire dans l'espace de données n'est pas nécessairement circulaire dans l'espace d'affichage. De plus, le rayon de l'arc est souvent mieux défini dans un système de coordonnées indépendant des coordonnées réelles des données - du moins si vous souhaitez pouvoir zoomer librement sur votre tracé sans que l'annotation ne s'étende à l'infini.\n",
        "\n",
        "Cela appelle une solution où le centre de l'arc est défini dans l'espace de données, mais son rayon dans une unité physique comme des points ou des pixels, ou comme un rapport de la dimension Axes. Ce qui suitAngleAnnotation classe suivante fournit une telle solution.\n",
        "\n",
        "L'exemple ci-dessous a deux objectifs :\n",
        "\n",
        "Il fournit une solution prête à l'emploi pour le problème de dessiner facilement des angles dans des graphiques.\n",
        "\n",
        "Il montre comment sous-classer un artiste Matplotlib pour améliorer ses fonctionnalités, ainsi que donner un exemple pratique sur la façon d'utiliser le système de transformation de Matplotlib .\n",
        "\n",
        "Si vous êtes principalement intéressé par le premier, vous pouvez copier la classe ci-dessous et passer à la section Utilisation .\n",
        "\n",
        "Classe AngleAnnotation \n",
        "L'idée essentielle ici est de sous-classer Arcet de définir sa transformation sur IdentityTransform, en définissant les paramètres de l'arc dans l'espace pixel. Nous remplaçons ensuite les Arcattributs _center, theta1, theta2et widthet heighten faisons des propriétés, couplées à des méthodes internes qui calculent les paramètres respectifs à chaque accès à l'attribut et garantissent ainsi que l'arc dans l'espace pixel reste synchronisé avec les points d'entrée et la taille. Par exemple, chaque fois que la méthode de dessin de l'arc interrogeait son fichier_center attribut, au lieu de recevoir à nouveau le même nombre, elle recevra à la place le résultat de la get_center_in_pixelsméthode que nous avons définie dans la sous-classe. Cette méthode transforme le centre des coordonnées de données en pixels via la transformation Axesax.transData. La taille et les angles sont calculés de la même manière, de sorte que l'arc change automatiquement de forme lors, par exemple, d'un zoom ou d'un panoramique interactif.\n",
        "\n",
        "La fonctionnalité de cette classe permet d'annoter l'arc avec un texte. Ce texte est Annotationstocké dans un attribut text. Étant donné que la position et le rayon de l'arc ne sont définis qu'au moment du dessin, nous devons mettre à jour la position du texte en conséquence. Cela se fait en réimplémentant la Arcméthode draw()de pour lui permettre d'appeler une méthode de mise à jour pour le texte.\n",
        "\n",
        "L'arc et le texte seront ajoutés aux Axes fournis lors de l'instanciation : il n'est donc pas strictement nécessaire d'en garder une référence."
      ],
      "metadata": {
        "id": "_Mp0hcQJ64Dy"
      }
    },
    {
      "cell_type": "code",
      "source": [
        "import numpy as np\n",
        "import matplotlib.pyplot as plt\n",
        "from matplotlib.patches import Arc\n",
        "from matplotlib.transforms import IdentityTransform, TransformedBbox, Bbox\n",
        "\n",
        "\n",
        "class AngleAnnotation(Arc):\n",
        "    \"\"\"\n",
        "    Draws an arc between two vectors which appears circular in display space.\n",
        "    \"\"\"\n",
        "    def __init__(self, xy, p1, p2, size=75, unit=\"points\", ax=None,\n",
        "                 text=\"\", textposition=\"inside\", text_kw=None, **kwargs):\n",
        "        \"\"\"\n",
        "        Parameters\n",
        "        ----------\n",
        "        xy, p1, p2 : tuple or array of two floats\n",
        "            Center position and two points. Angle annotation is drawn between\n",
        "            the two vectors connecting *p1* and *p2* with *xy*, respectively.\n",
        "            Units are data coordinates.\n",
        "\n",
        "        size : float\n",
        "            Diameter of the angle annotation in units specified by *unit*.\n",
        "\n",
        "        unit : str\n",
        "            One of the following strings to specify the unit of *size*:\n",
        "\n",
        "            * \"pixels\": pixels\n",
        "            * \"points\": points, use points instead of pixels to not have a\n",
        "              dependence on the DPI\n",
        "            * \"axes width\", \"axes height\": relative units of Axes width, height\n",
        "            * \"axes min\", \"axes max\": minimum or maximum of relative Axes\n",
        "              width, height\n",
        "\n",
        "        ax : `matplotlib.axes.Axes`\n",
        "            The Axes to add the angle annotation to.\n",
        "\n",
        "        text : str\n",
        "            The text to mark the angle with.\n",
        "\n",
        "        textposition : {\"inside\", \"outside\", \"edge\"}\n",
        "            Whether to show the text in- or outside the arc. \"edge\" can be used\n",
        "            for custom positions anchored at the arc's edge.\n",
        "\n",
        "        text_kw : dict\n",
        "            Dictionary of arguments passed to the Annotation.\n",
        "\n",
        "        **kwargs\n",
        "            Further parameters are passed to `matplotlib.patches.Arc`. Use this\n",
        "            to specify, color, linewidth etc. of the arc.\n",
        "\n",
        "        \"\"\"\n",
        "        self.ax = ax or plt.gca()\n",
        "        self._xydata = xy  # in data coordinates\n",
        "        self.vec1 = p1\n",
        "        self.vec2 = p2\n",
        "        self.size = size\n",
        "        self.unit = unit\n",
        "        self.textposition = textposition\n",
        "\n",
        "        super().__init__(self._xydata, size, size, angle=0.0,\n",
        "                         theta1=self.theta1, theta2=self.theta2, **kwargs)\n",
        "\n",
        "        self.set_transform(IdentityTransform())\n",
        "        self.ax.add_patch(self)\n",
        "\n",
        "        self.kw = dict(ha=\"center\", va=\"center\",\n",
        "                       xycoords=IdentityTransform(),\n",
        "                       xytext=(0, 0), textcoords=\"offset points\",\n",
        "                       annotation_clip=True)\n",
        "        self.kw.update(text_kw or {})\n",
        "        self.text = ax.annotate(text, xy=self._center, **self.kw)\n",
        "\n",
        "    def get_size(self):\n",
        "        factor = 1.\n",
        "        if self.unit == \"points\":\n",
        "            factor = self.ax.figure.dpi / 72.\n",
        "        elif self.unit[:4] == \"axes\":\n",
        "            b = TransformedBbox(Bbox.from_bounds(0, 0, 1, 1),\n",
        "                                self.ax.transAxes)\n",
        "            dic = {\"max\": max(b.width, b.height),\n",
        "                   \"min\": min(b.width, b.height),\n",
        "                   \"width\": b.width, \"height\": b.height}\n",
        "            factor = dic[self.unit[5:]]\n",
        "        return self.size * factor\n",
        "\n",
        "    def set_size(self, size):\n",
        "        self.size = size\n",
        "\n",
        "    def get_center_in_pixels(self):\n",
        "        \"\"\"return center in pixels\"\"\"\n",
        "        return self.ax.transData.transform(self._xydata)\n",
        "\n",
        "    def set_center(self, xy):\n",
        "        \"\"\"set center in data coordinates\"\"\"\n",
        "        self._xydata = xy\n",
        "\n",
        "    def get_theta(self, vec):\n",
        "        vec_in_pixels = self.ax.transData.transform(vec) - self._center\n",
        "        return np.rad2deg(np.arctan2(vec_in_pixels[1], vec_in_pixels[0]))\n",
        "\n",
        "    def get_theta1(self):\n",
        "        return self.get_theta(self.vec1)\n",
        "\n",
        "    def get_theta2(self):\n",
        "        return self.get_theta(self.vec2)\n",
        "\n",
        "    def set_theta(self, angle):\n",
        "        pass\n",
        "\n",
        "    # Redefine attributes of the Arc to always give values in pixel space\n",
        "    _center = property(get_center_in_pixels, set_center)\n",
        "    theta1 = property(get_theta1, set_theta)\n",
        "    theta2 = property(get_theta2, set_theta)\n",
        "    width = property(get_size, set_size)\n",
        "    height = property(get_size, set_size)\n",
        "\n",
        "    # The following two methods are needed to update the text position.\n",
        "    def draw(self, renderer):\n",
        "        self.update_text()\n",
        "        super().draw(renderer)\n",
        "\n",
        "    def update_text(self):\n",
        "        c = self._center\n",
        "        s = self.get_size()\n",
        "        angle_span = (self.theta2 - self.theta1) % 360\n",
        "        angle = np.deg2rad(self.theta1 + angle_span / 2)\n",
        "        r = s / 2\n",
        "        if self.textposition == \"inside\":\n",
        "            r = s / np.interp(angle_span, [60, 90, 135, 180],\n",
        "                                          [3.3, 3.5, 3.8, 4])\n",
        "        self.text.xy = c + r * np.array([np.cos(angle), np.sin(angle)])\n",
        "        if self.textposition == \"outside\":\n",
        "            def R90(a, r, w, h):\n",
        "                if a < np.arctan(h/2/(r+w/2)):\n",
        "                    return np.sqrt((r+w/2)**2 + (np.tan(a)*(r+w/2))**2)\n",
        "                else:\n",
        "                    c = np.sqrt((w/2)**2+(h/2)**2)\n",
        "                    T = np.arcsin(c * np.cos(np.pi/2 - a + np.arcsin(h/2/c))/r)\n",
        "                    xy = r * np.array([np.cos(a + T), np.sin(a + T)])\n",
        "                    xy += np.array([w/2, h/2])\n",
        "                    return np.sqrt(np.sum(xy**2))\n",
        "\n",
        "            def R(a, r, w, h):\n",
        "                aa = (a % (np.pi/4))*((a % (np.pi/2)) <= np.pi/4) + \\\n",
        "                     (np.pi/4 - (a % (np.pi/4)))*((a % (np.pi/2)) >= np.pi/4)\n",
        "                return R90(aa, r, *[w, h][::int(np.sign(np.cos(2*a)))])\n",
        "\n",
        "            bbox = self.text.get_window_extent()\n",
        "            X = R(angle, r, bbox.width, bbox.height)\n",
        "            trans = self.ax.figure.dpi_scale_trans.inverted()\n",
        "            offs = trans.transform(((X-s/2), 0))[0] * 72\n",
        "            self.text.set_position([offs*np.cos(angle), offs*np.sin(angle)])\n"
      ],
      "metadata": {
        "id": "IjmcuHbC67Iv"
      },
      "execution_count": 5,
      "outputs": []
    },
    {
      "cell_type": "markdown",
      "source": [
        "# Utilisation \n",
        "Les arguments requis pour AngleAnnotationsont le centre de l'arc, xy et deux points, de sorte que l'arc s'étende entre les deux vecteurs reliant p1 et p2 à xy , respectivement. Ceux-ci sont donnés en coordonnées de données. D'autres arguments sont la taille de l'arc et son unité . De plus, un texte peut être spécifié, qui sera dessiné à l'intérieur ou à l'extérieur de l'arc, selon la valeur de textposition . L'utilisation de ces arguments est illustrée ci-dessous."
      ],
      "metadata": {
        "id": "yw8yA9xB7SJC"
      }
    },
    {
      "cell_type": "code",
      "source": [
        "fig, ax = plt.subplots()\n",
        "fig.canvas.draw()  # Need to draw the figure to define renderer\n",
        "ax.set_title(\"AngleLabel example\")\n",
        "\n",
        "# Plot two crossing lines and label each angle between them with the above\n",
        "# ``AngleAnnotation`` tool.\n",
        "center = (4.5, 650)\n",
        "p1 = [(2.5, 710), (6.0, 605)]\n",
        "p2 = [(3.0, 275), (5.5, 900)]\n",
        "line1, = ax.plot(*zip(*p1))\n",
        "line2, = ax.plot(*zip(*p2))\n",
        "point, = ax.plot(*center, marker=\"o\")\n",
        "\n",
        "am1 = AngleAnnotation(center, p1[1], p2[1], ax=ax, size=75, text=r\"$\\alpha$\")\n",
        "am2 = AngleAnnotation(center, p2[1], p1[0], ax=ax, size=35, text=r\"$\\beta$\")\n",
        "am3 = AngleAnnotation(center, p1[0], p2[0], ax=ax, size=75, text=r\"$\\gamma$\")\n",
        "am4 = AngleAnnotation(center, p2[0], p1[1], ax=ax, size=35, text=r\"$\\theta$\")\n",
        "\n",
        "\n",
        "# Showcase some styling options for the angle arc, as well as the text.\n",
        "p = [(6.0, 400), (5.3, 410), (5.6, 300)]\n",
        "ax.plot(*zip(*p))\n",
        "am5 = AngleAnnotation(p[1], p[0], p[2], ax=ax, size=40, text=r\"$\\Phi$\",\n",
        "                      linestyle=\"--\", color=\"gray\", textposition=\"outside\",\n",
        "                      text_kw=dict(fontsize=16, color=\"gray\"))"
      ],
      "metadata": {
        "colab": {
          "base_uri": "https://localhost:8080/",
          "height": 281
        },
        "id": "G0dRV3l77VkY",
        "outputId": "b9619832-f845-44cd-92db-76f03d231989"
      },
      "execution_count": 6,
      "outputs": [
        {
          "output_type": "display_data",
          "data": {
            "text/plain": [
              "<Figure size 432x288 with 1 Axes>"
            ],
            "image/png": "[encoded data removed]"
          },
          "metadata": {
            "needs_background": "light"
          }
        }
      ]
    },
    {
      "cell_type": "markdown",
      "source": [
        "# AngleLabeloption \n",
        "Les arguments textposition et unit mot-clé peuvent être utilisés pour modifier l'emplacement de l'étiquette de texte, comme indiqué ci-dessous :"
      ],
      "metadata": {
        "id": "rkxKSAxI7aIV"
      }
    },
    {
      "cell_type": "code",
      "source": [
        "# Helper function to draw angle easily.\n",
        "def plot_angle(ax, pos, angle, length=0.95, acol=\"C0\", **kwargs):\n",
        "    vec2 = np.array([np.cos(np.deg2rad(angle)), np.sin(np.deg2rad(angle))])\n",
        "    xy = np.c_[[length, 0], [0, 0], vec2*length].T + np.array(pos)\n",
        "    ax.plot(*xy.T, color=acol)\n",
        "    return AngleAnnotation(pos, xy[0], xy[2], ax=ax, **kwargs)\n",
        "\n",
        "\n",
        "fig, (ax1, ax2) = plt.subplots(nrows=2, sharex=True)\n",
        "fig.suptitle(\"AngleLabel keyword arguments\")\n",
        "fig.canvas.draw()  # Need to draw the figure to define renderer\n",
        "\n",
        "# Showcase different text positions.\n",
        "ax1.margins(y=0.4)\n",
        "ax1.set_title(\"textposition\")\n",
        "kw = dict(size=75, unit=\"points\", text=r\"$60°$\")\n",
        "\n",
        "am6 = plot_angle(ax1, (2.0, 0), 60, textposition=\"inside\", **kw)\n",
        "am7 = plot_angle(ax1, (3.5, 0), 60, textposition=\"outside\", **kw)\n",
        "am8 = plot_angle(ax1, (5.0, 0), 60, textposition=\"edge\",\n",
        "                 text_kw=dict(bbox=dict(boxstyle=\"round\", fc=\"w\")), **kw)\n",
        "am9 = plot_angle(ax1, (6.5, 0), 60, textposition=\"edge\",\n",
        "                 text_kw=dict(xytext=(30, 20), arrowprops=dict(arrowstyle=\"->\",\n",
        "                              connectionstyle=\"arc3,rad=-0.2\")), **kw)\n",
        "\n",
        "for x, text in zip([2.0, 3.5, 5.0, 6.5], ['\"inside\"', '\"outside\"', '\"edge\"',\n",
        "                                          '\"edge\", custom arrow']):\n",
        "    ax1.annotate(text, xy=(x, 0), xycoords=ax1.get_xaxis_transform(),\n",
        "                 bbox=dict(boxstyle=\"round\", fc=\"w\"), ha=\"left\", fontsize=8,\n",
        "                 annotation_clip=True)\n",
        "\n",
        "# Showcase different size units. The effect of this can best be observed\n",
        "# by interactively changing the figure size\n",
        "ax2.margins(y=0.4)\n",
        "ax2.set_title(\"unit\")\n",
        "kw = dict(text=r\"$60°$\", textposition=\"outside\")\n",
        "\n",
        "am10 = plot_angle(ax2, (2.0, 0), 60, size=50, unit=\"pixels\", **kw)\n",
        "am11 = plot_angle(ax2, (3.5, 0), 60, size=50, unit=\"points\", **kw)\n",
        "am12 = plot_angle(ax2, (5.0, 0), 60, size=0.25, unit=\"axes min\", **kw)\n",
        "am13 = plot_angle(ax2, (6.5, 0), 60, size=0.25, unit=\"axes max\", **kw)\n",
        "\n",
        "for x, text in zip([2.0, 3.5, 5.0, 6.5], ['\"pixels\"', '\"points\"',\n",
        "                                          '\"axes min\"', '\"axes max\"']):\n",
        "    ax2.annotate(text, xy=(x, 0), xycoords=ax2.get_xaxis_transform(),\n",
        "                 bbox=dict(boxstyle=\"round\", fc=\"w\"), ha=\"left\", fontsize=8,\n",
        "                 annotation_clip=True)\n",
        "\n",
        "plt.show()"
      ],
      "metadata": {
        "colab": {
          "base_uri": "https://localhost:8080/",
          "height": 294
        },
        "id": "vzZYQD4b7dOP",
        "outputId": "e0304ab6-6b46-4019-a858-e8adf7f6e0c2"
      },
      "execution_count": 7,
      "outputs": [
        {
          "output_type": "display_data",
          "data": {
            "text/plain": [
              "<Figure size 432x288 with 2 Axes>"
            ],
            "image/png": "[encoded data removed]"
          },
          "metadata": {
            "needs_background": "light"
          }
        }
      ]
    }
  ]
}