{
  "cells": [
    {
      "cell_type": "markdown",
      "metadata": {
        "id": "view-in-github",
        "colab_type": "text"
      },
      "source": [
        "<a href=\"https://colab.research.google.com/github/balladembelemoussa/codesandbox-template-nuxt/blob/main/NumPy.ipynb\" target=\"_parent\"><img src=\"https://colab.research.google.com/assets/colab-badge.svg\" alt=\"Open In Colab\"/></a>"
      ]
    },
    {
      "cell_type": "code",
      "execution_count": null,
      "metadata": {
        "id": "eJSP3d4D95QF"
      },
      "outputs": [],
      "source": [
        "import numpy as np"
      ]
    },
    {
      "cell_type": "code",
      "execution_count": null,
      "metadata": {
        "id": "cZ_ow9Tr95QJ"
      },
      "outputs": [],
      "source": [
        "notre_tableau=np.array([1,2,3,4,5,6,7,8,9,10,11,12,13,14,15,16,17,18,19,20])"
      ]
    },
    {
      "cell_type": "code",
      "execution_count": null,
      "metadata": {
        "id": "BlqNA8nk95QM",
        "outputId": "1ea9e724-7c0e-4d81-fe3f-8ff395c1e007"
      },
      "outputs": [
        {
          "data": {
            "text/plain": [
              "array([ 1,  2,  3,  4,  5,  6,  7,  8,  9, 10, 11, 12, 13, 14, 15, 16, 17,\n",
              "       18, 19, 20])"
            ]
          },
          "execution_count": 7,
          "metadata": {},
          "output_type": "execute_result"
        }
      ],
      "source": [
        "notre_tableau"
      ]
    },
    {
      "cell_type": "code",
      "execution_count": null,
      "metadata": {
        "id": "Ye3RzlfF95QP"
      },
      "outputs": [],
      "source": [
        "mon_array_bidimensionnel=np.array([[1,2,3], [4,5,6], [7,8,9]])"
      ]
    },
    {
      "cell_type": "code",
      "execution_count": null,
      "metadata": {
        "id": "rKH01KgY95QR",
        "outputId": "219c6add-8ebc-4f2d-ff09-aa772dce3ba2"
      },
      "outputs": [
        {
          "data": {
            "text/plain": [
              "array([[1, 2, 3],\n",
              "       [4, 5, 6],\n",
              "       [7, 8, 9]])"
            ]
          },
          "execution_count": 9,
          "metadata": {},
          "output_type": "execute_result"
        }
      ],
      "source": [
        "mon_array_bidimensionnel"
      ]
    },
    {
      "cell_type": "code",
      "execution_count": null,
      "metadata": {
        "id": "xTSz0-NH95QS"
      },
      "outputs": [],
      "source": [
        "sous_tableau=notre_tableau[0:5]"
      ]
    },
    {
      "cell_type": "code",
      "execution_count": null,
      "metadata": {
        "id": "2HacwRPU95QU",
        "outputId": "5d9d817a-06e9-40e4-c959-e5b5cde43169"
      },
      "outputs": [
        {
          "data": {
            "text/plain": [
              "array([1, 2, 3, 4, 5])"
            ]
          },
          "execution_count": 11,
          "metadata": {},
          "output_type": "execute_result"
        }
      ],
      "source": [
        "sous_tableau"
      ]
    },
    {
      "cell_type": "code",
      "execution_count": null,
      "metadata": {
        "id": "2g6zccFR95QV"
      },
      "outputs": [],
      "source": [
        "sous_tableau[0]=10"
      ]
    },
    {
      "cell_type": "code",
      "execution_count": null,
      "metadata": {
        "id": "w6seodZ095QW",
        "outputId": "bf4864bb-9604-4ffb-f999-717c52bb4419"
      },
      "outputs": [
        {
          "data": {
            "text/plain": [
              "array([10,  2,  3,  4,  5])"
            ]
          },
          "execution_count": 13,
          "metadata": {},
          "output_type": "execute_result"
        }
      ],
      "source": [
        "sous_tableau"
      ]
    },
    {
      "cell_type": "code",
      "execution_count": null,
      "metadata": {
        "id": "bqnfJ5Gj95QX",
        "outputId": "e8c704dd-3994-4fec-cc92-4d63373966ba"
      },
      "outputs": [
        {
          "data": {
            "text/plain": [
              "array([10,  2,  3,  4,  5,  6,  7,  8,  9, 10, 11, 12, 13, 14, 15, 16, 17,\n",
              "       18, 19, 20])"
            ]
          },
          "execution_count": 14,
          "metadata": {},
          "output_type": "execute_result"
        }
      ],
      "source": [
        "notre_tableau"
      ]
    },
    {
      "cell_type": "code",
      "execution_count": null,
      "metadata": {
        "id": "_IG0R2br95QY"
      },
      "outputs": [],
      "source": [
        "notre_tableau=np.array([1,2,3,4,5,6,7,8,9,10,11,12,13,14,15,16,17,18,19,20])"
      ]
    },
    {
      "cell_type": "code",
      "execution_count": null,
      "metadata": {
        "id": "b8XdtYJp95QZ",
        "outputId": "83b1dbbd-7cca-439e-ff64-672d86373135"
      },
      "outputs": [
        {
          "data": {
            "text/plain": [
              "array([ 1,  2,  3,  4,  5,  6,  7,  8,  9, 10, 11, 12, 13, 14, 15, 16, 17,\n",
              "       18, 19, 20])"
            ]
          },
          "execution_count": 16,
          "metadata": {},
          "output_type": "execute_result"
        }
      ],
      "source": [
        "notre_tableau"
      ]
    },
    {
      "cell_type": "code",
      "execution_count": null,
      "metadata": {
        "id": "aHVXv-4b95QZ"
      },
      "outputs": [],
      "source": [
        "sous_tableau=notre_tableau[0:5].copy()"
      ]
    },
    {
      "cell_type": "code",
      "execution_count": null,
      "metadata": {
        "id": "z1e1sloy95Qa",
        "outputId": "4bd607c6-c094-4f8f-cdbd-53066829cd92"
      },
      "outputs": [
        {
          "data": {
            "text/plain": [
              "array([1, 2, 3, 4, 5])"
            ]
          },
          "execution_count": 18,
          "metadata": {},
          "output_type": "execute_result"
        }
      ],
      "source": [
        "sous_tableau"
      ]
    },
    {
      "cell_type": "code",
      "execution_count": null,
      "metadata": {
        "id": "22C5de_U95Qa"
      },
      "outputs": [],
      "source": [
        "sous_tableau[0]=10"
      ]
    },
    {
      "cell_type": "code",
      "execution_count": null,
      "metadata": {
        "id": "uv_m_5Hf95Qb",
        "outputId": "97530d3e-0dff-460c-a610-117fceb3d6a2"
      },
      "outputs": [
        {
          "data": {
            "text/plain": [
              "array([10,  2,  3,  4,  5])"
            ]
          },
          "execution_count": 20,
          "metadata": {},
          "output_type": "execute_result"
        }
      ],
      "source": [
        "sous_tableau"
      ]
    },
    {
      "cell_type": "code",
      "execution_count": null,
      "metadata": {
        "id": "tfm-Vk3O95Qb",
        "outputId": "97043e4b-5741-4271-d4f6-da2017913883"
      },
      "outputs": [
        {
          "data": {
            "text/plain": [
              "array([ 1,  2,  3,  4,  5,  6,  7,  8,  9, 10, 11, 12, 13, 14, 15, 16, 17,\n",
              "       18, 19, 20])"
            ]
          },
          "execution_count": 21,
          "metadata": {},
          "output_type": "execute_result"
        }
      ],
      "source": [
        "notre_tableau"
      ]
    },
    {
      "cell_type": "code",
      "execution_count": null,
      "metadata": {
        "id": "aXOM3AbE95Qc",
        "outputId": "524a1d9d-8261-4688-d959-f3c813fa71a7"
      },
      "outputs": [
        {
          "data": {
            "text/plain": [
              "array([[1, 2, 3],\n",
              "       [4, 5, 6],\n",
              "       [7, 8, 9]])"
            ]
          },
          "execution_count": 22,
          "metadata": {},
          "output_type": "execute_result"
        }
      ],
      "source": [
        "mon_array_bidimensionnel"
      ]
    },
    {
      "cell_type": "code",
      "execution_count": null,
      "metadata": {
        "id": "GKnuSxA395Qc",
        "outputId": "fd5d263c-29b0-48ae-9af3-5eaf250297bc"
      },
      "outputs": [
        {
          "data": {
            "text/plain": [
              "6"
            ]
          },
          "execution_count": 23,
          "metadata": {},
          "output_type": "execute_result"
        }
      ],
      "source": [
        "mon_array_bidimensionnel[1,2]"
      ]
    },
    {
      "cell_type": "code",
      "execution_count": null,
      "metadata": {
        "id": "xEbtdRdu95Qd",
        "outputId": "67ae9b03-5241-42a5-c985-f09456962617"
      },
      "outputs": [
        {
          "data": {
            "text/plain": [
              "6"
            ]
          },
          "execution_count": 24,
          "metadata": {},
          "output_type": "execute_result"
        }
      ],
      "source": [
        "mon_array_bidimensionnel[1,-1]"
      ]
    },
    {
      "cell_type": "code",
      "execution_count": null,
      "metadata": {
        "id": "JX_aCYLY95Qd",
        "outputId": "12ac9056-35b2-41e0-e4c3-11405f5e488e"
      },
      "outputs": [
        {
          "data": {
            "text/plain": [
              "array([1, 4, 7])"
            ]
          },
          "execution_count": 25,
          "metadata": {},
          "output_type": "execute_result"
        }
      ],
      "source": [
        "mon_array_bidimensionnel[:,0]"
      ]
    },
    {
      "cell_type": "code",
      "execution_count": null,
      "metadata": {
        "id": "zULS2uu895Qe",
        "outputId": "87125df8-90b2-4164-a33e-ce1b6918acb9"
      },
      "outputs": [
        {
          "data": {
            "text/plain": [
              "array([1, 2, 3])"
            ]
          },
          "execution_count": 26,
          "metadata": {},
          "output_type": "execute_result"
        }
      ],
      "source": [
        "mon_array_bidimensionnel[0,:]"
      ]
    },
    {
      "cell_type": "code",
      "execution_count": null,
      "metadata": {
        "id": "ZbsPJtBj95Qf",
        "outputId": "3785a17b-1ca4-453f-8e54-4872e2de1e90"
      },
      "outputs": [
        {
          "data": {
            "text/plain": [
              "array([[1, 3],\n",
              "       [4, 6],\n",
              "       [7, 9]])"
            ]
          },
          "execution_count": 27,
          "metadata": {},
          "output_type": "execute_result"
        }
      ],
      "source": [
        "mon_array_bidimensionnel[:,0:3:2]"
      ]
    },
    {
      "cell_type": "code",
      "execution_count": null,
      "metadata": {
        "id": "_XzbTgDQ95Qf",
        "outputId": "011b5ab5-49b0-4da7-957c-5f4fca16f2af"
      },
      "outputs": [
        {
          "data": {
            "text/plain": [
              "array([3, 6, 9])"
            ]
          },
          "execution_count": 28,
          "metadata": {},
          "output_type": "execute_result"
        }
      ],
      "source": [
        "mon_array_bidimensionnel[:,-1]"
      ]
    },
    {
      "cell_type": "code",
      "execution_count": null,
      "metadata": {
        "id": "yQ67__w_95Qg",
        "outputId": "17fea0bc-d17d-4181-e265-3ece1768377a"
      },
      "outputs": [
        {
          "data": {
            "text/plain": [
              "array([[2],\n",
              "       [5],\n",
              "       [8]])"
            ]
          },
          "execution_count": 30,
          "metadata": {},
          "output_type": "execute_result"
        }
      ],
      "source": [
        "mon_array_bidimensionnel[:,1:-1]"
      ]
    },
    {
      "cell_type": "code",
      "execution_count": null,
      "metadata": {
        "id": "DsZnn01Q95Qh",
        "outputId": "873f991c-6e8b-43b3-8e56-8e3bac30d59f"
      },
      "outputs": [
        {
          "data": {
            "text/plain": [
              "array([8])"
            ]
          },
          "execution_count": 40,
          "metadata": {},
          "output_type": "execute_result"
        }
      ],
      "source": [
        "mon_array_bidimensionnel[2,1:-1]"
      ]
    },
    {
      "cell_type": "code",
      "execution_count": null,
      "metadata": {
        "id": "wAjJtNKx95Qh"
      },
      "outputs": [],
      "source": [
        "array=np.random.randint(100,size=(6,4))"
      ]
    },
    {
      "cell_type": "code",
      "execution_count": null,
      "metadata": {
        "id": "vQTwuCIC95Qi",
        "outputId": "40396b51-45f7-472b-97f3-fe6ecbb11761"
      },
      "outputs": [
        {
          "data": {
            "text/plain": [
              "array([[16, 29, 68, 99],\n",
              "       [57, 20, 38, 42],\n",
              "       [66, 69, 24, 51],\n",
              "       [61, 31, 47, 36],\n",
              "       [47,  7, 81, 23],\n",
              "       [21,  8, 52, 75]])"
            ]
          },
          "execution_count": 47,
          "metadata": {},
          "output_type": "execute_result"
        }
      ],
      "source": [
        "array"
      ]
    },
    {
      "cell_type": "code",
      "execution_count": null,
      "metadata": {
        "id": "BWfSyiyE95Qj",
        "outputId": "7f1d28de-fd5c-4901-d5c1-95b401789317"
      },
      "outputs": [
        {
          "data": {
            "text/plain": [
              "2"
            ]
          },
          "execution_count": 49,
          "metadata": {},
          "output_type": "execute_result"
        }
      ],
      "source": [
        "array.ndim"
      ]
    },
    {
      "cell_type": "code",
      "execution_count": null,
      "metadata": {
        "id": "CLTexMnl95Qj",
        "outputId": "55ee7814-e08d-4c63-d3b0-a8d6a8e951fe"
      },
      "outputs": [
        {
          "data": {
            "text/plain": [
              "(6, 4)"
            ]
          },
          "execution_count": 50,
          "metadata": {},
          "output_type": "execute_result"
        }
      ],
      "source": [
        "array.shape"
      ]
    },
    {
      "cell_type": "code",
      "execution_count": null,
      "metadata": {
        "id": "h-QIRnpq95Qj",
        "outputId": "cf10a623-2d14-403b-9d64-c5dd9ea7dd08"
      },
      "outputs": [
        {
          "data": {
            "text/plain": [
              "dtype('int32')"
            ]
          },
          "execution_count": 51,
          "metadata": {},
          "output_type": "execute_result"
        }
      ],
      "source": [
        "array.dtype"
      ]
    },
    {
      "cell_type": "code",
      "execution_count": null,
      "metadata": {
        "id": "Yfa2TdBS95Qk",
        "outputId": "35f27c09-b7c7-487c-f404-b3f08a255c5a"
      },
      "outputs": [
        {
          "data": {
            "text/plain": [
              "24"
            ]
          },
          "execution_count": 52,
          "metadata": {},
          "output_type": "execute_result"
        }
      ],
      "source": [
        "array.size"
      ]
    },
    {
      "cell_type": "code",
      "execution_count": null,
      "metadata": {
        "id": "dHbQmCZ195Qk",
        "outputId": "fb24ac6c-334e-4891-8307-3fea96f9bc04"
      },
      "outputs": [
        {
          "data": {
            "text/plain": [
              "array([68, 99, 57, 66, 69, 51, 61, 81, 52, 75])"
            ]
          },
          "execution_count": 53,
          "metadata": {},
          "output_type": "execute_result"
        }
      ],
      "source": [
        "array[array>50]"
      ]
    },
    {
      "cell_type": "code",
      "execution_count": null,
      "metadata": {
        "id": "pDRJd4HS95Qk",
        "outputId": "cb846f05-cb64-4e14-b76a-5d94dea74b2f"
      },
      "outputs": [
        {
          "data": {
            "text/plain": [
              "array([[False, False,  True,  True],\n",
              "       [ True, False, False, False],\n",
              "       [ True,  True, False,  True],\n",
              "       [ True, False, False, False],\n",
              "       [False, False,  True, False],\n",
              "       [False, False,  True,  True]])"
            ]
          },
          "execution_count": 54,
          "metadata": {},
          "output_type": "execute_result"
        }
      ],
      "source": [
        "array>50"
      ]
    },
    {
      "cell_type": "code",
      "execution_count": null,
      "metadata": {
        "id": "Z24Sw0UQ95Ql",
        "outputId": "63a72812-ffeb-44dc-9742-72bc71a99e9f"
      },
      "outputs": [
        {
          "data": {
            "text/plain": [
              "array([68, 99, 57, 66, 69, 51, 61, 81, 52, 75])"
            ]
          },
          "execution_count": 55,
          "metadata": {},
          "output_type": "execute_result"
        }
      ],
      "source": [
        "array[array>=50]"
      ]
    },
    {
      "cell_type": "code",
      "execution_count": null,
      "metadata": {
        "id": "CiyvVE3S95Ql",
        "outputId": "09eac246-5c3c-4ef2-945c-739971bc2cdf"
      },
      "outputs": [
        {
          "data": {
            "text/plain": [
              "array([16, 29, 20, 38, 42, 24, 31, 47, 36, 47,  7, 23, 21,  8])"
            ]
          },
          "execution_count": 56,
          "metadata": {},
          "output_type": "execute_result"
        }
      ],
      "source": [
        "array[array<50]"
      ]
    },
    {
      "cell_type": "code",
      "execution_count": null,
      "metadata": {
        "id": "Qze2ldMV95Qm",
        "outputId": "9dc6e503-4681-4fdb-9afd-2fe9b61e7658"
      },
      "outputs": [
        {
          "data": {
            "text/plain": [
              "array([], dtype=int32)"
            ]
          },
          "execution_count": 57,
          "metadata": {},
          "output_type": "execute_result"
        }
      ],
      "source": [
        "array[array==50]"
      ]
    },
    {
      "cell_type": "code",
      "execution_count": null,
      "metadata": {
        "id": "PJoEE8r095Qm",
        "outputId": "f832a49f-2731-4020-e5a9-525a38233905"
      },
      "outputs": [
        {
          "data": {
            "text/plain": [
              "array([16, 29, 68, 99, 57, 20, 38, 42, 66, 69, 24, 51, 61, 31, 47, 36, 47,\n",
              "        7, 81, 23, 21,  8, 52, 75])"
            ]
          },
          "execution_count": 58,
          "metadata": {},
          "output_type": "execute_result"
        }
      ],
      "source": [
        "array[array!=50]"
      ]
    },
    {
      "cell_type": "code",
      "execution_count": null,
      "metadata": {
        "id": "UEbq44JI95Qm",
        "outputId": "74cfde6e-5b11-419b-e83d-12dde6d8636c"
      },
      "outputs": [
        {
          "data": {
            "text/plain": [
              "array([68, 57, 66, 69, 51, 61, 52])"
            ]
          },
          "execution_count": 59,
          "metadata": {},
          "output_type": "execute_result"
        }
      ],
      "source": [
        "# & : and\n",
        "# | : or\n",
        "array[(array >=50) & (array <=70)]"
      ]
    },
    {
      "cell_type": "code",
      "execution_count": null,
      "metadata": {
        "id": "p7mqiGPi95Qn",
        "outputId": "aef7ee97-db38-4ee7-b8b1-4e61037e142a"
      },
      "outputs": [
        {
          "data": {
            "text/plain": [
              "array([16, 29, 68, 99, 57, 20, 38, 66, 69, 24, 51, 61, 31, 36,  7, 81, 23,\n",
              "       21,  8, 52, 75])"
            ]
          },
          "execution_count": 60,
          "metadata": {},
          "output_type": "execute_result"
        }
      ],
      "source": [
        "array[(array>=50) | (array<=40)]"
      ]
    },
    {
      "cell_type": "code",
      "execution_count": null,
      "metadata": {
        "id": "zDLMylhA95Qo"
      },
      "outputs": [],
      "source": [
        "array1=np.array([[1,2,3],[4,5,6],[7,8,9]])"
      ]
    },
    {
      "cell_type": "code",
      "execution_count": null,
      "metadata": {
        "id": "Qv_6sCTh95Qo"
      },
      "outputs": [],
      "source": [
        "array2=np.array([[2,5,6],[9,10,11],[5,6,9]])"
      ]
    },
    {
      "cell_type": "code",
      "execution_count": null,
      "metadata": {
        "id": "7AaoGycP95Qo",
        "outputId": "055ba108-d3f2-42d8-9208-f0b2c3f40481"
      },
      "outputs": [
        {
          "data": {
            "text/plain": [
              "array([[ 1,  2,  3],\n",
              "       [ 4,  5,  6],\n",
              "       [ 7,  8,  9],\n",
              "       [ 2,  5,  6],\n",
              "       [ 9, 10, 11],\n",
              "       [ 5,  6,  9]])"
            ]
          },
          "execution_count": 69,
          "metadata": {},
          "output_type": "execute_result"
        }
      ],
      "source": [
        "np.concatenate([array1,array2])"
      ]
    },
    {
      "cell_type": "code",
      "execution_count": null,
      "metadata": {
        "id": "nN5sJEUT95Qp"
      },
      "outputs": [],
      "source": [
        "array3=np.array([[4,10,13], [7,14,15], [10,16,84]])"
      ]
    },
    {
      "cell_type": "code",
      "execution_count": null,
      "metadata": {
        "id": "OKlFT5ie95Qp",
        "outputId": "5b647ed2-2afc-4208-9493-da0914e4ab81"
      },
      "outputs": [
        {
          "data": {
            "text/plain": [
              "array([[ 1,  2,  3],\n",
              "       [ 4,  5,  6],\n",
              "       [ 7,  8,  9],\n",
              "       [ 2,  5,  6],\n",
              "       [ 9, 10, 11],\n",
              "       [ 5,  6,  9],\n",
              "       [ 4, 10, 13],\n",
              "       [ 7, 14, 15],\n",
              "       [10, 16, 84]])"
            ]
          },
          "execution_count": 71,
          "metadata": {},
          "output_type": "execute_result"
        }
      ],
      "source": [
        "np.concatenate([array1, array2, array3])"
      ]
    },
    {
      "cell_type": "code",
      "execution_count": null,
      "metadata": {
        "id": "sXY7o11z95Qp"
      },
      "outputs": [],
      "source": [
        "array1=np.array([15,16,47])"
      ]
    },
    {
      "cell_type": "code",
      "execution_count": null,
      "metadata": {
        "id": "PG-UlYMA95Qq",
        "outputId": "04b87ce8-eaeb-4102-9d3f-64be52ef34e0"
      },
      "outputs": [
        {
          "data": {
            "text/plain": [
              "array([15, 16, 47])"
            ]
          },
          "execution_count": 73,
          "metadata": {},
          "output_type": "execute_result"
        }
      ],
      "source": [
        "array1"
      ]
    },
    {
      "cell_type": "code",
      "execution_count": null,
      "metadata": {
        "id": "xqP7WFYF95Qq"
      },
      "outputs": [],
      "source": [
        "array2=np.array([[1,2,3],[4,5,6],[7,8,9]])"
      ]
    },
    {
      "cell_type": "code",
      "execution_count": null,
      "metadata": {
        "id": "8SmWdT7I95Qq",
        "outputId": "6166d402-f419-4952-8e88-3e9d9572af92"
      },
      "outputs": [
        {
          "data": {
            "text/plain": [
              "array([[1, 2, 3],\n",
              "       [4, 5, 6],\n",
              "       [7, 8, 9]])"
            ]
          },
          "execution_count": 75,
          "metadata": {},
          "output_type": "execute_result"
        }
      ],
      "source": [
        "array2"
      ]
    },
    {
      "cell_type": "code",
      "execution_count": null,
      "metadata": {
        "id": "aC1CSenb95Qr",
        "outputId": "69c40b39-f9f2-4b9b-9a2f-179a3b67ea01"
      },
      "outputs": [
        {
          "data": {
            "text/plain": [
              "array([[15, 16, 47],\n",
              "       [ 1,  2,  3],\n",
              "       [ 4,  5,  6],\n",
              "       [ 7,  8,  9]])"
            ]
          },
          "execution_count": 77,
          "metadata": {},
          "output_type": "execute_result"
        }
      ],
      "source": [
        "np.vstack([array1,array2])"
      ]
    },
    {
      "cell_type": "code",
      "execution_count": null,
      "metadata": {
        "id": "aszo5MYr95Qr"
      },
      "outputs": [],
      "source": [
        "array1=np.array([[15], [16], [47]])"
      ]
    },
    {
      "cell_type": "code",
      "execution_count": null,
      "metadata": {
        "id": "8zE8ab_B95Qr",
        "outputId": "4ed8e0fc-6ce3-4650-b46f-95e92f947ff7"
      },
      "outputs": [
        {
          "data": {
            "text/plain": [
              "array([[15],\n",
              "       [16],\n",
              "       [47]])"
            ]
          },
          "execution_count": 79,
          "metadata": {},
          "output_type": "execute_result"
        }
      ],
      "source": [
        "array1"
      ]
    },
    {
      "cell_type": "code",
      "execution_count": null,
      "metadata": {
        "id": "G0yN1T1n95Qs",
        "outputId": "f1b989b3-11c3-40cb-a998-656b89bfdda5"
      },
      "outputs": [
        {
          "data": {
            "text/plain": [
              "array([[15,  1,  2,  3],\n",
              "       [16,  4,  5,  6],\n",
              "       [47,  7,  8,  9]])"
            ]
          },
          "execution_count": 80,
          "metadata": {},
          "output_type": "execute_result"
        }
      ],
      "source": [
        "np.hstack([array1,array2])"
      ]
    },
    {
      "cell_type": "code",
      "execution_count": null,
      "metadata": {
        "id": "5CPp1HMR95Qs"
      },
      "outputs": [],
      "source": [
        "array=np.array([15,16,17,12,49,52,12,14,36])"
      ]
    },
    {
      "cell_type": "code",
      "execution_count": null,
      "metadata": {
        "id": "J1HPYFEN95Qt",
        "outputId": "af59f985-260e-4685-fdbe-7ea458618c1d"
      },
      "outputs": [
        {
          "data": {
            "text/plain": [
              "9"
            ]
          },
          "execution_count": 82,
          "metadata": {},
          "output_type": "execute_result"
        }
      ],
      "source": [
        "len(array)"
      ]
    },
    {
      "cell_type": "code",
      "execution_count": null,
      "metadata": {
        "id": "k41JXObT95Qt",
        "outputId": "5a3b2d94-b162-43dd-e2ae-8e071a7f9b02"
      },
      "outputs": [
        {
          "data": {
            "text/plain": [
              "[array([15, 16]), array([17, 12, 49, 52]), array([12, 14, 36])]"
            ]
          },
          "execution_count": 83,
          "metadata": {},
          "output_type": "execute_result"
        }
      ],
      "source": [
        "np.split(array,[2,6])"
      ]
    },
    {
      "cell_type": "code",
      "execution_count": null,
      "metadata": {
        "id": "UVKznXzQ95Qt"
      },
      "outputs": [],
      "source": [
        "array1,array2,array3=np.split(array,[2,6])"
      ]
    },
    {
      "cell_type": "code",
      "execution_count": null,
      "metadata": {
        "id": "AhRinX1q95Qu",
        "outputId": "5031d5e5-4fac-4209-de76-1fc7bb3d732f"
      },
      "outputs": [
        {
          "name": "stdout",
          "output_type": "stream",
          "text": [
            "[15 16] [17 12 49 52] [12 14 36]\n"
          ]
        }
      ],
      "source": [
        "print(array1,array2,array3)"
      ]
    },
    {
      "cell_type": "code",
      "execution_count": null,
      "metadata": {
        "id": "gKWF8x0P95Qu"
      },
      "outputs": [],
      "source": [
        "array1,array2,array3,array4=np.split(array,[2,4,6])"
      ]
    },
    {
      "cell_type": "code",
      "execution_count": null,
      "metadata": {
        "id": "HfbkjC4D95Qu",
        "outputId": "0af5fe15-5293-4694-ff8a-ddb4948ea7f0"
      },
      "outputs": [
        {
          "name": "stdout",
          "output_type": "stream",
          "text": [
            "[15 16] [17 12] [49 52] [12 14 36]\n"
          ]
        }
      ],
      "source": [
        "print(array1,array2,array3,array4)"
      ]
    },
    {
      "cell_type": "code",
      "execution_count": null,
      "metadata": {
        "id": "SJS1r5Wu95Qv"
      },
      "outputs": [],
      "source": [
        "array2=np.array([[1,2,3],[4,5,6],[7,8,9]])"
      ]
    },
    {
      "cell_type": "code",
      "execution_count": null,
      "metadata": {
        "id": "cqOEUbO095Qv",
        "outputId": "0a48cccc-43e9-46c1-ce9c-cb9effa4be15"
      },
      "outputs": [
        {
          "name": "stdout",
          "output_type": "stream",
          "text": [
            "[[1 2 3]\n",
            " [4 5 6]] [[7 8 9]]\n"
          ]
        }
      ],
      "source": [
        "array1,array1bis=np.vsplit(array2, [2])\n",
        "print(array1,array1bis)"
      ]
    },
    {
      "cell_type": "code",
      "execution_count": null,
      "metadata": {
        "id": "3NrjCzIb95Qw",
        "outputId": "127a608d-dc9b-4626-9bfc-e8bb14a73941"
      },
      "outputs": [
        {
          "data": {
            "text/plain": [
              "array([[1, 2, 3],\n",
              "       [4, 5, 6],\n",
              "       [7, 8, 9]])"
            ]
          },
          "execution_count": 92,
          "metadata": {},
          "output_type": "execute_result"
        }
      ],
      "source": [
        "array2"
      ]
    },
    {
      "cell_type": "code",
      "execution_count": null,
      "metadata": {
        "id": "5sKe72o895Qw",
        "outputId": "927e805b-222a-45d7-9eb3-464e0dab34f9"
      },
      "outputs": [
        {
          "name": "stdout",
          "output_type": "stream",
          "text": [
            "[[1 2]\n",
            " [4 5]\n",
            " [7 8]] [[3]\n",
            " [6]\n",
            " [9]]\n"
          ]
        }
      ],
      "source": [
        "array1,array1bis=np.hsplit(array2,[2])\n",
        "print(array1,array1bis)"
      ]
    },
    {
      "cell_type": "code",
      "execution_count": null,
      "metadata": {
        "id": "UpSUNYE295Qw"
      },
      "outputs": [],
      "source": [
        "array=np.random.randint(350, size=(10,9))"
      ]
    },
    {
      "cell_type": "code",
      "execution_count": null,
      "metadata": {
        "id": "uMW9sMbH95Qx",
        "outputId": "0b8ee779-a6c1-4732-867a-1ca2ce54fabf"
      },
      "outputs": [
        {
          "data": {
            "text/plain": [
              "array([[ 26, 260, 149, 200, 106,  11,  16,  10, 285],\n",
              "       [136,  75, 287,   1, 261,  67,  47,  94, 218],\n",
              "       [225, 260, 212,  83, 318, 256, 220, 150, 148],\n",
              "       [115, 248, 229, 338, 149,  39, 161, 292,  54],\n",
              "       [  1, 318, 192,   2, 221,  46, 192, 208, 122],\n",
              "       [ 59,  82,  45, 271, 246, 123, 158, 154, 190],\n",
              "       [289, 230, 197, 205,  41,  50, 196, 272, 276],\n",
              "       [310, 103, 178, 251, 191, 168, 233, 324, 142],\n",
              "       [ 95, 279, 317, 277, 244,  78, 274, 241,  13],\n",
              "       [ 15, 259,   0, 149, 199, 296, 193, 271,  36]])"
            ]
          },
          "execution_count": 96,
          "metadata": {},
          "output_type": "execute_result"
        }
      ],
      "source": [
        "array"
      ]
    },
    {
      "cell_type": "code",
      "execution_count": null,
      "metadata": {
        "id": "U8kpyvH095Qx",
        "outputId": "8a18063e-62f5-42d0-c6f3-d887742459b0"
      },
      "outputs": [
        {
          "data": {
            "text/plain": [
              "array([[ 28, 262, 151, 202, 108,  13,  18,  12, 287],\n",
              "       [138,  77, 289,   3, 263,  69,  49,  96, 220],\n",
              "       [227, 262, 214,  85, 320, 258, 222, 152, 150],\n",
              "       [117, 250, 231, 340, 151,  41, 163, 294,  56],\n",
              "       [  3, 320, 194,   4, 223,  48, 194, 210, 124],\n",
              "       [ 61,  84,  47, 273, 248, 125, 160, 156, 192],\n",
              "       [291, 232, 199, 207,  43,  52, 198, 274, 278],\n",
              "       [312, 105, 180, 253, 193, 170, 235, 326, 144],\n",
              "       [ 97, 281, 319, 279, 246,  80, 276, 243,  15],\n",
              "       [ 17, 261,   2, 151, 201, 298, 195, 273,  38]])"
            ]
          },
          "execution_count": 97,
          "metadata": {},
          "output_type": "execute_result"
        }
      ],
      "source": [
        "array + 2"
      ]
    },
    {
      "cell_type": "code",
      "execution_count": null,
      "metadata": {
        "id": "iUxp-wOP95Qy",
        "outputId": "73e76201-1f21-405c-bc85-05f6a4db87fe"
      },
      "outputs": [
        {
          "data": {
            "text/plain": [
              "array([[ 24, 258, 147, 198, 104,   9,  14,   8, 283],\n",
              "       [134,  73, 285,  -1, 259,  65,  45,  92, 216],\n",
              "       [223, 258, 210,  81, 316, 254, 218, 148, 146],\n",
              "       [113, 246, 227, 336, 147,  37, 159, 290,  52],\n",
              "       [ -1, 316, 190,   0, 219,  44, 190, 206, 120],\n",
              "       [ 57,  80,  43, 269, 244, 121, 156, 152, 188],\n",
              "       [287, 228, 195, 203,  39,  48, 194, 270, 274],\n",
              "       [308, 101, 176, 249, 189, 166, 231, 322, 140],\n",
              "       [ 93, 277, 315, 275, 242,  76, 272, 239,  11],\n",
              "       [ 13, 257,  -2, 147, 197, 294, 191, 269,  34]])"
            ]
          },
          "execution_count": 98,
          "metadata": {},
          "output_type": "execute_result"
        }
      ],
      "source": [
        "array - 2"
      ]
    },
    {
      "cell_type": "code",
      "execution_count": null,
      "metadata": {
        "id": "E68pqgok95RB",
        "outputId": "4a8660c5-c39f-4e47-e5a8-853f653709eb"
      },
      "outputs": [
        {
          "data": {
            "text/plain": [
              "array([[ 260, 2600, 1490, 2000, 1060,  110,  160,  100, 2850],\n",
              "       [1360,  750, 2870,   10, 2610,  670,  470,  940, 2180],\n",
              "       [2250, 2600, 2120,  830, 3180, 2560, 2200, 1500, 1480],\n",
              "       [1150, 2480, 2290, 3380, 1490,  390, 1610, 2920,  540],\n",
              "       [  10, 3180, 1920,   20, 2210,  460, 1920, 2080, 1220],\n",
              "       [ 590,  820,  450, 2710, 2460, 1230, 1580, 1540, 1900],\n",
              "       [2890, 2300, 1970, 2050,  410,  500, 1960, 2720, 2760],\n",
              "       [3100, 1030, 1780, 2510, 1910, 1680, 2330, 3240, 1420],\n",
              "       [ 950, 2790, 3170, 2770, 2440,  780, 2740, 2410,  130],\n",
              "       [ 150, 2590,    0, 1490, 1990, 2960, 1930, 2710,  360]])"
            ]
          },
          "execution_count": 99,
          "metadata": {},
          "output_type": "execute_result"
        }
      ],
      "source": [
        "array * 10"
      ]
    },
    {
      "cell_type": "code",
      "execution_count": null,
      "metadata": {
        "id": "fMh-7i6595RC",
        "outputId": "5ffb0f75-a6d6-426a-c76c-4437967256d8"
      },
      "outputs": [
        {
          "data": {
            "text/plain": [
              "array([ 260, 1360, 2250, 1150,   10,  590, 2890, 3100,  950,  150])"
            ]
          },
          "execution_count": 100,
          "metadata": {},
          "output_type": "execute_result"
        }
      ],
      "source": [
        "array[:,0] * 10"
      ]
    },
    {
      "cell_type": "code",
      "execution_count": null,
      "metadata": {
        "id": "gBQTHdG395RD",
        "outputId": "4021adb5-62ef-4011-9a49-2fa7f12c69f2"
      },
      "outputs": [
        {
          "data": {
            "text/plain": [
              "array([[ 13. , 130. ,  74.5, 100. ,  53. ,   5.5,   8. ,   5. , 142.5],\n",
              "       [ 68. ,  37.5, 143.5,   0.5, 130.5,  33.5,  23.5,  47. , 109. ],\n",
              "       [112.5, 130. , 106. ,  41.5, 159. , 128. , 110. ,  75. ,  74. ],\n",
              "       [ 57.5, 124. , 114.5, 169. ,  74.5,  19.5,  80.5, 146. ,  27. ],\n",
              "       [  0.5, 159. ,  96. ,   1. , 110.5,  23. ,  96. , 104. ,  61. ],\n",
              "       [ 29.5,  41. ,  22.5, 135.5, 123. ,  61.5,  79. ,  77. ,  95. ],\n",
              "       [144.5, 115. ,  98.5, 102.5,  20.5,  25. ,  98. , 136. , 138. ],\n",
              "       [155. ,  51.5,  89. , 125.5,  95.5,  84. , 116.5, 162. ,  71. ],\n",
              "       [ 47.5, 139.5, 158.5, 138.5, 122. ,  39. , 137. , 120.5,   6.5],\n",
              "       [  7.5, 129.5,   0. ,  74.5,  99.5, 148. ,  96.5, 135.5,  18. ]])"
            ]
          },
          "execution_count": 101,
          "metadata": {},
          "output_type": "execute_result"
        }
      ],
      "source": [
        "array / 2 "
      ]
    },
    {
      "cell_type": "code",
      "execution_count": null,
      "metadata": {
        "id": "bqpak2pV95RD",
        "outputId": "20588fd6-0599-4f4b-f21b-bb4b9c365a0e"
      },
      "outputs": [
        {
          "data": {
            "text/plain": [
              "array([[ 28, 262, 151, 202, 108,  13,  18,  12, 287],\n",
              "       [138,  77, 289,   3, 263,  69,  49,  96, 220],\n",
              "       [227, 262, 214,  85, 320, 258, 222, 152, 150],\n",
              "       [117, 250, 231, 340, 151,  41, 163, 294,  56],\n",
              "       [  3, 320, 194,   4, 223,  48, 194, 210, 124],\n",
              "       [ 61,  84,  47, 273, 248, 125, 160, 156, 192],\n",
              "       [291, 232, 199, 207,  43,  52, 198, 274, 278],\n",
              "       [312, 105, 180, 253, 193, 170, 235, 326, 144],\n",
              "       [ 97, 281, 319, 279, 246,  80, 276, 243,  15],\n",
              "       [ 17, 261,   2, 151, 201, 298, 195, 273,  38]])"
            ]
          },
          "execution_count": 102,
          "metadata": {},
          "output_type": "execute_result"
        }
      ],
      "source": [
        "np.add(array,2)"
      ]
    },
    {
      "cell_type": "code",
      "execution_count": null,
      "metadata": {
        "id": "ICKWHRme95RD",
        "outputId": "2b17d3d0-f9a1-4247-d71b-51e3a7d586d3"
      },
      "outputs": [
        {
          "data": {
            "text/plain": [
              "array([[ 19, 253, 142, 193,  99,   4,   9,   3, 278],\n",
              "       [129,  68, 280,  -6, 254,  60,  40,  87, 211],\n",
              "       [218, 253, 205,  76, 311, 249, 213, 143, 141],\n",
              "       [108, 241, 222, 331, 142,  32, 154, 285,  47],\n",
              "       [ -6, 311, 185,  -5, 214,  39, 185, 201, 115],\n",
              "       [ 52,  75,  38, 264, 239, 116, 151, 147, 183],\n",
              "       [282, 223, 190, 198,  34,  43, 189, 265, 269],\n",
              "       [303,  96, 171, 244, 184, 161, 226, 317, 135],\n",
              "       [ 88, 272, 310, 270, 237,  71, 267, 234,   6],\n",
              "       [  8, 252,  -7, 142, 192, 289, 186, 264,  29]])"
            ]
          },
          "execution_count": 104,
          "metadata": {},
          "output_type": "execute_result"
        }
      ],
      "source": [
        "np.subtract(array,7)"
      ]
    },
    {
      "cell_type": "code",
      "execution_count": null,
      "metadata": {
        "id": "XJCHb-4295RE",
        "outputId": "5b77a356-cce2-4427-f574-32b04fba787e"
      },
      "outputs": [
        {
          "data": {
            "text/plain": [
              "array([[ 260, 2600, 1490, 2000, 1060,  110,  160,  100, 2850],\n",
              "       [1360,  750, 2870,   10, 2610,  670,  470,  940, 2180],\n",
              "       [2250, 2600, 2120,  830, 3180, 2560, 2200, 1500, 1480],\n",
              "       [1150, 2480, 2290, 3380, 1490,  390, 1610, 2920,  540],\n",
              "       [  10, 3180, 1920,   20, 2210,  460, 1920, 2080, 1220],\n",
              "       [ 590,  820,  450, 2710, 2460, 1230, 1580, 1540, 1900],\n",
              "       [2890, 2300, 1970, 2050,  410,  500, 1960, 2720, 2760],\n",
              "       [3100, 1030, 1780, 2510, 1910, 1680, 2330, 3240, 1420],\n",
              "       [ 950, 2790, 3170, 2770, 2440,  780, 2740, 2410,  130],\n",
              "       [ 150, 2590,    0, 1490, 1990, 2960, 1930, 2710,  360]])"
            ]
          },
          "execution_count": 105,
          "metadata": {},
          "output_type": "execute_result"
        }
      ],
      "source": [
        "np.multiply(array,10)"
      ]
    },
    {
      "cell_type": "code",
      "execution_count": null,
      "metadata": {
        "id": "dasK-IZ295RE",
        "outputId": "e5f2e131-3a77-4db5-aebb-08ae4fda6867"
      },
      "outputs": [
        {
          "data": {
            "text/plain": [
              "array([[0.52, 5.2 , 2.98, 4.  , 2.12, 0.22, 0.32, 0.2 , 5.7 ],\n",
              "       [2.72, 1.5 , 5.74, 0.02, 5.22, 1.34, 0.94, 1.88, 4.36],\n",
              "       [4.5 , 5.2 , 4.24, 1.66, 6.36, 5.12, 4.4 , 3.  , 2.96],\n",
              "       [2.3 , 4.96, 4.58, 6.76, 2.98, 0.78, 3.22, 5.84, 1.08],\n",
              "       [0.02, 6.36, 3.84, 0.04, 4.42, 0.92, 3.84, 4.16, 2.44],\n",
              "       [1.18, 1.64, 0.9 , 5.42, 4.92, 2.46, 3.16, 3.08, 3.8 ],\n",
              "       [5.78, 4.6 , 3.94, 4.1 , 0.82, 1.  , 3.92, 5.44, 5.52],\n",
              "       [6.2 , 2.06, 3.56, 5.02, 3.82, 3.36, 4.66, 6.48, 2.84],\n",
              "       [1.9 , 5.58, 6.34, 5.54, 4.88, 1.56, 5.48, 4.82, 0.26],\n",
              "       [0.3 , 5.18, 0.  , 2.98, 3.98, 5.92, 3.86, 5.42, 0.72]])"
            ]
          },
          "execution_count": 106,
          "metadata": {},
          "output_type": "execute_result"
        }
      ],
      "source": [
        "np.divide(array, 50)"
      ]
    },
    {
      "cell_type": "code",
      "execution_count": null,
      "metadata": {
        "id": "8JFaztLX95RE",
        "outputId": "a70004c8-510f-405b-c937-2602bbbc01a6"
      },
      "outputs": [
        {
          "data": {
            "text/plain": [
              "169.64444444444445"
            ]
          },
          "execution_count": 107,
          "metadata": {},
          "output_type": "execute_result"
        }
      ],
      "source": [
        "np.mean(array)"
      ]
    },
    {
      "cell_type": "code",
      "execution_count": null,
      "metadata": {
        "id": "uoQkOULY95RF",
        "outputId": "d0ad2e4b-3a63-413d-928d-da074d330ce4"
      },
      "outputs": [
        {
          "data": {
            "text/plain": [
              "169.64444444444445"
            ]
          },
          "execution_count": 108,
          "metadata": {},
          "output_type": "execute_result"
        }
      ],
      "source": [
        "array.mean()"
      ]
    },
    {
      "cell_type": "code",
      "execution_count": null,
      "metadata": {
        "id": "VyOrzjoL95RF",
        "outputId": "3a148356-cea9-4f15-cc3e-e4552ea4bed8"
      },
      "outputs": [
        {
          "data": {
            "text/plain": [
              "0"
            ]
          },
          "execution_count": 109,
          "metadata": {},
          "output_type": "execute_result"
        }
      ],
      "source": [
        "array.min()"
      ]
    },
    {
      "cell_type": "code",
      "execution_count": null,
      "metadata": {
        "id": "idRNn9Uy95RG",
        "outputId": "482e2090-56c5-4776-bfde-d659f1af1083"
      },
      "outputs": [
        {
          "data": {
            "text/plain": [
              "338"
            ]
          },
          "execution_count": 110,
          "metadata": {},
          "output_type": "execute_result"
        }
      ],
      "source": [
        "array.max()"
      ]
    },
    {
      "cell_type": "code",
      "execution_count": null,
      "metadata": {
        "id": "SNRu3gEK95RG",
        "outputId": "d3febd8b-e260-4675-ad84-d5a7d2b3fe14"
      },
      "outputs": [
        {
          "data": {
            "text/plain": [
              "array([127.1, 211.4, 180.6, 177.7, 197.6, 113.4, 169. , 201.6, 148.4])"
            ]
          },
          "execution_count": 111,
          "metadata": {},
          "output_type": "execute_result"
        }
      ],
      "source": [
        "np.mean(array, axis=0)"
      ]
    },
    {
      "cell_type": "code",
      "execution_count": null,
      "metadata": {
        "id": "vj-3nl5X95RH",
        "outputId": "5d0b9df3-bab7-4cd5-9901-bd446a2512a7"
      },
      "outputs": [
        {
          "data": {
            "text/plain": [
              "array([118.11111111, 131.77777778, 208.        , 180.55555556,\n",
              "       144.66666667, 147.55555556, 195.11111111, 211.11111111,\n",
              "       202.        , 157.55555556])"
            ]
          },
          "execution_count": 112,
          "metadata": {},
          "output_type": "execute_result"
        }
      ],
      "source": [
        "np.mean(array, axis=1)"
      ]
    },
    {
      "cell_type": "code",
      "execution_count": null,
      "metadata": {
        "id": "bcAXXYtl95RH"
      },
      "outputs": [],
      "source": [
        "houses = np.genfromtxt(\"Houses.csv\", delimiter=\",\", dtype=int)"
      ]
    },
    {
      "cell_type": "code",
      "execution_count": null,
      "metadata": {
        "id": "Zt4cr4PP95RI",
        "outputId": "52df1620-3f7f-4bcb-e635-931ea2f9fb71"
      },
      "outputs": [
        {
          "data": {
            "text/plain": [
              "array([[212000,   4148,  25264],\n",
              "       [230000,   2501,  11891],\n",
              "       [339000,   4374,  25351],\n",
              "       [289000,   2398,  22215],\n",
              "       [160000,   2536,   9234],\n",
              "       [ 85000,   2368,  13329],\n",
              "       [ 85000,   1264,   8407],\n",
              "       [145000,   1572,  12588],\n",
              "       [164000,   2375,  16204],\n",
              "       [123500,   1161,   9626],\n",
              "       [180000,   1542,   8755],\n",
              "       [159500,   1464,  14636],\n",
              "       [156000,   2240,  21780],\n",
              "       [146500,   1269,  11250],\n",
              "       [101500,    924,   7361],\n",
              "       [109800,    768,  10497],\n",
              "       [182000,   1320,  15768],\n",
              "       [110000,   1845,  12153],\n",
              "       [125000,   1274,  13634],\n",
              "       [ 80000,   1905,  10890]])"
            ]
          },
          "execution_count": 114,
          "metadata": {},
          "output_type": "execute_result"
        }
      ],
      "source": [
        "houses"
      ]
    },
    {
      "cell_type": "code",
      "execution_count": null,
      "metadata": {
        "id": "-hsunYgx95RI"
      },
      "outputs": [],
      "source": [
        "#1. Convertir le prix des maisons en euros, sachant que 1 dollar = 0.86 euros\n",
        "houses[:,0]=houses[:,0]*0.86"
      ]
    },
    {
      "cell_type": "code",
      "execution_count": null,
      "metadata": {
        "id": "PPE3p6yx95RJ",
        "outputId": "735604f7-8dea-4adc-f642-d87673963712"
      },
      "outputs": [
        {
          "name": "stdout",
          "output_type": "stream",
          "text": [
            "[[182320   4148  25264]\n",
            " [197800   2501  11891]\n",
            " [291540   4374  25351]\n",
            " [248540   2398  22215]\n",
            " [137600   2536   9234]\n",
            " [ 73100   2368  13329]\n",
            " [ 73100   1264   8407]\n",
            " [124700   1572  12588]\n",
            " [141040   2375  16204]\n",
            " [106210   1161   9626]\n",
            " [154800   1542   8755]\n",
            " [137170   1464  14636]\n",
            " [134160   2240  21780]\n",
            " [125990   1269  11250]\n",
            " [ 87290    924   7361]\n",
            " [ 94428    768  10497]\n",
            " [156520   1320  15768]\n",
            " [ 94600   1845  12153]\n",
            " [107500   1274  13634]\n",
            " [ 68800   1905  10890]]\n"
          ]
        }
      ],
      "source": [
        "print(houses)"
      ]
    },
    {
      "cell_type": "code",
      "execution_count": null,
      "metadata": {
        "id": "hxh350-P95RJ"
      },
      "outputs": [],
      "source": [
        "#2. Convertir les pieds carrés en m² sachant que 1 pied carré = 0.09 m²\n",
        "houses[:,1:]=houses[:,1:]*0.09"
      ]
    },
    {
      "cell_type": "code",
      "execution_count": null,
      "metadata": {
        "id": "lft5dxRJ95RY",
        "outputId": "926a4f2a-b8e4-419e-e225-8545e742bbf2"
      },
      "outputs": [
        {
          "name": "stdout",
          "output_type": "stream",
          "text": [
            "[[182320    373   2273]\n",
            " [197800    225   1070]\n",
            " [291540    393   2281]\n",
            " [248540    215   1999]\n",
            " [137600    228    831]\n",
            " [ 73100    213   1199]\n",
            " [ 73100    113    756]\n",
            " [124700    141   1132]\n",
            " [141040    213   1458]\n",
            " [106210    104    866]\n",
            " [154800    138    787]\n",
            " [137170    131   1317]\n",
            " [134160    201   1960]\n",
            " [125990    114   1012]\n",
            " [ 87290     83    662]\n",
            " [ 94428     69    944]\n",
            " [156520    118   1419]\n",
            " [ 94600    166   1093]\n",
            " [107500    114   1227]\n",
            " [ 68800    171    980]]\n"
          ]
        }
      ],
      "source": [
        "print(houses)"
      ]
    },
    {
      "cell_type": "code",
      "execution_count": null,
      "metadata": {
        "id": "yTJEwcd495RZ",
        "outputId": "0593dfe2-9b13-4962-bc3d-c17284241c23"
      },
      "outputs": [
        {
          "data": {
            "text/plain": [
              "13"
            ]
          },
          "execution_count": 120,
          "metadata": {},
          "output_type": "execute_result"
        }
      ],
      "source": [
        "# 3. Combien de maisons ont un terrain de plus de 1000 m²\n",
        "len(houses[houses[:,2]>1000])"
      ]
    },
    {
      "cell_type": "code",
      "execution_count": null,
      "metadata": {
        "id": "R3kU-bR795Ra",
        "outputId": "6cced0af-9b88-4f58-ed77-3fc01e4faea2"
      },
      "outputs": [
        {
          "data": {
            "text/plain": [
              "2737208"
            ]
          },
          "execution_count": 121,
          "metadata": {},
          "output_type": "execute_result"
        }
      ],
      "source": [
        "# 4. Calculer la somme totale obtenue après la vente de toutes les maisons.\n",
        "np.sum(houses[:,0])"
      ]
    },
    {
      "cell_type": "code",
      "execution_count": null,
      "metadata": {
        "id": "DCIT7T9u95Ra",
        "outputId": "a8170c5b-dbe9-4dac-a40d-57cec720a4c1"
      },
      "outputs": [
        {
          "name": "stdout",
          "output_type": "stream",
          "text": [
            "291540\n"
          ]
        }
      ],
      "source": [
        "# 5. Quelle est la taille de la maison vendue la plus chère ?\n",
        "prix_max=np.max(houses[:,0])\n",
        "print(prix_max)"
      ]
    },
    {
      "cell_type": "code",
      "execution_count": null,
      "metadata": {
        "id": "QBJnxzp195Rb",
        "outputId": "a911a857-7117-4902-8280-cc712292cd40"
      },
      "outputs": [
        {
          "data": {
            "text/plain": [
              "array([[291540,    393,   2281]])"
            ]
          },
          "execution_count": 123,
          "metadata": {},
          "output_type": "execute_result"
        }
      ],
      "source": [
        "houses[houses[:,0] == prix_max]"
      ]
    },
    {
      "cell_type": "code",
      "execution_count": null,
      "metadata": {
        "id": "nmb1pOxZ95Rb"
      },
      "outputs": [],
      "source": [
        "# 6. casser l'array en trois tableau et le concaténer à nouveau pour obtenir le tableau initial\n",
        "prix,taille_maison,taille_terrain=np.hsplit(houses, 3)"
      ]
    },
    {
      "cell_type": "code",
      "execution_count": null,
      "metadata": {
        "id": "VjmKE4gQ95Rc"
      },
      "outputs": [],
      "source": [
        "houses_original=np.concatenate([prix, taille_maison, taille_terrain], axis = 1)"
      ]
    },
    {
      "cell_type": "code",
      "execution_count": null,
      "metadata": {
        "id": "Y1z0C6cN95Rc",
        "outputId": "df5d572f-95d2-402e-8528-d4e1223af47a"
      },
      "outputs": [
        {
          "name": "stdout",
          "output_type": "stream",
          "text": [
            "[[182320    373   2273]\n",
            " [197800    225   1070]\n",
            " [291540    393   2281]\n",
            " [248540    215   1999]\n",
            " [137600    228    831]\n",
            " [ 73100    213   1199]\n",
            " [ 73100    113    756]\n",
            " [124700    141   1132]\n",
            " [141040    213   1458]\n",
            " [106210    104    866]\n",
            " [154800    138    787]\n",
            " [137170    131   1317]\n",
            " [134160    201   1960]\n",
            " [125990    114   1012]\n",
            " [ 87290     83    662]\n",
            " [ 94428     69    944]\n",
            " [156520    118   1419]\n",
            " [ 94600    166   1093]\n",
            " [107500    114   1227]\n",
            " [ 68800    171    980]]\n"
          ]
        }
      ],
      "source": [
        "print(houses_original)"
      ]
    },
    {
      "cell_type": "code",
      "execution_count": null,
      "metadata": {
        "id": "zgL5b06F95Rc"
      },
      "outputs": [],
      "source": []
    }
  ],
  "metadata": {
    "kernelspec": {
      "display_name": "Python 3",
      "language": "python",
      "name": "python3"
    },
    "language_info": {
      "codemirror_mode": {
        "name": "ipython",
        "version": 3
      },
      "file_extension": ".py",
      "mimetype": "text/x-python",
      "name": "python",
      "nbconvert_exporter": "python",
      "pygments_lexer": "ipython3",
      "version": "3.7.0"
    },
    "colab": {
      "provenance": [],
      "include_colab_link": true
    }
  },
  "nbformat": 4,
  "nbformat_minor": 0
}