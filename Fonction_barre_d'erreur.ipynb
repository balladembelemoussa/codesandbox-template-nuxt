{
  "nbformat": 4,
  "nbformat_minor": 0,
  "metadata": {
    "colab": {
      "provenance": [],
      "authorship_tag": "ABX9TyOpDg8b02Ei0tkVyWbaK4WW",
      "include_colab_link": true
    },
    "kernelspec": {
      "name": "python3",
      "display_name": "Python 3"
    },
    "language_info": {
      "name": "python"
    }
  },
  "cells": [
    {
      "cell_type": "markdown",
      "metadata": {
        "id": "view-in-github",
        "colab_type": "text"
      },
      "source": [
        "<a href=\"https://colab.research.google.com/github/balladembelemoussa/codesandbox-template-nuxt/blob/main/Fonction_barre_d'erreur.ipynb\" target=\"_parent\"><img src=\"https://colab.research.google.com/assets/colab-badge.svg\" alt=\"Open In Colab\"/></a>"
      ]
    },
    {
      "cell_type": "markdown",
      "source": [
        "# Fonction barre d'erreur \n",
        "Cela présente l'utilisation la plus élémentaire de la méthode de la barre d'erreur. Dans ce cas, des valeurs constantes sont fournies pour l'erreur dans les directions x et y."
      ],
      "metadata": {
        "id": "mbUVDk8Hl3Zm"
      }
    },
    {
      "cell_type": "code",
      "source": [
        "import numpy as np\n",
        "import matplotlib.pyplot as plt\n",
        "\n",
        "# example data\n",
        "x = np.arange(0.1, 4, 0.5)\n",
        "y = np.exp(-x)\n",
        "\n",
        "fig, ax = plt.subplots()\n",
        "ax.errorbar(x, y, xerr=0.2, yerr=0.4)\n",
        "plt.show()"
      ],
      "metadata": {
        "colab": {
          "base_uri": "https://localhost:8080/",
          "height": 265
        },
        "id": "-7iLXH2mmvqi",
        "outputId": "75ee8041-ccbd-4b86-cb43-2c2045ac74a3"
      },
      "execution_count": 3,
      "outputs": [
        {
          "data": {
            "image/png": "[encoded data removed]",
            "text/plain": [
              "<Figure size 432x288 with 1 Axes>"
            ]
          },
          "metadata": {},
          "output_type": "display_data"
        }
      ]
    }
  ]
}