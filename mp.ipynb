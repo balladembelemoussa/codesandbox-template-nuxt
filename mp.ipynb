{
  "nbformat": 4,
  "nbformat_minor": 0,
  "metadata": {
    "colab": {
      "provenance": [],
      "toc_visible": true,
      "authorship_tag": "ABX9TyMKhIN7id7DIqbI3186MnPH",
      "include_colab_link": true
    },
    "kernelspec": {
      "name": "python3",
      "display_name": "Python 3"
    },
    "language_info": {
      "name": "python"
    }
  },
  "cells": [
    {
      "cell_type": "markdown",
      "metadata": {
        "id": "view-in-github",
        "colab_type": "text"
      },
      "source": [
        "<a href=\"https://colab.research.google.com/github/balladembelemoussa/codesandbox-template-nuxt/blob/main/mp.ipynb\" target=\"_parent\"><img src=\"https://colab.research.google.com/assets/colab-badge.svg\" alt=\"Open In Colab\"/></a>"
      ]
    },
    {
      "cell_type": "markdown",
      "source": [
        "**Apprentissage automatique - Former/Tester**\n"
      ],
      "metadata": {
        "id": "Z0CWxkj8pQIX"
      }
    },
    {
      "cell_type": "markdown",
      "source": [
        "Évaluez votre modèle\n",
        "En Machine Learning, nous créons des modèles pour prédire le résultat de certains événements, comme dans le chapitre précédent où nous avons prédit l'émission de CO2 d'une voiture lorsque nous connaissions le poids et la cylindrée du moteur.\n",
        "\n",
        "Pour mesurer si le modèle est assez bon, nous pouvons utiliser une méthode appelée Train/Test.\n",
        "\n",
        "Qu'est-ce que l'entraînement/le test ?\n",
        "Train/Test est une méthode pour mesurer la précision de votre modèle.\n",
        "\n",
        "Il s'appelle Train/Test car vous divisez l'ensemble de données en deux ensembles : un ensemble d'apprentissage et un ensemble de test.\n",
        "\n",
        "80 % pour la formation et 20 % pour les tests.\n",
        "\n",
        "Vous entraînez le modèle à l'aide de l'ensemble d'entraînement.\n",
        "\n",
        "Vous testez le modèle à l'aide de l'ensemble de test.\n",
        "\n",
        "Former le modèle signifie créer le modèle.\n",
        "\n",
        "Tester le modèle signifie tester la précision du modèle.\n",
        "\n",
        "Commencez avec un ensemble de données\n",
        "Commencez avec un ensemble de données que vous souhaitez tester.\n",
        "\n",
        "Notre ensemble de données illustre 100 clients dans un magasin et leurs habitudes d'achat.\n",
        "\n",
        "**Exemple**"
      ],
      "metadata": {
        "id": "gq5r8LUmpYEm"
      }
    },
    {
      "cell_type": "markdown",
      "source": [
        "Résultat:\n",
        "L'axe des x représente le nombre de minutes avant de faire un achat.\n",
        "\n",
        "L'axe y représente le montant d'argent dépensé pour l'achat."
      ],
      "metadata": {
        "id": "Hj3H8UCvpuOv"
      }
    },
    {
      "cell_type": "code",
      "source": [
        "import numpy\n",
        "import matplotlib.pyplot as plt\n",
        "numpy.random.seed(2)\n",
        "\n",
        "x = numpy.random.normal(3, 1, 100)\n",
        "y = numpy.random.normal(150, 40, 100) / x\n",
        "\n",
        "plt.scatter(x, y)\n",
        "plt.show()"
      ],
      "metadata": {
        "colab": {
          "base_uri": "https://localhost:8080/",
          "height": 265
        },
        "id": "sNcU-fwkpbCX",
        "outputId": "8def3383-238a-413c-a976-fec9415ecda8"
      },
      "execution_count": 1,
      "outputs": [
        {
          "output_type": "display_data",
          "data": {
            "text/plain": [
              "<Figure size 432x288 with 1 Axes>"
            ],
            "image/png": "[encoded data removed]"
          },
          "metadata": {
            "needs_background": "light"
          }
        }
      ]
    },
    {
      "cell_type": "markdown",
      "source": [
        "Fractionner en train/test\n",
        "L' ensemble d'apprentissage doit être une sélection aléatoire de 80 % des données d'origine.\n",
        "\n",
        "L' ensemble de test devrait être les 20 % restants."
      ],
      "metadata": {
        "id": "Zb5iDgkxqGF0"
      }
    },
    {
      "cell_type": "code",
      "source": [
        "train_x = x[:80]\n",
        "train_y = y[:80]\n",
        "\n",
        "test_x = x[80:]\n",
        "test_y = y[80:]"
      ],
      "metadata": {
        "id": "oW-Erhk0qLMu"
      },
      "execution_count": 3,
      "outputs": []
    },
    {
      "cell_type": "markdown",
      "source": [
        "Afficher l'ensemble d'entraînement\n",
        "Affichez le même nuage de points avec l'ensemble d'apprentissage :\n",
        "\n",
        "Exemple"
      ],
      "metadata": {
        "id": "IJeDDJjoqION"
      }
    },
    {
      "cell_type": "code",
      "source": [
        "plt.scatter(train_x, train_y)\n",
        "plt.show()"
      ],
      "metadata": {
        "colab": {
          "base_uri": "https://localhost:8080/",
          "height": 265
        },
        "id": "iLf-ptNBqRZn",
        "outputId": "534c605a-b004-4bb3-ecc3-45746b4f5dab"
      },
      "execution_count": 4,
      "outputs": [
        {
          "output_type": "display_data",
          "data": {
            "text/plain": [
              "<Figure size 432x288 with 1 Axes>"
            ],
            "image/png": "[encoded data removed]"
          },
          "metadata": {
            "needs_background": "light"
          }
        }
      ]
    },
    {
      "cell_type": "markdown",
      "source": [
        "Afficher l'ensemble de test\n",
        "Pour nous assurer que l'ensemble de test n'est pas complètement différent, nous examinerons également l'ensemble de test.\n",
        "\n",
        "**Exemple**"
      ],
      "metadata": {
        "id": "lByOSPKIqbj5"
      }
    },
    {
      "cell_type": "code",
      "source": [
        "plt.scatter(test_x, test_y)\n",
        "plt.show()"
      ],
      "metadata": {
        "colab": {
          "base_uri": "https://localhost:8080/",
          "height": 265
        },
        "id": "BGmzEwzPqedb",
        "outputId": "a5fd87e5-76bd-4196-9ff4-0d55c02d6ec4"
      },
      "execution_count": 5,
      "outputs": [
        {
          "output_type": "display_data",
          "data": {
            "text/plain": [
              "<Figure size 432x288 with 1 Axes>"
            ],
            "image/png": "[encoded data removed]"
          },
          "metadata": {
            "needs_background": "light"
          }
        }
      ]
    },
    {
      "cell_type": "markdown",
      "source": [
        "Adapter l'ensemble de données\n",
        "À quoi ressemble l'ensemble de données ? À mon avis, je pense que le meilleur ajustement serait une régression polynomiale , alors traçons une ligne de régression polynomiale.\n",
        "\n",
        "Pour tracer une ligne à travers les points de données, nous utilisons la plot()méthode du module matplotlib :\n",
        "\n",
        "Exemple **texte en gras**\n",
        "Tracez une droite de régression polynomiale passant par les points de données :"
      ],
      "metadata": {
        "id": "RPxAIL8nqoou"
      }
    },
    {
      "cell_type": "code",
      "source": [
        "import numpy\n",
        "import matplotlib.pyplot as plt\n",
        "numpy.random.seed(2)\n",
        "\n",
        "x = numpy.random.normal(3, 1, 100)\n",
        "y = numpy.random.normal(150, 40, 100) / x\n",
        "\n",
        "train_x = x[:80]\n",
        "train_y = y[:80]\n",
        "\n",
        "test_x = x[80:]\n",
        "test_y = y[80:]\n",
        "\n",
        "mymodel = numpy.poly1d(numpy.polyfit(train_x, train_y, 4))\n",
        "\n",
        "myline = numpy.linspace(0, 6, 100)\n",
        "\n",
        "plt.scatter(train_x, train_y)\n",
        "plt.plot(myline, mymodel(myline))\n",
        "plt.show()"
      ],
      "metadata": {
        "colab": {
          "base_uri": "https://localhost:8080/",
          "height": 266
        },
        "id": "o5b-59QrqqvQ",
        "outputId": "3f93fc52-2b23-4f54-cc5a-9f40219dd75a"
      },
      "execution_count": 6,
      "outputs": [
        {
          "output_type": "display_data",
          "data": {
            "text/plain": [
              "<Figure size 432x288 with 1 Axes>"
            ],
            "image/png": "[encoded data removed]"
          },
          "metadata": {
            "needs_background": "light"
          }
        }
      ]
    },
    {
      "cell_type": "markdown",
      "source": [
        "Le résultat peut étayer ma suggestion selon laquelle l'ensemble de données correspond à une régression polynomiale, même si cela nous donnerait des résultats étranges si nous essayions de prédire des valeurs en dehors de l'ensemble de données. Exemple : la ligne indique qu'un client passant 6 minutes dans le magasin effectuerait un achat d'une valeur de 200. C'est probablement un signe de surajustement.\n",
        "\n",
        "Mais qu'en est-il du score R au carré ? Le score R au carré est un bon indicateur de la mesure dans laquelle mon ensemble de données correspond au modèle.\n",
        "\n",
        "R2\n",
        "Vous souvenez-vous de R2, également connu sous le nom de R-carré ?\n",
        "\n",
        "Il mesure la relation entre l'axe des x et l'axe des y, et la valeur varie de 0 à 1, où 0 signifie aucune relation et 1 signifie totalement lié.\n",
        "\n",
        "Le module sklearn a une méthode appelée r2_score() qui nous aidera à trouver cette relation.\n",
        "\n",
        "Dans ce cas, nous aimerions mesurer la relation entre les minutes qu'un client reste dans le magasin et combien d'argent il dépense.\n",
        "\n",
        "**Exemple**\n",
        "Dans quelle mesure mes données d'entraînement s'intègrent-elles dans une régression polynomiale ?"
      ],
      "metadata": {
        "id": "XeFgvdDMqzHX"
      }
    },
    {
      "cell_type": "code",
      "source": [
        "import numpy\n",
        "from sklearn.metrics import r2_score\n",
        "numpy.random.seed(2)\n",
        "\n",
        "x = numpy.random.normal(3, 1, 100)\n",
        "y = numpy.random.normal(150, 40, 100) / x\n",
        "\n",
        "train_x = x[:80]\n",
        "train_y = y[:80]\n",
        "\n",
        "test_x = x[80:]\n",
        "test_y = y[80:]\n",
        "\n",
        "mymodel = numpy.poly1d(numpy.polyfit(train_x, train_y, 4))\n",
        "\n",
        "r2 = r2_score(train_y, mymodel(train_x))\n"
      ],
      "metadata": {
        "id": "kMl_iZPNq1sT"
      },
      "execution_count": 7,
      "outputs": []
    },
    {
      "cell_type": "markdown",
      "source": [
        "Remarque : Le résultat 0,799 indique qu'il existe une relation OK.\n",
        "\n",
        "Apportez le kit de test\n",
        "Nous avons maintenant créé un modèle qui est correct, du moins en ce qui concerne les données d'entraînement.\n",
        "\n",
        "Maintenant, nous voulons également tester le modèle avec les données de test, pour voir si cela nous donne le même résultat.\n",
        "\n",
        "Exemple\n",
        "Trouvons le score R2 lors de l'utilisation des données de test :"
      ],
      "metadata": {
        "id": "yzP6uAzLq7sZ"
      }
    },
    {
      "cell_type": "code",
      "source": [
        "import numpy\n",
        "from sklearn.metrics import r2_score\n",
        "numpy.random.seed(2)\n",
        "\n",
        "x = numpy.random.normal(3, 1, 100)\n",
        "y = numpy.random.normal(150, 40, 100) / x\n",
        "\n",
        "train_x = x[:80]\n",
        "train_y = y[:80]\n",
        "\n",
        "test_x = x[80:]\n",
        "test_y = y[80:]\n",
        "\n",
        "mymodel = numpy.poly1d(numpy.polyfit(train_x, train_y, 4))\n",
        "\n",
        "r2 = r2_score(test_y, mymodel(test_x))\n",
        "\n",
        "print(r2)"
      ],
      "metadata": {
        "colab": {
          "base_uri": "https://localhost:8080/"
        },
        "id": "faySF4inq9Wj",
        "outputId": "5e363521-51e1-447c-e78f-5ce3c57cf868"
      },
      "execution_count": 8,
      "outputs": [
        {
          "output_type": "stream",
          "name": "stdout",
          "text": [
            "0.8086921460343566\n"
          ]
        }
      ]
    },
    {
      "cell_type": "markdown",
      "source": [
        "Remarque : Le résultat 0,809 montre que le modèle correspond également à l'ensemble de test, et nous sommes convaincus que nous pouvons utiliser le modèle pour prédire les valeurs futures.\n",
        "\n",
        "Prédire les valeurs\n",
        "Maintenant que nous avons établi que notre modèle est OK, nous pouvons commencer à prédire de nouvelles valeurs.\n",
        "\n",
        "Exemple\n",
        "Combien d'argent un client acheteur dépensera-t-il s'il reste 5 minutes dans le magasin ?"
      ],
      "metadata": {
        "id": "LDDkjbtzrDcm"
      }
    },
    {
      "cell_type": "code",
      "source": [
        "print(mymodel(5))"
      ],
      "metadata": {
        "colab": {
          "base_uri": "https://localhost:8080/"
        },
        "id": "MEBrI29ArE6B",
        "outputId": "ee7b81a4-741e-43a0-a003-701b9744e09a"
      },
      "execution_count": 9,
      "outputs": [
        {
          "output_type": "stream",
          "name": "stdout",
          "text": [
            "22.8796259181172\n"
          ]
        }
      ]
    },
    {
      "cell_type": "markdown",
      "source": [
        "L'exemple prédit que le client dépensera 22,88 dollars, comme cela semble correspondre au schéma :"
      ],
      "metadata": {
        "id": "SCmZzZ3SrNNP"
      }
    },
    {
      "cell_type": "markdown",
      "source": [
        "**Apprentissage automatique - Matrice de confusion**"
      ],
      "metadata": {
        "id": "J42yYxa_rd33"
      }
    },
    {
      "cell_type": "markdown",
      "source": [
        "Sur cette page, W3schools.com collabore avec NYC Data Science Academy , pour fournir un contenu de formation numérique à nos étudiants.\n",
        "\n",
        "Qu'est-ce qu'une matrice de confusion ?\n",
        "Il s'agit d'un tableau utilisé dans les problèmes de classification pour déterminer où se sont produites les erreurs dans le modèle.\n",
        "\n",
        "Les lignes représentent les classes réelles que les résultats auraient dû être. Alors que les colonnes représentent les prédictions que nous avons faites. En utilisant ce tableau, il est facile de voir quelles prédictions sont fausses.\n",
        "\n",
        "Création d'une matrice de confusion\n",
        "Des matrices de confusion peuvent être créées par des prédictions faites à partir d'une régression logistique.\n",
        "\n",
        "Pour l'instant, nous allons générer des valeurs réelles et prédites en utilisant NumPy :"
      ],
      "metadata": {
        "id": "-Sye6E6Crgs6"
      }
    },
    {
      "cell_type": "markdown",
      "source": [
        "import numpy\n",
        "\n",
        "Ensuite, nous devrons générer les nombres pour les valeurs \"réelles\" et \"prédites\".\n",
        "\n",
        "actual = numpy.random.binomial(1, 0.9, size = 1000)\n",
        "predicted = numpy.random.binomial(1, 0.9, size = 1000)\n",
        "\n",
        "Afin de créer la matrice de confusion, nous devons importer des métriques à partir du module sklearn.\n",
        "\n",
        "from sklearn import metrics\n",
        "\n",
        "Une fois les métriques importées, nous pouvons utiliser la fonction de matrice de confusion sur nos valeurs réelles et prédites.\n",
        "\n",
        "confusion_matrix = metrics.confusion_matrix(actual, predicted)\n",
        "\n",
        "Pour créer un affichage visuel plus interprétable, nous devons convertir le tableau en un affichage matriciel de confusion.\n",
        "\n",
        "cm_display = metrics.ConfusionMatrixDisplay(confusion_matrix = confusion_matrix, display_labels = [False, True])\n",
        "\n",
        "Visualiser l'affichage nécessite d'importer pyplot depuis matplotlib.\n",
        "\n",
        "import matplotlib.pyplot as plt\n",
        "\n",
        "Enfin pour afficher le tracé nous pouvons utiliser les fonctions plot() et show() de pyplot.\n",
        "\n",
        "cm_display.plot()\n",
        "plt.show()\n",
        "\n",
        "Voir l'exemple entier en action :\n",
        "\n",
        "Exemple"
      ],
      "metadata": {
        "id": "fjxEWudvrsfE"
      }
    },
    {
      "cell_type": "code",
      "source": [
        "import matplotlib.pyplot as plt\n",
        "import numpy\n",
        "from sklearn import metrics\n",
        "\n",
        "actual = numpy.random.binomial(1,.9,size = 1000)\n",
        "predicted = numpy.random.binomial(1,.9,size = 1000)\n",
        "\n",
        "confusion_matrix = metrics.confusion_matrix(actual, predicted)\n",
        "\n",
        "cm_display = metrics.ConfusionMatrixDisplay(confusion_matrix = confusion_matrix, display_labels = [False, True])\n",
        "\n",
        "cm_display.plot()"
      ],
      "metadata": {
        "colab": {
          "base_uri": "https://localhost:8080/",
          "height": 296
        },
        "id": "WEtwB0l2rkgm",
        "outputId": "89f74986-4b31-4d6c-8d40-7f589d094bca"
      },
      "execution_count": 10,
      "outputs": [
        {
          "output_type": "execute_result",
          "data": {
            "text/plain": [
              "<sklearn.metrics._plot.confusion_matrix.ConfusionMatrixDisplay at 0x7f5af8936970>"
            ]
          },
          "metadata": {},
          "execution_count": 10
        },
        {
          "output_type": "display_data",
          "data": {
            "text/plain": [
              "<Figure size 432x288 with 2 Axes>"
            ],
            "image/png": "[encoded data removed]"
          },
          "metadata": {
            "needs_background": "light"
          }
        }
      ]
    },
    {
      "cell_type": "markdown",
      "source": [
        "Métriques créées\n",
        "La matrice nous fournit de nombreuses mesures utiles qui nous aident à évaluer notre modèle de classification.\n",
        "\n",
        "Les différentes mesures comprennent : l'exactitude, la précision, la sensibilité (rappel), la spécificité et le score F, expliqués ci-dessous.\n",
        "\n",
        "Précision\n",
        "La précision mesure la fréquence à laquelle le modèle est correct.\n",
        "\n",
        "Comment calculer\n",
        "(Vrai positif + Vrai négatif) / Prédictions totales\n",
        "\n",
        "**Exemple**\n",
        "Accuracy = metrics.accuracy_score(actual, predicted)"
      ],
      "metadata": {
        "id": "YZxFff1IsCg8"
      }
    },
    {
      "cell_type": "markdown",
      "source": [
        "Précision\n",
        "Parmi les positifs prédits, quel pourcentage est vraiment positif ?\n",
        "\n",
        "Comment calculer\n",
        "Vrai positif / (vrai positif + faux positif)\n",
        "\n",
        "La précision n'évalue pas les cas négatifs correctement prédits :\n",
        "\n",
        "Exemple\n",
        "Precision = metrics.precision_score(actual, predicted)"
      ],
      "metadata": {
        "id": "18fSFoO8sJtx"
      }
    },
    {
      "cell_type": "markdown",
      "source": [
        "Sensibilité (Rappel)\n",
        "Parmi tous les cas positifs, quel pourcentage sont prédits positifs ?\n",
        "\n",
        "La sensibilité (parfois appelée rappel) mesure la capacité du modèle à prédire les positifs.\n",
        "\n",
        "Cela signifie qu'il examine les vrais positifs et les faux négatifs (qui sont des positifs qui ont été incorrectement prédits comme négatifs).\n",
        "\n",
        "Comment calculer\n",
        "Vrai positif / (vrai positif + faux négatif)\n",
        "\n",
        "La sensibilité permet de comprendre dans quelle mesure le modèle prédit que quelque chose est positif :\n",
        "\n",
        "Exemple\n",
        "Sensitivity_recall = metrics.recall_score(actual, predicted)"
      ],
      "metadata": {
        "id": "vilVup9VsOhw"
      }
    },
    {
      "cell_type": "markdown",
      "source": [
        "Spécificité\n",
        "Dans quelle mesure le modèle prédit-il des résultats négatifs ?\n",
        "\n",
        "La spécificité est similaire à la sensibilité, mais la considère du point de vue des résultats négatifs.\n",
        "\n",
        "Comment calculer\n",
        "Vrai négatif / (vrai négatif + faux positif)\n",
        "\n",
        "Comme c'est juste l'opposé de Recall, nous utilisons la fonction rappel_score, en prenant l'étiquette de position opposée :\n",
        "\n",
        "Exemple\n",
        "Specificity = metrics.recall_score(actual, predicted, pos_label=0)"
      ],
      "metadata": {
        "id": "WjJIJvA_sSYv"
      }
    },
    {
      "cell_type": "markdown",
      "source": [
        "Note F\n",
        "Le score F est la \"moyenne harmonique\" de la précision et de la sensibilité.\n",
        "\n",
        "Il prend en compte à la fois les cas de faux positifs et de faux négatifs et convient aux ensembles de données déséquilibrés.\n",
        "\n",
        "Comment calculer\n",
        "2 * ((Précision * Sensibilité) / (Précision + Sensibilité))\n",
        "\n",
        "Ce score ne prend pas en compte les valeurs True Negative :\n",
        "\n",
        "Exemple\n",
        "F1_score = metrics.f1_score(actual, predicted)"
      ],
      "metadata": {
        "id": "yVICqokzsTeg"
      }
    },
    {
      "cell_type": "markdown",
      "source": [
        "Tous les calculs en un :"
      ],
      "metadata": {
        "id": "dRjgtAOUsWwo"
      }
    },
    {
      "cell_type": "code",
      "source": [],
      "metadata": {
        "id": "KkwALI4osF2u"
      },
      "execution_count": null,
      "outputs": []
    },
    {
      "cell_type": "markdown",
      "source": [
        "**Machine Learning - Clustering hiérarchique**"
      ],
      "metadata": {
        "id": "IZCF0HbFstbt"
      }
    },
    {
      "cell_type": "markdown",
      "source": [
        "Sur cette page, W3schools.com collabore avec NYC Data Science Academy , pour fournir un contenu de formation numérique à nos étudiants.\n",
        "\n",
        "Classification hiérarchique\n",
        "Le clustering hiérarchique est une méthode d'apprentissage non supervisée pour le clustering de points de données. L'algorithme construit des clusters en mesurant les dissemblances entre les données. L'apprentissage non supervisé signifie qu'un modèle n'a pas besoin d'être formé et que nous n'avons pas besoin d'une variable \"cible\". Cette méthode peut être utilisée sur toutes les données pour visualiser et interpréter la relation entre les points de données individuels.\n",
        "\n",
        "Ici, nous utiliserons le clustering hiérarchique pour regrouper les points de données et visualiser les clusters à l'aide d'un dendrogramme et d'un nuage de points.\n",
        "\n",
        "Comment ça marche?\n",
        "Nous utiliserons le clustering agglomératif, un type de clustering hiérarchique qui suit une approche ascendante. Nous commençons par traiter chaque point de données comme son propre cluster. Ensuite, nous joignons les clusters qui ont la distance la plus courte entre eux pour créer des clusters plus grands. Cette étape est répétée jusqu'à ce qu'un grand groupe soit formé contenant tous les points de données.\n",
        "\n",
        "Le regroupement hiérarchique nous oblige à décider à la fois d'une méthode de distance et de liaison. Nous utiliserons la distance euclidienne et la méthode de liaison de Ward, qui tente de minimiser la variance entre les clusters.\n",
        "\n",
        "**Exemple**\n",
        "Commencez par visualiser quelques points de données :"
      ],
      "metadata": {
        "id": "QYUjAtezs29T"
      }
    },
    {
      "cell_type": "code",
      "source": [
        "import numpy as np\n",
        "import matplotlib.pyplot as plt\n",
        "\n",
        "x = [4, 5, 10, 4, 3, 11, 14 , 6, 10, 12]\n",
        "y = [21, 19, 24, 17, 16, 25, 24, 22, 21, 21]\n",
        "\n",
        "plt.scatter(x, y)\n",
        "plt.show()"
      ],
      "metadata": {
        "colab": {
          "base_uri": "https://localhost:8080/",
          "height": 265
        },
        "id": "G8fIFK_Us6xE",
        "outputId": "3993cd35-7f24-432f-ef99-3b907644fc08"
      },
      "execution_count": 13,
      "outputs": [
        {
          "output_type": "display_data",
          "data": {
            "text/plain": [
              "<Figure size 432x288 with 1 Axes>"
            ],
            "image/png": "[encoded data removed]"
          },
          "metadata": {
            "needs_background": "light"
          }
        }
      ]
    },
    {
      "cell_type": "markdown",
      "source": [
        "Nous calculons maintenant le lien de service à l'aide de la distance euclidienne et le visualisons à l'aide d'un dendrogramme :\n",
        "\n",
        "**Exemple**\n"
      ],
      "metadata": {
        "id": "9E4Jl3rztOhU"
      }
    },
    {
      "cell_type": "markdown",
      "source": [
        "**Résultat**"
      ],
      "metadata": {
        "id": "aZkdoqqXtWNs"
      }
    },
    {
      "cell_type": "code",
      "source": [
        "import numpy as np\n",
        "import matplotlib.pyplot as plt\n",
        "from scipy.cluster.hierarchy import dendrogram, linkage\n",
        "\n",
        "x = [4, 5, 10, 4, 3, 11, 14 , 6, 10, 12]\n",
        "y = [21, 19, 24, 17, 16, 25, 24, 22, 21, 21]\n",
        "\n",
        "data = list(zip(x, y))\n",
        "\n",
        "linkage_data = linkage(data, method='ward', metric='euclidean')\n",
        "dendrogram(linkage_data)\n",
        "\n",
        "plt.show()"
      ],
      "metadata": {
        "colab": {
          "base_uri": "https://localhost:8080/",
          "height": 268
        },
        "id": "_pAt4H-htZ8g",
        "outputId": "41e29f81-7c81-4461-b4ff-5654fcde9477"
      },
      "execution_count": 14,
      "outputs": [
        {
          "output_type": "display_data",
          "data": {
            "text/plain": [
              "<Figure size 432x288 with 1 Axes>"
            ],
            "image/png": "[encoded data removed]"
          },
          "metadata": {
            "needs_background": "light"
          }
        }
      ]
    },
    {
      "cell_type": "markdown",
      "source": [
        "Ici, nous faisons la même chose avec la bibliothèque scikit-learn de Python. Ensuite, visualisez sur un graphique en 2 dimensions :\n",
        "Exemple"
      ],
      "metadata": {
        "id": "RfkNgzJZtho_"
      }
    },
    {
      "cell_type": "markdown",
      "source": [
        "**Résultat**"
      ],
      "metadata": {
        "id": "lvly0bwXti9Q"
      }
    },
    {
      "cell_type": "code",
      "source": [
        "import numpy as np\n",
        "import matplotlib.pyplot as plt\n",
        "from sklearn.cluster import AgglomerativeClustering\n",
        "\n",
        "x = [4, 5, 10, 4, 3, 11, 14 , 6, 10, 12]\n",
        "y = [21, 19, 24, 17, 16, 25, 24, 22, 21, 21]\n",
        "\n",
        "data = list(zip(x, y))\n",
        "\n",
        "hierarchical_cluster = AgglomerativeClustering(n_clusters=2, affinity='euclidean', linkage='ward')\n",
        "labels = hierarchical_cluster.fit_predict(data)\n",
        "\n",
        "plt.scatter(x, y, c=labels)\n",
        "plt.show()"
      ],
      "metadata": {
        "colab": {
          "base_uri": "https://localhost:8080/",
          "height": 265
        },
        "id": "2kJWLAQIt0T5",
        "outputId": "1869b274-845f-46c4-d4b0-d6ee2e16f348"
      },
      "execution_count": 19,
      "outputs": [
        {
          "output_type": "display_data",
          "data": {
            "text/plain": [
              "<Figure size 432x288 with 1 Axes>"
            ],
            "image/png": "[encoded data removed]"
          },
          "metadata": {
            "needs_background": "light"
          }
        }
      ]
    },
    {
      "cell_type": "markdown",
      "source": [
        "Exemple expliqué\n",
        "Importez les modules dont vous avez besoin.\n",
        "\n"
      ],
      "metadata": {
        "id": "gZ_MrCd9t_HD"
      }
    },
    {
      "cell_type": "markdown",
      "source": [
        "import numpy as np\n",
        "import matplotlib.pyplot as plt\n",
        "from scipy.cluster.hierarchy import dendrogram, linkage\n",
        "from sklearn.cluster import AgglomerativeClustering"
      ],
      "metadata": {
        "id": "viS6oNChuVYq"
      }
    },
    {
      "cell_type": "code",
      "source": [
        "x = [4, 5, 10, 4, 3, 11, 14 , 6, 10, 12]\n",
        "y = [21, 19, 24, 17, 16, 25, 24, 22, 21, 21]"
      ],
      "metadata": {
        "id": "BTGwWRIGuDsy"
      },
      "execution_count": 24,
      "outputs": []
    },
    {
      "cell_type": "markdown",
      "source": [
        "Transformez les données en un ensemble de points :"
      ],
      "metadata": {
        "id": "qhKC6PnIuf5N"
      }
    },
    {
      "cell_type": "markdown",
      "source": [
        "**Résultat:**"
      ],
      "metadata": {
        "id": "xyoI28_Xu3Lt"
      }
    },
    {
      "cell_type": "code",
      "source": [
        "data = list(zip(x, y))\n",
        "print(data)"
      ],
      "metadata": {
        "colab": {
          "base_uri": "https://localhost:8080/"
        },
        "id": "kBgnmlW8u6my",
        "outputId": "3d2b0ffc-e0e7-4be2-c329-e601cb287353"
      },
      "execution_count": 27,
      "outputs": [
        {
          "output_type": "stream",
          "name": "stdout",
          "text": [
            "[(4, 21), (5, 19), (10, 24), (4, 17), (3, 16), (11, 25), (14, 24), (6, 22), (10, 21), (12, 21)]\n"
          ]
        }
      ]
    },
    {
      "cell_type": "markdown",
      "source": [
        "Calculer le lien entre tous les différents points. Ici, nous utilisons une mesure de distance euclidienne simple et la liaison de Ward, qui cherche à minimiser la variance entre les clusters."
      ],
      "metadata": {
        "id": "0XJyh1Iqu-jr"
      }
    },
    {
      "cell_type": "code",
      "source": [
        "linkage_data = linkage(data, method='ward', metric='euclidean')"
      ],
      "metadata": {
        "id": "HkvFW8QsvCqL"
      },
      "execution_count": 28,
      "outputs": []
    },
    {
      "cell_type": "markdown",
      "source": [
        "Enfin, tracez les résultats dans un dendrogramme. Ce graphique nous montrera la hiérarchie des clusters du bas (points individuels) vers le haut (un seul cluster composé de tous les points de données).\n",
        "\n",
        "plt.show()nous permet de visualiser le dendrogramme au lieu des seules données de liaison brutes."
      ],
      "metadata": {
        "id": "YGAbQKaavJVm"
      }
    },
    {
      "cell_type": "markdown",
      "source": [
        "**Résultat:**"
      ],
      "metadata": {
        "id": "Sg2oWGh8vQma"
      }
    },
    {
      "cell_type": "code",
      "source": [
        "dendrogram(linkage_data)\n",
        "plt.show()"
      ],
      "metadata": {
        "colab": {
          "base_uri": "https://localhost:8080/",
          "height": 268
        },
        "id": "NnLDclFAvGhj",
        "outputId": "db4152b7-bc93-462a-8772-1097b2b7495a"
      },
      "execution_count": 29,
      "outputs": [
        {
          "output_type": "display_data",
          "data": {
            "text/plain": [
              "<Figure size 432x288 with 1 Axes>"
            ],
            "image/png": "[encoded data removed]"
          },
          "metadata": {
            "needs_background": "light"
          }
        }
      ]
    },
    {
      "cell_type": "markdown",
      "source": [
        "La bibliothèque scikit-learn nous permet d'utiliser le clustering hiérarchique d'une manière différente. Tout d'abord, nous initialisons la AgglomerativeClusteringclasse avec 2 clusters, en utilisant la même distance euclidienne et la même liaison de Ward.\n",
        "\n",
        "hierarchical_cluster = AgglomerativeClustering(n_clusters=2, affinity='euclidean', linkage='ward')\n",
        "\n",
        "La .fit_predictméthode peut être appelée sur nos données pour calculer les clusters en utilisant les paramètres définis sur le nombre de clusters que nous avons choisi."
      ],
      "metadata": {
        "id": "QzuQj9mXvbNx"
      }
    },
    {
      "cell_type": "code",
      "source": [
        "plt.scatter(x, y, c=labels)\n",
        "plt.show()"
      ],
      "metadata": {
        "colab": {
          "base_uri": "https://localhost:8080/",
          "height": 265
        },
        "id": "ydco3bFgvorS",
        "outputId": "36086e61-d8aa-43f2-900b-f2fa960871ac"
      },
      "execution_count": 32,
      "outputs": [
        {
          "output_type": "display_data",
          "data": {
            "text/plain": [
              "<Figure size 432x288 with 1 Axes>"
            ],
            "image/png": "[encoded data removed]"
          },
          "metadata": {
            "needs_background": "light"
          }
        }
      ]
    },
    {
      "cell_type": "markdown",
      "source": [
        "**Apprentissage automatique - Régression logistique**"
      ],
      "metadata": {
        "id": "wfDVOvvLv0Wx"
      }
    },
    {
      "cell_type": "markdown",
      "source": [
        "Régression logistique\n",
        "La régression logistique vise à résoudre des problèmes de classification. Pour ce faire, il prédit des résultats catégoriels, contrairement à la régression linéaire qui prédit un résultat continu.\n",
        "\n",
        "Dans le cas le plus simple, il y a deux résultats, appelés binomiaux, dont un exemple est de prédire si une tumeur est maligne ou bénigne. D'autres cas ont plus de deux issues à classer, dans ce cas on parle de multinomial. Un exemple courant de régression logistique multinomiale serait de prédire la classe d'une fleur d'iris entre 3 espèces différentes.\n",
        "\n",
        "Ici, nous utiliserons une régression logistique de base pour prédire une variable binomiale. Cela signifie qu'il n'a que deux résultats possibles.\n",
        "\n",
        "Comment ça marche?\n",
        "En Python, nous avons des modules qui feront le travail pour nous. Commencez par importer le module NumP"
      ],
      "metadata": {
        "id": "zyDWfaTTv3rE"
      }
    },
    {
      "cell_type": "code",
      "source": [
        "import numpy"
      ],
      "metadata": {
        "id": "qujm1IC6v2q6"
      },
      "execution_count": 33,
      "outputs": []
    },
    {
      "cell_type": "markdown",
      "source": [
        "Stockez les variables indépendantes dans X.\n",
        "\n",
        "Enregistrez la variable dépendante dans y.\n",
        "\n",
        "Vous trouverez ci-dessous un exemple d'ensemble de données :"
      ],
      "metadata": {
        "id": "ixPBFp_Bv92W"
      }
    },
    {
      "cell_type": "code",
      "source": [
        "#X represents the size of a tumor in centimeters.\n",
        "X = numpy.array([3.78, 2.44, 2.09, 0.14, 1.72, 1.65, 4.92, 4.37, 4.96, 4.52, 3.69, 5.88]).reshape(-1,1)\n",
        "\n",
        "#Note: X has to be reshaped into a column from a row for the LogisticRegression() function to work.\n",
        "#y represents whether or not the tumor is cancerous (0 for \"No\", 1 for \"Yes\").\n",
        "y = numpy.array([0, 0, 0, 0, 0, 0, 1, 1, 1, 1, 1, 1])"
      ],
      "metadata": {
        "id": "f5x3PwLrwCc3"
      },
      "execution_count": 34,
      "outputs": []
    },
    {
      "cell_type": "code",
      "source": [
        "from sklearn import linear_model"
      ],
      "metadata": {
        "id": "U4raqeiSwGub"
      },
      "execution_count": 35,
      "outputs": []
    },
    {
      "cell_type": "code",
      "source": [
        "logr = linear_model.LogisticRegression()\n",
        "logr.fit(X,y)"
      ],
      "metadata": {
        "colab": {
          "base_uri": "https://localhost:8080/"
        },
        "id": "zDWUBKshwNya",
        "outputId": "5aa01b47-f6a9-4890-933a-4904f7418849"
      },
      "execution_count": 36,
      "outputs": [
        {
          "output_type": "execute_result",
          "data": {
            "text/plain": [
              "LogisticRegression()"
            ]
          },
          "metadata": {},
          "execution_count": 36
        }
      ]
    },
    {
      "cell_type": "markdown",
      "source": [
        "Nous avons maintenant un objet de régression logistique qui est prêt à déterminer si une tumeur est cancéreuse en fonction de la taille de la tumeur :"
      ],
      "metadata": {
        "id": "81ShpVWDwSYK"
      }
    },
    {
      "cell_type": "code",
      "source": [
        "#predict if tumor is cancerous where the size is 3.46mm:\n",
        "predicted = logr.predict(numpy.array([3.46]).reshape(-1,1))"
      ],
      "metadata": {
        "id": "95MxSh-awUHz"
      },
      "execution_count": 37,
      "outputs": []
    },
    {
      "cell_type": "markdown",
      "source": [
        "Exemple\n",
        "Voir l'exemple entier en action :"
      ],
      "metadata": {
        "id": "_ICLmlNCwcsQ"
      }
    },
    {
      "cell_type": "code",
      "source": [
        "import numpy\n",
        "from sklearn import linear_model\n",
        "\n",
        "#Reshaped for Logistic function.\n",
        "X = numpy.array([3.78, 2.44, 2.09, 0.14, 1.72, 1.65, 4.92, 4.37, 4.96, 4.52, 3.69, 5.88]).reshape(-1,1)\n",
        "y = numpy.array([0, 0, 0, 0, 0, 0, 1, 1, 1, 1, 1, 1])\n",
        "\n",
        "logr = linear_model.LogisticRegression()\n",
        "logr.fit(X,y)\n",
        "\n",
        "#predict if tumor is cancerous where the size is 3.46mm:\n",
        "predicted = logr.predict(numpy.array([3.46]).reshape(-1,1))\n",
        "print(predicted)"
      ],
      "metadata": {
        "colab": {
          "base_uri": "https://localhost:8080/"
        },
        "id": "fRI592GKwd0p",
        "outputId": "9f0b8278-7bd4-47ca-d1e1-09842e07efee"
      },
      "execution_count": 38,
      "outputs": [
        {
          "output_type": "stream",
          "name": "stdout",
          "text": [
            "[0]\n"
          ]
        }
      ]
    },
    {
      "cell_type": "markdown",
      "source": [
        "Nous avons prédit qu'une tumeur d'une taille de 3,46 mm ne sera pas cancéreuse."
      ],
      "metadata": {
        "id": "knWcZoJ2xFQa"
      }
    },
    {
      "cell_type": "markdown",
      "source": [
        "Coefficient\n",
        "Dans la régression logistique, le coefficient est le changement attendu du log-odds d'avoir le résultat par unité de changement dans X.\n",
        "\n",
        "Cela n'a pas la compréhension la plus intuitive, alors utilisons-la pour créer quelque chose qui a plus de sens, des cotes.\n",
        "\n",
        "**Exemple**\n",
        "Voir l'exemple entier en action :"
      ],
      "metadata": {
        "id": "FxR_CSztxLW2"
      }
    },
    {
      "cell_type": "markdown",
      "source": [
        "**Résultat**"
      ],
      "metadata": {
        "id": "e2MZ0xwGxXV0"
      }
    },
    {
      "cell_type": "code",
      "source": [
        "import numpy\n",
        "from sklearn import linear_model\n",
        "\n",
        "#Reshaped for Logistic function.\n",
        "X = numpy.array([3.78, 2.44, 2.09, 0.14, 1.72, 1.65, 4.92, 4.37, 4.96, 4.52, 3.69, 5.88]).reshape(-1,1)\n",
        "y = numpy.array([0, 0, 0, 0, 0, 0, 1, 1, 1, 1, 1, 1])\n",
        "\n",
        "logr = linear_model.LogisticRegression()\n",
        "logr.fit(X,y)\n",
        "\n",
        "log_odds = logr.coef_\n",
        "odds = numpy.exp(log_odds)\n",
        "\n",
        "print(odds)"
      ],
      "metadata": {
        "colab": {
          "base_uri": "https://localhost:8080/"
        },
        "id": "yB3N0PtsxR3y",
        "outputId": "ef665df4-c65a-4b21-972d-078187f6e269"
      },
      "execution_count": 39,
      "outputs": [
        {
          "output_type": "stream",
          "name": "stdout",
          "text": [
            "[[4.03541657]]\n"
          ]
        }
      ]
    },
    {
      "cell_type": "markdown",
      "source": [
        "Cela nous indique que lorsque la taille d'une tumeur augmente de 1 mm, les chances qu'il s'agisse d'une tumeur augmentent de 4 fois.\n",
        "\n",
        "Probabilité\n",
        "Les valeurs de coefficient et d'ordonnée à l'origine peuvent être utilisées pour trouver la probabilité que chaque tumeur soit cancéreuse.\n",
        "\n",
        "Créez une fonction qui utilise les valeurs de coefficient et d'interception du modèle pour renvoyer une nouvelle valeur. Cette nouvelle valeur représente la probabilité que l'observation donnée soit une tumeur :"
      ],
      "metadata": {
        "id": "3UXVghSXxjRr"
      }
    },
    {
      "cell_type": "code",
      "source": [
        "def logit2prob(logr,x):\n",
        "  log_odds = logr.coef_ * x + logr.intercept_\n",
        "  odds = numpy.exp(log_odds)\n",
        "  probability = odds / (1 + odds)\n",
        "  return(probability)"
      ],
      "metadata": {
        "id": "563Az8tGxKaG"
      },
      "execution_count": 40,
      "outputs": []
    },
    {
      "cell_type": "markdown",
      "source": [
        "Fonction expliquée\n",
        "Pour trouver les log-odds pour chaque observation, nous devons d'abord créer une formule qui ressemble à celle de la régression linéaire, en extrayant le coefficient et l'ordonnée à l'origine."
      ],
      "metadata": {
        "id": "ypshzYE-xrPD"
      }
    },
    {
      "cell_type": "code",
      "source": [
        "log_odds = logr.coef_ * x + logr.intercept_"
      ],
      "metadata": {
        "id": "J0i1JcL2xsbt"
      },
      "execution_count": 41,
      "outputs": []
    },
    {
      "cell_type": "markdown",
      "source": [
        "pour ensuite convertir les log-odds en cotes, nous devons exponentieller les log-odds."
      ],
      "metadata": {
        "id": "KSF4EDwvxy1B"
      }
    },
    {
      "cell_type": "code",
      "source": [
        "odds = numpy.exp(log_odds)"
      ],
      "metadata": {
        "id": "t7-VU_j0x3GH"
      },
      "execution_count": 42,
      "outputs": []
    },
    {
      "cell_type": "markdown",
      "source": [
        "Maintenant que nous avons la cote, nous pouvons la convertir en probabilité en la divisant par 1 plus la cote"
      ],
      "metadata": {
        "id": "nHxNlSuex7S0"
      }
    },
    {
      "cell_type": "code",
      "source": [
        "probability = odds / (1 + odds)"
      ],
      "metadata": {
        "id": "1s1y1fkIx8wJ"
      },
      "execution_count": 43,
      "outputs": []
    },
    {
      "cell_type": "markdown",
      "source": [
        "Utilisons maintenant la fonction avec ce que nous avons appris pour connaître la probabilité que chaque tumeur soit cancéreuse.\n",
        "\n",
        "Exemple\n",
        "Voir l'exemple entier en action :"
      ],
      "metadata": {
        "id": "carsLQK1yDAX"
      }
    },
    {
      "cell_type": "code",
      "source": [
        "import numpy\n",
        "from sklearn import linear_model\n",
        "\n",
        "X = numpy.array([3.78, 2.44, 2.09, 0.14, 1.72, 1.65, 4.92, 4.37, 4.96, 4.52, 3.69, 5.88]).reshape(-1,1)\n",
        "y = numpy.array([0, 0, 0, 0, 0, 0, 1, 1, 1, 1, 1, 1])\n",
        "\n",
        "logr = linear_model.LogisticRegression()\n",
        "logr.fit(X,y)\n",
        "\n",
        "def logit2prob(logr, X):\n",
        "  log_odds = logr.coef_ * X + logr.intercept_\n",
        "  odds = numpy.exp(log_odds)\n",
        "  probability = odds / (1 + odds)\n",
        "  return(probability)\n",
        "\n",
        "print(logit2prob(logr, X))"
      ],
      "metadata": {
        "colab": {
          "base_uri": "https://localhost:8080/"
        },
        "id": "vyIW7N61yEl9",
        "outputId": "73c77320-2ff4-4330-eae9-6a71c30a2103"
      },
      "execution_count": 44,
      "outputs": [
        {
          "output_type": "stream",
          "name": "stdout",
          "text": [
            "[[0.60749955]\n",
            " [0.19268876]\n",
            " [0.12775886]\n",
            " [0.00955221]\n",
            " [0.08038616]\n",
            " [0.07345637]\n",
            " [0.88362743]\n",
            " [0.77901378]\n",
            " [0.88924409]\n",
            " [0.81293497]\n",
            " [0.57719129]\n",
            " [0.96664243]]\n"
          ]
        }
      ]
    },
    {
      "cell_type": "markdown",
      "source": [
        "Résultats expliqués\n",
        "3,78 0,61 La probabilité qu'une tumeur de 3,78 cm soit cancéreuse est de 61 %.\n",
        "\n",
        "2,44 0,19 La probabilité qu'une tumeur de 2,44 cm soit cancéreuse est de 19 %.\n",
        "\n",
        "2,09 0,13 La probabilité qu'une tumeur de 2,09 cm soit cancéreuse est de 13 %."
      ],
      "metadata": {
        "id": "sq4TgnpsyOui"
      }
    }
  ]
}