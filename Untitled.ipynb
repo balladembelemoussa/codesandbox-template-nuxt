{
  "nbformat": 4,
  "nbformat_minor": 0,
  "metadata": {
    "colab": {
      "provenance": [],
      "toc_visible": true,
      "authorship_tag": "ABX9TyO19pgtUZ5wPQv28cPgiUM4",
      "include_colab_link": true
    },
    "kernelspec": {
      "name": "python3",
      "display_name": "Python 3"
    },
    "language_info": {
      "name": "python"
    }
  },
  "cells": [
    {
      "cell_type": "markdown",
      "metadata": {
        "id": "view-in-github",
        "colab_type": "text"
      },
      "source": [
        "<a href=\"https://colab.research.google.com/github/balladembelemoussa/codesandbox-template-nuxt/blob/main/Untitled.ipynb\" target=\"_parent\"><img src=\"https://colab.research.google.com/assets/colab-badge.svg\" alt=\"Open In Colab\"/></a>"
      ]
    },
    {
      "cell_type": "code",
      "source": [
        ">>> import matplotlib.pyplot as plt\n",
        ">>> x = [1,2,3,4]\n",
        ">>> y = [10,20,25,30]\n",
        ">>> fig = plt.figure()\n",
        ">>> ax = fig.add_subplot(111)\n",
        ">>> ax.plot(x, y, color='lightblue', linewidth=3)\n",
        ">>> ax.scatter([2,4,6],\n",
        " [5,15,25],\n",
        " color='darkgreen',\n",
        " marker='^')\n",
        ">>> ax.set_xlim(1, 6.5)\n",
        ">>> plt.savefig('foo.png')\n",
        ">>> plt.show()"
      ],
      "metadata": {
        "colab": {
          "base_uri": "https://localhost:8080/",
          "height": 265
        },
        "id": "kdy7HOB_bB7g",
        "outputId": "a28e6935-b2c1-4944-9233-434c9394b30a"
      },
      "execution_count": 4,
      "outputs": [
        {
          "output_type": "display_data",
          "data": {
            "text/plain": [
              "<Figure size 432x288 with 1 Axes>"
            ],
            "image/png": "[encoded data removed]"
          },
          "metadata": {
            "needs_background": "light"
          }
        }
      ]
    }
  ]
}