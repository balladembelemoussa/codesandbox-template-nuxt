{
  "nbformat": 4,
  "nbformat_minor": 0,
  "metadata": {
    "colab": {
      "provenance": [],
      "toc_visible": true,
      "authorship_tag": "ABX9TyPGvR/TAxt06KK7KLedp4GE",
      "include_colab_link": true
    },
    "kernelspec": {
      "name": "python3",
      "display_name": "Python 3"
    },
    "language_info": {
      "name": "python"
    }
  },
  "cells": [
    {
      "cell_type": "markdown",
      "metadata": {
        "id": "view-in-github",
        "colab_type": "text"
      },
      "source": [
        "<a href=\"https://colab.research.google.com/github/balladembelemoussa/codesandbox-template-nuxt/blob/main/Untitled.ipynb\" target=\"_parent\"><img src=\"https://colab.research.google.com/assets/colab-badge.svg\" alt=\"Open In Colab\"/></a>"
      ]
    },
    {
      "cell_type": "code",
      "source": [
        "import pandas as pd"
      ],
      "metadata": {
        "id": "UPNmWNzflhxC"
      },
      "execution_count": 53,
      "outputs": []
    },
    {
      "cell_type": "code",
      "source": [
        "notes = {\"Mathématiques\": 19, \"Français\": 12, \"Dessin\": 15}\n",
        "ser = pd.Series(notes)\n",
        "\n",
        "print(ser)\n",
        "\n",
        "print (ser.index) #affiche l'index de la série\n",
        "\n",
        "print (ser.array) #affiche la data de la série\n",
        "\n",
        "print(\"Meilleure note {}\".format(ser[\"Mathématiques\"]))\n",
        "\n",
        "#vérifie si l'étiquette Sciences Physiques est présente dans l'index \n",
        "a = \"Sciences Physiques\" in ser \n",
        "\n",
        "print(a)"
      ],
      "metadata": {
        "colab": {
          "base_uri": "https://localhost:8080/"
        },
        "id": "KA_CEFaWljtj",
        "outputId": "2e6bd474-5327-4518-c1a5-5c37126e3361"
      },
      "execution_count": 54,
      "outputs": [
        {
          "output_type": "stream",
          "name": "stdout",
          "text": [
            "Mathématiques    19\n",
            "Français         12\n",
            "Dessin           15\n",
            "dtype: int64\n",
            "Index(['Mathématiques', 'Français', 'Dessin'], dtype='object')\n",
            "<PandasArray>\n",
            "[19, 12, 15]\n",
            "Length: 3, dtype: int64\n",
            "Meilleure note 19\n",
            "False\n"
          ]
        }
      ]
    },
    {
      "cell_type": "code",
      "source": [
        "notes = {\"Mathématiques\": 19, \"Français\": 12, \"Dessin\": 15}\n",
        "ser = pd.Series(notes, index=[\"Mathématiques\", \"Français\", \"Sciences Physiques\", \"Dessin\" ])\n",
        "ser"
      ],
      "metadata": {
        "colab": {
          "base_uri": "https://localhost:8080/"
        },
        "id": "SiUoSXh7lq6k",
        "outputId": "707339b1-503a-427d-8479-8fff966832c8"
      },
      "execution_count": 55,
      "outputs": [
        {
          "output_type": "execute_result",
          "data": {
            "text/plain": [
              "Mathématiques         19.0\n",
              "Français              12.0\n",
              "Sciences Physiques     NaN\n",
              "Dessin                15.0\n",
              "dtype: float64"
            ]
          },
          "metadata": {},
          "execution_count": 55
        }
      ]
    },
    {
      "cell_type": "code",
      "source": [
        "import numpy as np"
      ],
      "metadata": {
        "id": "U8v0J0J7l8bN"
      },
      "execution_count": 56,
      "outputs": []
    },
    {
      "cell_type": "code",
      "source": [
        "ser = pd.Series(np.array([67060000, 83020000, 328200000]), index=[\"France\", \"Allemagne\", \"Etats-Unis\"])\n",
        "ser"
      ],
      "metadata": {
        "colab": {
          "base_uri": "https://localhost:8080/"
        },
        "id": "UrF4LPeBl-S3",
        "outputId": "58762c32-a78e-47ba-9bfc-238232f4c456"
      },
      "execution_count": 57,
      "outputs": [
        {
          "output_type": "execute_result",
          "data": {
            "text/plain": [
              "France         67060000\n",
              "Allemagne      83020000\n",
              "Etats-Unis    328200000\n",
              "dtype: int64"
            ]
          },
          "metadata": {},
          "execution_count": 57
        }
      ]
    },
    {
      "cell_type": "code",
      "source": [
        "ser = pd.Series(5.0, index=[\"a\", \"b\", \"c\", \"d\"])\n",
        "ser"
      ],
      "metadata": {
        "colab": {
          "base_uri": "https://localhost:8080/"
        },
        "id": "wKNnDQIWmEvz",
        "outputId": "4232adb5-7a02-4eb5-f796-6927feba9aad"
      },
      "execution_count": 58,
      "outputs": [
        {
          "output_type": "execute_result",
          "data": {
            "text/plain": [
              "a    5.0\n",
              "b    5.0\n",
              "c    5.0\n",
              "d    5.0\n",
              "dtype: float64"
            ]
          },
          "metadata": {},
          "execution_count": 58
        }
      ]
    },
    {
      "cell_type": "code",
      "source": [
        "data = np.array([67060000, 83020000, 328200000])\n",
        "ser = pd.Series(data, index=[\"France\", \"Allemagne\", \"Etats-Unis\"], name=\"Série nombre d'habitants\")\n",
        "ser"
      ],
      "metadata": {
        "colab": {
          "base_uri": "https://localhost:8080/"
        },
        "id": "B-qq7CANmMce",
        "outputId": "ce94b4a6-dada-474d-d856-d39b533a62aa"
      },
      "execution_count": 59,
      "outputs": [
        {
          "output_type": "execute_result",
          "data": {
            "text/plain": [
              "France         67060000\n",
              "Allemagne      83020000\n",
              "Etats-Unis    328200000\n",
              "Name: Série nombre d'habitants, dtype: int64"
            ]
          },
          "metadata": {},
          "execution_count": 59
        }
      ]
    },
    {
      "cell_type": "code",
      "source": [
        "data = np.array([67060000, 83020000, 328200000])\n",
        "ser = pd.Series(data, index=[\"France\", \"Allemagne\", \"Etats-Unis\"], name=\"Série nombre d'habitants\")\n",
        "print(ser)\n",
        "\n",
        "ser2 = ser.rename(\"Nb habitants\") #ser et ser2 sont deux objets différents\n",
        "\n",
        "print(ser2) "
      ],
      "metadata": {
        "colab": {
          "base_uri": "https://localhost:8080/"
        },
        "id": "dcONVSDbmWaF",
        "outputId": "97d1398a-88c9-4957-dd73-3ca6a7e63e1b"
      },
      "execution_count": 60,
      "outputs": [
        {
          "output_type": "stream",
          "name": "stdout",
          "text": [
            "France         67060000\n",
            "Allemagne      83020000\n",
            "Etats-Unis    328200000\n",
            "Name: Série nombre d'habitants, dtype: int64\n",
            "France         67060000\n",
            "Allemagne      83020000\n",
            "Etats-Unis    328200000\n",
            "Name: Nb habitants, dtype: int64\n"
          ]
        }
      ]
    }
  ]
}