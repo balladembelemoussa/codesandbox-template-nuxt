{
  "nbformat": 4,
  "nbformat_minor": 0,
  "metadata": {
    "colab": {
      "provenance": [],
      "authorship_tag": "ABX9TyOt0G4IJFrZJbmIHrrDW3xG",
      "include_colab_link": true
    },
    "kernelspec": {
      "name": "python3",
      "display_name": "Python 3"
    },
    "language_info": {
      "name": "python"
    }
  },
  "cells": [
    {
      "cell_type": "markdown",
      "metadata": {
        "id": "view-in-github",
        "colab_type": "text"
      },
      "source": [
        "<a href=\"https://colab.research.google.com/github/balladembelemoussa/codesandbox-template-nuxt/blob/main/Machine_Learning_K_plus_proches_voisins_(KNN).ipynb\" target=\"_parent\"><img src=\"https://colab.research.google.com/assets/colab-badge.svg\" alt=\"Open In Colab\"/></a>"
      ]
    },
    {
      "cell_type": "code",
      "execution_count": null,
      "metadata": {
        "id": "iAMegOArQ3w4"
      },
      "outputs": [],
      "source": []
    },
    {
      "cell_type": "markdown",
      "source": [
        "**Machine Learning - K-plus proches voisins (KNN)**"
      ],
      "metadata": {
        "id": "hW4XbEuqQ7yC"
      }
    },
    {
      "cell_type": "markdown",
      "source": [
        "KN\n",
        "KNN est un algorithme d'apprentissage automatique (ML) simple et supervisé qui peut être utilisé pour des tâches de classification ou de régression - et est également fréquemment utilisé dans l'imputation des valeurs manquantes. Il est basé sur l'idée que les observations les plus proches d'un point de données donné sont les observations les plus \"similaires\" dans un ensemble de données, et nous pouvons donc classer les points imprévus en fonction des valeurs des points existants les plus proches. En choisissant K , l'utilisateur peut sélectionner le nombre d'observations proches à utiliser dans l'algorithme.\n",
        "\n",
        "Ici, nous allons vous montrer comment implémenter l'algorithme KNN pour la classification et montrer comment différentes valeurs de K affectent les résultats.\n",
        "\n",
        "Comment ça marche?\n",
        "K est le nombre de plus proches voisins à utiliser. Pour la classification, un vote à la majorité est utilisé pour déterminer à quelle classe une nouvelle observation doit appartenir. Des valeurs plus élevées de K sont souvent plus robustes aux valeurs aberrantes et produisent des limites de décision plus stables que de très petites valeurs ( K = 3 serait mieux que K = 1 , ce qui pourrait produire des résultats indésirables.\n",
        "\n",
        "Exemple\n",
        "Commencez par visualiser quelques points de données :"
      ],
      "metadata": {
        "id": "nMIQLQoBRCF4"
      }
    },
    {
      "cell_type": "code",
      "source": [
        "import matplotlib.pyplot as plt\n",
        "\n",
        "x = [4, 5, 10, 4, 3, 11, 14 , 8, 10, 12]\n",
        "y = [21, 19, 24, 17, 16, 25, 24, 22, 21, 21]\n",
        "classes = [0, 0, 1, 0, 0, 1, 1, 0, 1, 1]\n",
        "\n",
        "plt.scatter(x, y, c=classes)\n",
        "plt.show()"
      ],
      "metadata": {
        "colab": {
          "base_uri": "https://localhost:8080/",
          "height": 265
        },
        "id": "O-flwngWRGTT",
        "outputId": "b050e7a9-4a1b-458e-aec5-f19167c1646f"
      },
      "execution_count": 1,
      "outputs": [
        {
          "output_type": "display_data",
          "data": {
            "text/plain": [
              "<Figure size 432x288 with 1 Axes>"
            ],
            "image/png": "[encoded data removed]"
          },
          "metadata": {
            "needs_background": "light"
          }
        }
      ]
    },
    {
      "cell_type": "markdown",
      "source": [
        "**Maintenant, nous adaptons l'algorithme KNN avec K=1 **"
      ],
      "metadata": {
        "id": "tb4k8AbYRToV"
      }
    },
    {
      "cell_type": "code",
      "source": [
        "from sklearn.neighbors import KNeighborsClassifier\n",
        "\n",
        "data = list(zip(x, y))\n",
        "knn = KNeighborsClassifier(n_neighbors=1)\n",
        "\n",
        "knn.fit(data, classes)"
      ],
      "metadata": {
        "colab": {
          "base_uri": "https://localhost:8080/"
        },
        "id": "LZoKEt0hRXkx",
        "outputId": "d006e39e-0d00-4a7f-d67b-cebe55283ee8"
      },
      "execution_count": 2,
      "outputs": [
        {
          "output_type": "execute_result",
          "data": {
            "text/plain": [
              "KNeighborsClassifier(n_neighbors=1)"
            ]
          },
          "metadata": {},
          "execution_count": 2
        }
      ]
    },
    {
      "cell_type": "markdown",
      "source": [
        "Et utilisez-le pour classer un nouveau point de données :\n",
        "**Exemple**"
      ],
      "metadata": {
        "id": "NFSxSw-BRbBl"
      }
    },
    {
      "cell_type": "code",
      "source": [
        "new_x = 8\n",
        "new_y = 21\n",
        "new_point = [(new_x, new_y)]\n",
        "\n",
        "prediction = knn.predict(new_point)\n",
        "\n",
        "plt.scatter(x + [new_x], y + [new_y], c=classes + [prediction[0]])\n",
        "plt.text(x=new_x-1.7, y=new_y-0.7, s=f\"new point, class: {prediction[0]}\")\n",
        "plt.show()"
      ],
      "metadata": {
        "colab": {
          "base_uri": "https://localhost:8080/",
          "height": 265
        },
        "id": "coN_yxPJRh-O",
        "outputId": "bec6d3cd-e723-4f67-bd40-d3cf7e54397f"
      },
      "execution_count": 3,
      "outputs": [
        {
          "output_type": "display_data",
          "data": {
            "text/plain": [
              "<Figure size 432x288 with 1 Axes>"
            ],
            "image/png": "[encoded data removed]"
          },
          "metadata": {
            "needs_background": "light"
          }
        }
      ]
    },
    {
      "cell_type": "markdown",
      "source": [
        "Maintenant on fait la même chose, mais avec une valeur K plus élevée qui change la prédiction :\n",
        "\n",
        "**Exemple**"
      ],
      "metadata": {
        "id": "WOifQROcRsWL"
      }
    },
    {
      "cell_type": "code",
      "source": [
        "knn = KNeighborsClassifier(n_neighbors=5)\n",
        "\n",
        "knn.fit(data, classes)\n",
        "\n",
        "prediction = knn.predict(new_point)\n",
        "\n",
        "plt.scatter(x + [new_x], y + [new_y], c=classes + [prediction[0]])\n",
        "plt.text(x=new_x-1.7, y=new_y-0.7, s=f\"new point, class: {prediction[0]}\")\n",
        "plt.show()"
      ],
      "metadata": {
        "colab": {
          "base_uri": "https://localhost:8080/",
          "height": 265
        },
        "id": "6APpLsBgRy-R",
        "outputId": "aff2a66e-895b-4156-8fd3-a2fb528c6f27"
      },
      "execution_count": 4,
      "outputs": [
        {
          "output_type": "display_data",
          "data": {
            "text/plain": [
              "<Figure size 432x288 with 1 Axes>"
            ],
            "image/png": "[encoded data removed]"
          },
          "metadata": {
            "needs_background": "light"
          }
        }
      ]
    },
    {
      "cell_type": "markdown",
      "source": [
        "Exemple expliqué\n",
        "Importez les modules dont vous avez besoin.\n",
        "\n",
        "Vous pouvez en savoir plus sur le module Matplotlib dans notre \" Tutoriel Matplotlib .\n",
        "\n",
        "scikit-learn est une bibliothèque populaire pour l'apprentissage automatique en Python."
      ],
      "metadata": {
        "id": "IjO0lkzmR7l0"
      }
    },
    {
      "cell_type": "code",
      "source": [
        "import matplotlib.pyplot as plt\n",
        "from sklearn.neighbors import KNeighborsClassifier"
      ],
      "metadata": {
        "id": "CRghwq4nR_IP"
      },
      "execution_count": 5,
      "outputs": []
    },
    {
      "cell_type": "markdown",
      "source": [
        "Créez des tableaux qui ressemblent à des variables dans un ensemble de données. Nous avons deux entités en entrée ( xet y) puis une classe cible ( class). Les entités en entrée qui sont pré-étiquetées avec notre classe cible seront utilisées pour prédire la classe des nouvelles données. Notez que bien que nous n'utilisions ici que deux caractéristiques d'entrée, cette méthode fonctionnera avec n'importe quel nombre de variables :"
      ],
      "metadata": {
        "id": "lXBrHG2fSELs"
      }
    },
    {
      "cell_type": "code",
      "source": [
        "x = [4, 5, 10, 4, 3, 11, 14 , 8, 10, 12]\n",
        "y = [21, 19, 24, 17, 16, 25, 24, 22, 21, 21]\n",
        "classes = [0, 0, 1, 0, 0, 1, 1, 0, 1, 1]"
      ],
      "metadata": {
        "id": "0b192cQ1SHMF"
      },
      "execution_count": 6,
      "outputs": []
    },
    {
      "cell_type": "markdown",
      "source": [
        "Transformez les entités en entrée en un ensemble de points :"
      ],
      "metadata": {
        "id": "ujsPyL4WSMe3"
      }
    },
    {
      "cell_type": "code",
      "source": [
        "data = list(zip(x, y))\n",
        "print(data)"
      ],
      "metadata": {
        "colab": {
          "base_uri": "https://localhost:8080/"
        },
        "id": "VydCBcuoSLq1",
        "outputId": "beb5239f-c6ae-4125-a474-821aa65636fa"
      },
      "execution_count": 7,
      "outputs": [
        {
          "output_type": "stream",
          "name": "stdout",
          "text": [
            "[(4, 21), (5, 19), (10, 24), (4, 17), (3, 16), (11, 25), (14, 24), (8, 22), (10, 21), (12, 21)]\n"
          ]
        }
      ]
    },
    {
      "cell_type": "markdown",
      "source": [
        "En utilisant les entités d'entrée et la classe cible, nous ajustons un modèle KNN sur le modèle en utilisant 1 plus proche voisin :"
      ],
      "metadata": {
        "id": "-PZsqLViSY8p"
      }
    },
    {
      "cell_type": "code",
      "source": [
        "knn = KNeighborsClassifier(n_neighbors=1)\n",
        "knn.fit(data, classes)"
      ],
      "metadata": {
        "colab": {
          "base_uri": "https://localhost:8080/"
        },
        "id": "6LNcLuCxSXIw",
        "outputId": "59271c64-ebd5-4eef-d06b-f85dcd105f85"
      },
      "execution_count": 8,
      "outputs": [
        {
          "output_type": "execute_result",
          "data": {
            "text/plain": [
              "KNeighborsClassifier(n_neighbors=1)"
            ]
          },
          "metadata": {},
          "execution_count": 8
        }
      ]
    },
    {
      "cell_type": "markdown",
      "source": [
        "Ensuite, nous pouvons utiliser le même objet KNN pour prédire la classe de nouveaux points de données imprévus. Nous créons d'abord de nouvelles entités x et y, puis appelons knn.predict()le nouveau point de données pour obtenir une classe de 0 ou 1 :"
      ],
      "metadata": {
        "id": "R9rPlrMOShnB"
      }
    },
    {
      "cell_type": "code",
      "source": [
        "new_x = 8\n",
        "new_y = 21\n",
        "new_point = [(new_x, new_y)]\n",
        "prediction = knn.predict(new_point)\n",
        "print(prediction)"
      ],
      "metadata": {
        "colab": {
          "base_uri": "https://localhost:8080/"
        },
        "id": "BQDZiO2gSi73",
        "outputId": "422e6b83-c484-4f9e-ca95-2e3e3dcee692"
      },
      "execution_count": 9,
      "outputs": [
        {
          "output_type": "stream",
          "name": "stdout",
          "text": [
            "[0]\n"
          ]
        }
      ]
    },
    {
      "cell_type": "markdown",
      "source": [
        "Lorsque nous traçons toutes les données avec le nouveau point et la nouvelle classe, nous pouvons voir qu'elles ont été étiquetées en bleu avec la 1classe. L'annotation textuelle sert uniquement à mettre en évidence l'emplacement du nouveau point :"
      ],
      "metadata": {
        "id": "fbMxLyoeSu4j"
      }
    },
    {
      "cell_type": "code",
      "source": [
        "plt.scatter(x + [new_x], y + [new_y], c=classes + [prediction[0]])\n",
        "plt.text(x=new_x-1.7, y=new_y-0.7, s=f\"new point, class: {prediction[0]}\")\n",
        "plt.show()"
      ],
      "metadata": {
        "colab": {
          "base_uri": "https://localhost:8080/",
          "height": 265
        },
        "id": "XW9jkZZMSzJz",
        "outputId": "55f4d14b-6fe5-4d70-8cea-8e61ae60e784"
      },
      "execution_count": 10,
      "outputs": [
        {
          "output_type": "display_data",
          "data": {
            "text/plain": [
              "<Figure size 432x288 with 1 Axes>"
            ],
            "image/png": "[encoded data removed]"
          },
          "metadata": {
            "needs_background": "light"
          }
        }
      ]
    },
    {
      "cell_type": "markdown",
      "source": [
        "Cependant, lorsque nous changeons le nombre de voisins à 5, le nombre de points utilisés pour classer notre nouveau point change. En conséquence, la classification du nouveau point fait de même :"
      ],
      "metadata": {
        "id": "Yk0p_NMCS4PN"
      }
    },
    {
      "cell_type": "code",
      "source": [
        "knn = KNeighborsClassifier(n_neighbors=5)\n",
        "knn.fit(data, classes)\n",
        "prediction = knn.predict(new_point)\n",
        "print(prediction)"
      ],
      "metadata": {
        "colab": {
          "base_uri": "https://localhost:8080/"
        },
        "id": "_joSgERYS7UF",
        "outputId": "5e66ca40-6a74-42bc-a521-d6684a627e1f"
      },
      "execution_count": 11,
      "outputs": [
        {
          "output_type": "stream",
          "name": "stdout",
          "text": [
            "[1]\n"
          ]
        }
      ]
    },
    {
      "cell_type": "markdown",
      "source": [
        "Lorsque nous traçons la classe du nouveau point avec les anciens points, nous remarquons que la couleur a changé en fonction de l'étiquette de classe associée :"
      ],
      "metadata": {
        "id": "C9Zd4TohTD56"
      }
    },
    {
      "cell_type": "code",
      "source": [
        "plt.scatter(x + [new_x], y + [new_y], c=classes + [prediction[0]])\n",
        "plt.text(x=new_x-1.7, y=new_y-0.7, s=f\"new point, class: {prediction[0]}\")\n",
        "plt.show()"
      ],
      "metadata": {
        "colab": {
          "base_uri": "https://localhost:8080/",
          "height": 265
        },
        "id": "5S8bNlktTFDx",
        "outputId": "6f9c455b-d140-4666-dc82-3629a0045f30"
      },
      "execution_count": 12,
      "outputs": [
        {
          "output_type": "display_data",
          "data": {
            "text/plain": [
              "<Figure size 432x288 with 1 Axes>"
            ],
            "image/png": "[encoded data removed]"
          },
          "metadata": {
            "needs_background": "light"
          }
        }
      ]
    }
  ]
}